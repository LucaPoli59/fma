{
 "cells": [
  {
   "cell_type": "code",
   "execution_count": 3,
   "metadata": {
    "ExecuteTime": {
     "end_time": "2023-07-05T16:44:24.167001300Z",
     "start_time": "2023-07-05T16:44:24.151997800Z"
    }
   },
   "outputs": [],
   "source": [
    "import pandas as pd\n",
    "import numpy as np"
   ]
  },
  {
   "attachments": {},
   "cell_type": "markdown",
   "metadata": {},
   "source": [
    "Read raw data file"
   ]
  },
  {
   "cell_type": "code",
   "execution_count": 4,
   "metadata": {
    "pycharm": {
     "is_executing": true
    },
    "ExecuteTime": {
     "end_time": "2023-07-05T16:45:06.949999Z",
     "start_time": "2023-07-05T16:44:25.540003600Z"
    }
   },
   "outputs": [],
   "source": [
    "data = pd.read_excel('data/data_raw.xlsx', header=None, index_col=False)"
   ]
  },
  {
   "attachments": {},
   "cell_type": "markdown",
   "metadata": {},
   "source": [
    "Preproccesing data"
   ]
  },
  {
   "cell_type": "code",
   "execution_count": 5,
   "metadata": {
    "collapsed": false,
    "ExecuteTime": {
     "end_time": "2023-07-05T16:45:21.348372300Z",
     "start_time": "2023-07-05T16:45:06.957000700Z"
    }
   },
   "outputs": [],
   "source": [
    "date = data.iloc[1, 1:]\n",
    "\n",
    "equity = data.iloc[::43, 0]\n",
    "data['equity'] = equity.reindex_like(data.drop(equity.index), method='ffill')\n",
    "\n",
    "data = data.loc[~(data.loc[:, 0] == 'Date')]\n",
    "data = data.rename(columns={0: 'factor'})\n",
    "\n",
    "data['equity'] = data['equity'].str.rsplit(\" \", n=1, expand=True)[0]\n",
    "data = data.set_index(['equity', 'factor'])\n",
    "data.columns = date.values\n",
    "data.columns.name = 'date'\n",
    "\n",
    "data = data.loc[data.index.dropna()]\n",
    "data = data.transpose().stack(0).swaplevel(0, 1).sort_index()\n",
    "data.columns.name=\"factor\"\n",
    "\n",
    "# vado a settare le date uguali per ogni equity\n",
    "data = data.reindex(pd.MultiIndex.from_product([data.index.get_level_values(0).unique(),\n",
    "                                                data.index.get_level_values(1).unique()], names=data.index.names))\n",
    "\n",
    "# vado a traslare le date in modo che i valori nulli siano all'inizio e non alla fine\n",
    "data = data.groupby(level=0, group_keys=False).apply(lambda equity_df: equity_df.apply(\n",
    "    lambda factor: np.roll(factor.values, factor.isna().sum())))"
   ]
  },
  {
   "attachments": {},
   "cell_type": "markdown",
   "metadata": {},
   "source": [
    "2 righe di merda che erano in parte_uno"
   ]
  },
  {
   "cell_type": "code",
   "execution_count": 6,
   "metadata": {
    "ExecuteTime": {
     "end_time": "2023-07-05T16:45:24.368371200Z",
     "start_time": "2023-07-05T16:45:21.351373Z"
    }
   },
   "outputs": [],
   "source": [
    "data = data.drop(data.groupby(level=0).filter(lambda equity: (equity.isna().sum(axis=1) == len(equity.columns)).any()).index)\n",
    "data = data.drop(data.groupby(level=0).filter(lambda equity: equity['PX_LAST'].eq(0).any()).index).reset_index()"
   ]
  },
  {
   "attachments": {},
   "cell_type": "markdown",
   "metadata": {},
   "source": [
    "Save file preprocessed"
   ]
  },
  {
   "cell_type": "code",
   "execution_count": 7,
   "metadata": {
    "collapsed": false,
    "ExecuteTime": {
     "end_time": "2023-07-05T16:45:26.327371900Z",
     "start_time": "2023-07-05T16:45:24.374377200Z"
    }
   },
   "outputs": [],
   "source": [
    "data.to_csv('data/data.csv')"
   ]
  },
  {
   "cell_type": "code",
   "execution_count": null,
   "outputs": [],
   "source": [],
   "metadata": {
    "collapsed": false
   }
  }
 ],
 "metadata": {
  "kernelspec": {
   "display_name": "Python 3",
   "language": "python",
   "name": "python3"
  },
  "language_info": {
   "codemirror_mode": {
    "name": "ipython",
    "version": 3
   },
   "file_extension": ".py",
   "mimetype": "text/x-python",
   "name": "python",
   "nbconvert_exporter": "python",
   "pygments_lexer": "ipython3",
   "version": "3.10.11"
  }
 },
 "nbformat": 4,
 "nbformat_minor": 0
}
