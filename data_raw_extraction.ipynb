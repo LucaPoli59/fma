{
 "cells": [
  {
   "cell_type": "code",
   "execution_count": 24,
   "metadata": {
    "ExecuteTime": {
     "end_time": "2023-06-20T20:17:32.609783Z",
     "start_time": "2023-06-20T20:17:32.594692Z"
    }
   },
   "outputs": [],
   "source": [
    "import pandas as pd\n",
    "import numpy as np"
   ]
  },
  {
   "attachments": {},
   "cell_type": "markdown",
   "metadata": {},
   "source": [
    "Read raw data file"
   ]
  },
  {
   "cell_type": "code",
   "execution_count": null,
   "metadata": {
    "ExecuteTime": {
     "end_time": "2023-06-20T20:12:11.942746Z",
     "start_time": "2023-06-20T20:11:35.974115Z"
    },
    "pycharm": {
     "is_executing": true
    }
   },
   "outputs": [],
   "source": [
    "data = pd.read_excel('data/data_raw.xlsx', header=None, index_col=False)"
   ]
  },
  {
   "attachments": {},
   "cell_type": "markdown",
   "metadata": {},
   "source": [
    "Preproccesing data"
   ]
  },
  {
   "cell_type": "code",
   "execution_count": 26,
   "metadata": {
    "ExecuteTime": {
     "end_time": "2023-06-20T20:18:20.630589Z",
     "start_time": "2023-06-20T20:18:11.771976Z"
    },
    "collapsed": false
   },
   "outputs": [],
   "source": [
    "date = data.iloc[1, 1:]\n",
    "\n",
    "equity = data.iloc[::43, 0]\n",
    "data['equity'] = equity.reindex_like(data.drop(equity.index), method='ffill')\n",
    "\n",
    "data = data.loc[~(data.loc[:, 0] == 'Date')]\n",
    "data = data.rename(columns={0: 'factor'})\n",
    "\n",
    "data['equity'] = data['equity'].str.rsplit(\" \", n=1, expand=True)[0]\n",
    "data = data.set_index(['equity', 'factor'])\n",
    "data.columns = date.values\n",
    "data.columns.name = 'date'\n",
    "\n",
    "data = data.loc[data.index.dropna()]\n",
    "data = data.transpose().stack(0).swaplevel(0, 1).sort_index()\n",
    "data.columns.name=\"factor\"\n",
    "\n",
    "# vado a settare le date uguali per ogni equity\n",
    "data = data.reindex(pd.MultiIndex.from_product([data.index.get_level_values(0).unique(),\n",
    "                                                data.index.get_level_values(1).unique()], names=data.index.names))\n",
    "\n",
    "# vado a traslare le date in modo che i valori nulli siano all'inizio e non alla fine\n",
    "data = data.groupby(level=0, group_keys=False).apply(lambda equity_df: equity_df.apply(\n",
    "    lambda factor: np.roll(factor.values, factor.isna().sum())))"
   ]
  },
  {
   "attachments": {},
   "cell_type": "markdown",
   "metadata": {},
   "source": [
    "2 righe di merda che erano in parte_uno"
   ]
  },
  {
   "cell_type": "code",
   "execution_count": null,
   "metadata": {},
   "outputs": [],
   "source": [
    "data = data.drop(data.groupby(level=0).filter(lambda equity: (equity.isna().sum(axis=1) == len(equity.columns)).any()).index)\n",
    "data = data.drop(data.groupby(level=0).filter(lambda equity: equity['PX_LAST'].eq(0).any()).index).reset_index()"
   ]
  },
  {
   "attachments": {},
   "cell_type": "markdown",
   "metadata": {},
   "source": [
    "Save file preprocessed"
   ]
  },
  {
   "cell_type": "code",
   "execution_count": 27,
   "metadata": {
    "ExecuteTime": {
     "end_time": "2023-06-20T20:18:23.594102Z",
     "start_time": "2023-06-20T20:18:20.630589Z"
    },
    "collapsed": false
   },
   "outputs": [],
   "source": [
    "data.to_csv('data/data.csv')"
   ]
  }
 ],
 "metadata": {
  "kernelspec": {
   "display_name": "Python 3",
   "language": "python",
   "name": "python3"
  },
  "language_info": {
   "codemirror_mode": {
    "name": "ipython",
    "version": 3
   },
   "file_extension": ".py",
   "mimetype": "text/x-python",
   "name": "python",
   "nbconvert_exporter": "python",
   "pygments_lexer": "ipython3",
   "version": "3.10.11"
  }
 },
 "nbformat": 4,
 "nbformat_minor": 0
}
