{
 "cells": [
  {
   "cell_type": "code",
   "execution_count": 19,
   "metadata": {
    "collapsed": true,
    "ExecuteTime": {
     "end_time": "2024-02-18T12:27:44.519049500Z",
     "start_time": "2024-02-18T12:27:44.301052400Z"
    }
   },
   "outputs": [],
   "source": [
    "import pandas as pd\n",
    "import numba\n",
    "import numpy as np\n",
    "from scipy.stats import zscore\n",
    "import pandas_datareader as web\n",
    "import os\n",
    "import pickle\n",
    "from constants import DATA_PATH, OUTPUT_PATH"
   ]
  },
  {
   "cell_type": "code",
   "execution_count": 20,
   "outputs": [],
   "source": [
    "df = pd.read_csv(os.path.join(DATA_PATH, 'data.csv')).set_index(['equity', 'date'])"
   ],
   "metadata": {
    "collapsed": false,
    "ExecuteTime": {
     "end_time": "2024-02-18T12:27:44.975048200Z",
     "start_time": "2024-02-18T12:27:44.359050900Z"
    }
   }
  },
  {
   "cell_type": "code",
   "execution_count": 21,
   "outputs": [],
   "source": [
    "rfr = web.get_data_fred(\"IRLTLT01EZM156N\", df.index.get_level_values('date').min(), df.index.get_level_values('date').max()).div(100)\n",
    "rfr = pd.Series(index=df.index.get_level_values('date').unique()[1:], data=rfr.values[:, 0], name='risk_free_rate')"
   ],
   "metadata": {
    "collapsed": false,
    "ExecuteTime": {
     "end_time": "2024-02-18T12:27:45.230049200Z",
     "start_time": "2024-02-18T12:27:44.945051Z"
    }
   }
  },
  {
   "cell_type": "code",
   "execution_count": 22,
   "outputs": [],
   "source": [
    "df_prices = df['PX_LAST'].unstack(level=0).replace(0, np.nan)\n",
    "df_log_rtn = df_prices.apply(lambda x: np.log(x / x.shift(1))).dropna(how='all')\n",
    "benchmark_rtn = df_log_rtn.mean(skipna=True, axis='columns')"
   ],
   "metadata": {
    "collapsed": false,
    "ExecuteTime": {
     "end_time": "2024-02-18T12:27:45.570054600Z",
     "start_time": "2024-02-18T12:27:45.228049400Z"
    }
   }
  },
  {
   "cell_type": "code",
   "execution_count": 23,
   "outputs": [
    {
     "data": {
      "text/plain": "equity      02P GR  1BM GR  1PL GR  1VS GR  2HR GR  3W9 GR  5AB GR  9AR GR  \\\ndate                                                                         \n2003-01-31     NaN     NaN     NaN     NaN   4.121     NaN     NaN     NaN   \n2003-02-28     NaN     NaN     NaN     NaN   4.164     NaN     NaN     NaN   \n2003-03-31     NaN     NaN     NaN     NaN   4.021     NaN     NaN     NaN   \n2003-04-30     NaN     NaN     NaN     NaN   4.128     NaN     NaN     NaN   \n2003-05-30     NaN     NaN     NaN     NaN   4.156     NaN     NaN     NaN   \n...            ...     ...     ...     ...     ...     ...     ...     ...   \n2011-11-30   12.10   0.539   8.422   1.299  16.360   3.490  14.895   2.176   \n2011-12-30   11.20   0.529   8.000   1.400  16.550   3.100  14.885   2.440   \n2012-01-31   13.29   0.529  10.525   1.295  16.900   3.025  14.911   2.580   \n2012-02-29   12.44   0.529  11.805   1.122  16.010   4.270  13.500   2.720   \n2012-03-30   10.14   0.596  12.210   1.027  15.005   4.240  11.140   2.800   \n\nequity      A3TV SM  AAD GR  ...  YRM IM  YTY1V FH  ZAR GR  ZC FP  ZEL SM  \\\ndate                         ...                                            \n2003-01-31      NaN   5.500  ...     NaN     4.275   19.00  19.40  5.4020   \n2003-02-28      NaN   4.500  ...     NaN     4.175   18.25  17.40  5.5392   \n2003-03-31      NaN   3.980  ...     NaN     3.673   20.70  15.54  5.9902   \n2003-04-30      NaN   4.300  ...     NaN     4.000   19.00  20.22  6.8627   \n2003-05-30      NaN   4.100  ...     NaN     4.135   21.70  19.52  7.5980   \n...             ...     ...  ...     ...       ...     ...    ...     ...   \n2011-11-30     4.45  27.215  ...   28.25    11.910   61.50  60.72  1.5450   \n2011-12-30     4.65  26.650  ...   28.25    12.380   61.10  65.48  1.7200   \n2012-01-31     4.82  29.870  ...   28.25    14.100   60.99  68.25  1.7500   \n2012-02-29     4.50  33.095  ...   28.25    16.550   63.27  72.33  1.8400   \n2012-03-30     4.48  34.600  ...   28.25    16.120   67.20  78.07  1.6100   \n\nequity      ZIGGO NA  ZIL2 GR  ZO1 GR   ZOT SM  ZV IM  \ndate                                                   \n2003-01-31       NaN    2.417     NaN   6.1829    NaN  \n2003-02-28       NaN    2.358     NaN   6.0952    NaN  \n2003-03-31       NaN    2.425     NaN   6.1683    NaN  \n2003-04-30       NaN    3.250     NaN   6.2171    NaN  \n2003-05-30       NaN    3.500     NaN   6.8217    NaN  \n...              ...      ...     ...      ...    ...  \n2011-11-30       NaN   17.710   55.55  10.4600  4.382  \n2011-12-30       NaN   19.180   43.10  10.6000  4.508  \n2012-01-31       NaN   22.940   37.10  10.9000  4.680  \n2012-02-29       NaN   24.630   40.00  10.1200  4.982  \n2012-03-30     23.39   21.470   41.70   9.7100  5.095  \n\n[111 rows x 798 columns]",
      "text/html": "<div>\n<style scoped>\n    .dataframe tbody tr th:only-of-type {\n        vertical-align: middle;\n    }\n\n    .dataframe tbody tr th {\n        vertical-align: top;\n    }\n\n    .dataframe thead th {\n        text-align: right;\n    }\n</style>\n<table border=\"1\" class=\"dataframe\">\n  <thead>\n    <tr style=\"text-align: right;\">\n      <th>equity</th>\n      <th>02P GR</th>\n      <th>1BM GR</th>\n      <th>1PL GR</th>\n      <th>1VS GR</th>\n      <th>2HR GR</th>\n      <th>3W9 GR</th>\n      <th>5AB GR</th>\n      <th>9AR GR</th>\n      <th>A3TV SM</th>\n      <th>AAD GR</th>\n      <th>...</th>\n      <th>YRM IM</th>\n      <th>YTY1V FH</th>\n      <th>ZAR GR</th>\n      <th>ZC FP</th>\n      <th>ZEL SM</th>\n      <th>ZIGGO NA</th>\n      <th>ZIL2 GR</th>\n      <th>ZO1 GR</th>\n      <th>ZOT SM</th>\n      <th>ZV IM</th>\n    </tr>\n    <tr>\n      <th>date</th>\n      <th></th>\n      <th></th>\n      <th></th>\n      <th></th>\n      <th></th>\n      <th></th>\n      <th></th>\n      <th></th>\n      <th></th>\n      <th></th>\n      <th></th>\n      <th></th>\n      <th></th>\n      <th></th>\n      <th></th>\n      <th></th>\n      <th></th>\n      <th></th>\n      <th></th>\n      <th></th>\n      <th></th>\n    </tr>\n  </thead>\n  <tbody>\n    <tr>\n      <th>2003-01-31</th>\n      <td>NaN</td>\n      <td>NaN</td>\n      <td>NaN</td>\n      <td>NaN</td>\n      <td>4.121</td>\n      <td>NaN</td>\n      <td>NaN</td>\n      <td>NaN</td>\n      <td>NaN</td>\n      <td>5.500</td>\n      <td>...</td>\n      <td>NaN</td>\n      <td>4.275</td>\n      <td>19.00</td>\n      <td>19.40</td>\n      <td>5.4020</td>\n      <td>NaN</td>\n      <td>2.417</td>\n      <td>NaN</td>\n      <td>6.1829</td>\n      <td>NaN</td>\n    </tr>\n    <tr>\n      <th>2003-02-28</th>\n      <td>NaN</td>\n      <td>NaN</td>\n      <td>NaN</td>\n      <td>NaN</td>\n      <td>4.164</td>\n      <td>NaN</td>\n      <td>NaN</td>\n      <td>NaN</td>\n      <td>NaN</td>\n      <td>4.500</td>\n      <td>...</td>\n      <td>NaN</td>\n      <td>4.175</td>\n      <td>18.25</td>\n      <td>17.40</td>\n      <td>5.5392</td>\n      <td>NaN</td>\n      <td>2.358</td>\n      <td>NaN</td>\n      <td>6.0952</td>\n      <td>NaN</td>\n    </tr>\n    <tr>\n      <th>2003-03-31</th>\n      <td>NaN</td>\n      <td>NaN</td>\n      <td>NaN</td>\n      <td>NaN</td>\n      <td>4.021</td>\n      <td>NaN</td>\n      <td>NaN</td>\n      <td>NaN</td>\n      <td>NaN</td>\n      <td>3.980</td>\n      <td>...</td>\n      <td>NaN</td>\n      <td>3.673</td>\n      <td>20.70</td>\n      <td>15.54</td>\n      <td>5.9902</td>\n      <td>NaN</td>\n      <td>2.425</td>\n      <td>NaN</td>\n      <td>6.1683</td>\n      <td>NaN</td>\n    </tr>\n    <tr>\n      <th>2003-04-30</th>\n      <td>NaN</td>\n      <td>NaN</td>\n      <td>NaN</td>\n      <td>NaN</td>\n      <td>4.128</td>\n      <td>NaN</td>\n      <td>NaN</td>\n      <td>NaN</td>\n      <td>NaN</td>\n      <td>4.300</td>\n      <td>...</td>\n      <td>NaN</td>\n      <td>4.000</td>\n      <td>19.00</td>\n      <td>20.22</td>\n      <td>6.8627</td>\n      <td>NaN</td>\n      <td>3.250</td>\n      <td>NaN</td>\n      <td>6.2171</td>\n      <td>NaN</td>\n    </tr>\n    <tr>\n      <th>2003-05-30</th>\n      <td>NaN</td>\n      <td>NaN</td>\n      <td>NaN</td>\n      <td>NaN</td>\n      <td>4.156</td>\n      <td>NaN</td>\n      <td>NaN</td>\n      <td>NaN</td>\n      <td>NaN</td>\n      <td>4.100</td>\n      <td>...</td>\n      <td>NaN</td>\n      <td>4.135</td>\n      <td>21.70</td>\n      <td>19.52</td>\n      <td>7.5980</td>\n      <td>NaN</td>\n      <td>3.500</td>\n      <td>NaN</td>\n      <td>6.8217</td>\n      <td>NaN</td>\n    </tr>\n    <tr>\n      <th>...</th>\n      <td>...</td>\n      <td>...</td>\n      <td>...</td>\n      <td>...</td>\n      <td>...</td>\n      <td>...</td>\n      <td>...</td>\n      <td>...</td>\n      <td>...</td>\n      <td>...</td>\n      <td>...</td>\n      <td>...</td>\n      <td>...</td>\n      <td>...</td>\n      <td>...</td>\n      <td>...</td>\n      <td>...</td>\n      <td>...</td>\n      <td>...</td>\n      <td>...</td>\n      <td>...</td>\n    </tr>\n    <tr>\n      <th>2011-11-30</th>\n      <td>12.10</td>\n      <td>0.539</td>\n      <td>8.422</td>\n      <td>1.299</td>\n      <td>16.360</td>\n      <td>3.490</td>\n      <td>14.895</td>\n      <td>2.176</td>\n      <td>4.45</td>\n      <td>27.215</td>\n      <td>...</td>\n      <td>28.25</td>\n      <td>11.910</td>\n      <td>61.50</td>\n      <td>60.72</td>\n      <td>1.5450</td>\n      <td>NaN</td>\n      <td>17.710</td>\n      <td>55.55</td>\n      <td>10.4600</td>\n      <td>4.382</td>\n    </tr>\n    <tr>\n      <th>2011-12-30</th>\n      <td>11.20</td>\n      <td>0.529</td>\n      <td>8.000</td>\n      <td>1.400</td>\n      <td>16.550</td>\n      <td>3.100</td>\n      <td>14.885</td>\n      <td>2.440</td>\n      <td>4.65</td>\n      <td>26.650</td>\n      <td>...</td>\n      <td>28.25</td>\n      <td>12.380</td>\n      <td>61.10</td>\n      <td>65.48</td>\n      <td>1.7200</td>\n      <td>NaN</td>\n      <td>19.180</td>\n      <td>43.10</td>\n      <td>10.6000</td>\n      <td>4.508</td>\n    </tr>\n    <tr>\n      <th>2012-01-31</th>\n      <td>13.29</td>\n      <td>0.529</td>\n      <td>10.525</td>\n      <td>1.295</td>\n      <td>16.900</td>\n      <td>3.025</td>\n      <td>14.911</td>\n      <td>2.580</td>\n      <td>4.82</td>\n      <td>29.870</td>\n      <td>...</td>\n      <td>28.25</td>\n      <td>14.100</td>\n      <td>60.99</td>\n      <td>68.25</td>\n      <td>1.7500</td>\n      <td>NaN</td>\n      <td>22.940</td>\n      <td>37.10</td>\n      <td>10.9000</td>\n      <td>4.680</td>\n    </tr>\n    <tr>\n      <th>2012-02-29</th>\n      <td>12.44</td>\n      <td>0.529</td>\n      <td>11.805</td>\n      <td>1.122</td>\n      <td>16.010</td>\n      <td>4.270</td>\n      <td>13.500</td>\n      <td>2.720</td>\n      <td>4.50</td>\n      <td>33.095</td>\n      <td>...</td>\n      <td>28.25</td>\n      <td>16.550</td>\n      <td>63.27</td>\n      <td>72.33</td>\n      <td>1.8400</td>\n      <td>NaN</td>\n      <td>24.630</td>\n      <td>40.00</td>\n      <td>10.1200</td>\n      <td>4.982</td>\n    </tr>\n    <tr>\n      <th>2012-03-30</th>\n      <td>10.14</td>\n      <td>0.596</td>\n      <td>12.210</td>\n      <td>1.027</td>\n      <td>15.005</td>\n      <td>4.240</td>\n      <td>11.140</td>\n      <td>2.800</td>\n      <td>4.48</td>\n      <td>34.600</td>\n      <td>...</td>\n      <td>28.25</td>\n      <td>16.120</td>\n      <td>67.20</td>\n      <td>78.07</td>\n      <td>1.6100</td>\n      <td>23.39</td>\n      <td>21.470</td>\n      <td>41.70</td>\n      <td>9.7100</td>\n      <td>5.095</td>\n    </tr>\n  </tbody>\n</table>\n<p>111 rows × 798 columns</p>\n</div>"
     },
     "execution_count": 23,
     "metadata": {},
     "output_type": "execute_result"
    }
   ],
   "source": [
    "df_prices"
   ],
   "metadata": {
    "collapsed": false,
    "ExecuteTime": {
     "end_time": "2024-02-18T12:27:45.625116800Z",
     "start_time": "2024-02-18T12:27:45.572050900Z"
    }
   }
  },
  {
   "cell_type": "code",
   "outputs": [],
   "source": [
    "def shift_factors(dataframe):\n",
    "    \"\"\"\n",
    "    This function shifts the factors in the dataframe to avoid look-ahead bias.\n",
    "\n",
    "    The function first shifts all the columns by 1 month. Then, it takes price related factors to avoid shifting them.\n",
    "    After that, it shifts all valuation related columns by other 2 months to avoid look-ahead bias.\n",
    "    Finally, it puts back the price related factors and the price column.\n",
    "\n",
    "    :param dataframe: The dataframe containing the factors.\n",
    "    :type dataframe: pandas.DataFrame\n",
    "    :return: The dataframe with shifted factors.\n",
    "    :rtype: pandas.DataFrame\n",
    "    \"\"\"\n",
    "    factors_price_related = ['PX_LAST', 'MOV_AVG_10D', 'MOV_AVG_20D', 'MOV_AVG_30D', 'MOV_AVG_40D', 'MOV_AVG_50D', 'MOV_AVG_5D', 'RSI_14D', 'RSI_30D', 'RSI_9D', 'VOLATILITY_180D',\n",
    "                             'VOLATILITY_30D','VOLATILITY_90D', 'CUR_MKT_CAP']\n",
    "\n",
    "    dataframe = dataframe.groupby(level=0).shift(1) # shift all the columns by 1 month to avoid look-ahead bias (for both price_related and valuation_related factors)\n",
    "    dataframe_price_rl_tmp = dataframe[factors_price_related].values # take price related factors to avoid shifting them\n",
    "    dataframe = dataframe.groupby(level=0).shift(2) # shift all valuation related columns by other 2 months to avoid look-ahead bias\n",
    "\n",
    "    # now we can put back the price related factors and the price column\n",
    "    dataframe[factors_price_related] = dataframe_price_rl_tmp\n",
    "\n",
    "    return dataframe\n",
    "\n",
    "\n",
    "def transform_factor(series, factor_type, price_series):\n",
    "    \"\"\"\n",
    "    This function transforms the factor series based on the factor type.\n",
    "\n",
    "    The function checks the factor type and applies the appropriate transformation.\n",
    "    For example, for RSI factors, it subtracts the series from 30 to find undervalued stocks.\n",
    "    For Moving Averages, it subtracts the series from the price series to use Moving Averages as support for the price.\n",
    "\n",
    "    :param series: The series to be transformed.\n",
    "    :type series: pandas.Series\n",
    "    :param factor_type: The type of the factor.\n",
    "    :type factor_type: str\n",
    "    :param price_series: The price series.\n",
    "    :type price_series: pandas.Series\n",
    "    :return: The transformed series.\n",
    "    :rtype: pandas.Series\n",
    "    \"\"\"\n",
    "    highest_values_factors = ['5YR_AVG_RETURN_ON_EQUITY', 'BEST_EPS', 'CUR_MKT_CAP', 'EBITDA_MARGIN', 'EBITDA_MARGIN_3YR_AVG', 'EQY_DPS_NET_5YR_GROWTH', 'NORMALIZED_ROE', 'OPERATING_ROIC', 'T12M_DIL_EPS_CONT_OPS', 'TRAIL_12M_EBITDA_PER_SHARE', 'TRAIL_12M_SALES_PER_SH', \"EQY_REC_CONS\"]\n",
    "\n",
    "    lowest_values_factors = ['10_YEAR_MOVING_AVERAGE_PE', 'CURRENT_EV_TO_12M_SALES', 'CURRENT_EV_TO_T12M_EBITDA', 'FIVE_YEAR_AVG_EV_TO_T12_EBITDA', 'FIVE_YR_AVG_PRICE_EARNINGS', 'NET_DEBT_PER_SHARE', 'NORMALIZED_ACCRUALS_BS_METHOD', 'NORMALIZED_ACCRUALS_CF_METHOD', 'PE_RATIO', 'PX_TO_BOOK_RATIO', 'PX_TO_TANG_BV_PER_SH', 'T12M_DIL_PE_CONT_OPS', 'T12M_DVD_PAYOUT_RATIO', 'TANG_BOOK_VAL_PER_SH', 'VOLATILITY_180D', 'VOLATILITY_30D', 'VOLATILITY_90D', \"WACC_COST_EQUITY\"]\n",
    "\n",
    "    if factor_type in highest_values_factors: # default is highest values are better\n",
    "        return series\n",
    "    elif factor_type in lowest_values_factors: # lowest values are better\n",
    "        return -series\n",
    "    elif factor_type in ['RSI_14D', 'RSI_30D', 'RSI_9D']:  # We use RSI to find undervalued stocks (close or less than 30)\n",
    "        return 30 - series\n",
    "    elif factor_type in ['MOV_AVG_10D', 'MOV_AVG_20D', 'MOV_AVG_30D', 'MOV_AVG_40D', 'MOV_AVG_50D', 'MOV_AVG_5D']:\n",
    "        return price_series - series # We use Moving Averages as support for the price, so we buy when we are close or under them\n",
    "    raise Exception(\"Factor type \" + factor_type + \" not recognized\")"
   ],
   "metadata": {
    "collapsed": false
   },
   "execution_count": 0
  },
  {
   "cell_type": "code",
   "execution_count": 24,
   "outputs": [],
   "source": [
    "def select_best_equities_from_factor(df_full, df_rnt, factor_selected, num_equities):\n",
    "    \"\"\"\n",
    "    This function selects the best equities based on a selected factor.\n",
    "\n",
    "    The function unstacks the selected factor from the full dataframe and selects the top equities based on the factor values.\n",
    "\n",
    "    :param df_full: The full dataframe containing all the factors.\n",
    "    :type df_full: pandas.DataFrame\n",
    "    :param df_rnt: The dataframe containing the returns.\n",
    "    :type df_rnt: pandas.DataFrame\n",
    "    :param factor_selected: The selected factor.\n",
    "    :type factor_selected: str\n",
    "    :param num_equities: The number of equities to select.\n",
    "    :type num_equities: int\n",
    "    :return: The selected equities and the factor values.\n",
    "    :rtype: tuple\n",
    "    \"\"\"\n",
    "    factor_values = df_full[factor_selected].unstack(level=0).iloc[1:]\n",
    "    equities =  factor_values.apply(\n",
    "        lambda fact_val: fact_val.loc[~df_rnt.loc[fact_val.name, fact_val.index].isna()\n",
    "        ].sort_values(ascending=False).head(num_equities).index.values,\n",
    "        axis='columns', result_type='expand')\n",
    "    equities.columns = [str(i) + \"_name\" for i in range(len(equities.columns))]\n",
    "    return equities, factor_values\n",
    "\n",
    "\n",
    "def compute_return_from_equities(df_rtn, equities):\n",
    "    \"\"\"\n",
    "    This function computes the return from the selected equities.\n",
    "\n",
    "    The function applies the return calculation to each row of the equities dataframe.\n",
    "\n",
    "    :param df_rtn: The dataframe containing the returns.\n",
    "    :type df_rtn: pandas.DataFrame\n",
    "    :param equities: The dataframe containing the selected equities.\n",
    "    :type equities: pandas.DataFrame\n",
    "    :return: The returns from the selected equities.\n",
    "    :rtype: pandas.DataFrame\n",
    "    \"\"\"\n",
    "    equities_rtn = equities.apply(lambda row: df_rtn.loc[row.name, row.values].values, axis='columns', result_type='expand')\n",
    "    equities_rtn.columns = [str(i) + \"_rtn\" for i in range(len(equities_rtn.columns))]\n",
    "    equities_rtn.columns.name = 'equity_rtn'\n",
    "    return equities_rtn\n",
    "\n",
    "\n",
    "def extract_portfolio_state(equities, factor_values):\n",
    "    \"\"\"\n",
    "    This function extracts the state of the portfolio.\n",
    "\n",
    "    The function creates a sparse dataframe with the same index and columns as the factor values dataframe.\n",
    "    It then fills the dataframe with 1s for the selected equities and calculates the state of the portfolio.\n",
    "\n",
    "    :param equities: The dataframe containing the selected equities.\n",
    "    :type equities: pandas.DataFrame\n",
    "    :param factor_values: The dataframe containing the factor values.\n",
    "    :type factor_values: pandas.DataFrame\n",
    "    :return: The state of the portfolio.\n",
    "    :rtype: pandas.DataFrame\n",
    "    \"\"\"\n",
    "    equities_sparse = pd.DataFrame(index=factor_values.index, columns=factor_values.columns, data=0)\n",
    "    for date in equities_sparse.index:\n",
    "        equities_sparse.loc[date, equities.loc[date].values] = 1\n",
    "    equities_sparse = (2 * equities_sparse - equities_sparse.shift(1, fill_value=0)).dropna()\n",
    "    return equities_sparse.applymap(lambda x: 0.33 if x == 0 else 0.66 if x == 1 else 1 if x == 2 else 0)\n",
    "\n",
    "\n",
    "def apply_fees(equities_rtn, equities_names, port_state, fees):\n",
    "    \"\"\"\n",
    "    This function applies the fees to the returns of the selected equities.\n",
    "\n",
    "    :param equities_rtn: The dataframe containing the returns of the selected equities.\n",
    "    :type equities_rtn: pandas.DataFrame\n",
    "    :param equities_names: The dataframe containing the names of the selected equities.\n",
    "    :type equities_names: pandas.DataFrame\n",
    "    :param port_state: The state of the portfolio.\n",
    "    :type port_state: pandas.DataFrame\n",
    "    :param fees: The fees to be applied.\n",
    "    :type fees: float\n",
    "    :return: The returns after applying the fees.\n",
    "    :rtype: pandas.DataFrame\n",
    "    \"\"\"\n",
    "    return equities_rtn.apply(\n",
    "        lambda rtn_row: rtn_row -\n",
    "                        (fees * (port_state.loc[rtn_row.name, equities_names.loc[rtn_row.name]] == 1)\n",
    "                         * (1 + rtn_row).values).values,\n",
    "        axis='columns')\n",
    "\n",
    "\n",
    "def compute_univariate_strategy(df_full, df_rtn, factor_selected, num_equities, market_rtn, fees=None):\n",
    "    \"\"\"\n",
    "    This function computes a univariate strategy based on a selected factor.\n",
    "\n",
    "    The function selects the best equities based on the selected factor, computes the returns from the selected equities,\n",
    "    extracts the state of the portfolio, applies the fees to the returns, and calculates the information ratio.\n",
    "\n",
    "    :param df_full: The full dataframe containing all the factors.\n",
    "    :type df_full: pandas.DataFrame\n",
    "    :param df_rtn: The dataframe containing the returns.\n",
    "    :type df_rtn: pandas.DataFrame\n",
    "    :param factor_selected: The selected factor.\n",
    "    :type factor_selected: str\n",
    "    :param num_equities: The number of equities to select.\n",
    "    :type num_equities: int\n",
    "    :param market_rtn: The market return.\n",
    "    :type market_rtn: pandas.Series\n",
    "    :param fees: The fees to be applied. Default is None.\n",
    "    :type fees: float, optional\n",
    "    :return: The equities, returns, information ratio, and state of the portfolio.\n",
    "    :rtype: tuple\n",
    "    \"\"\"\n",
    "    equities_names, factor_values = select_best_equities_from_factor(df_full, df_rtn, factor_selected, num_equities)\n",
    "    equities_rtn = compute_return_from_equities(df_rtn, equities_names)\n",
    "    port_state = extract_portfolio_state(equities_names, factor_values)\n",
    "\n",
    "    if fees is not None:\n",
    "        equities_rtn = apply_fees(equities_rtn, equities_names, port_state, fees)\n",
    "\n",
    "    equities = equities_names.merge(equities_rtn, left_index=True, right_index=True)\n",
    "    equities = equities.iloc[:, np.concatenate([[i, i + num_equities] for i in range(num_equities)])]\n",
    "    equities.columns = pd.MultiIndex.from_product([range(num_equities), ['name', 'rtn']])\n",
    "    equities.columns.names = ['equity_pos', 'info']\n",
    "\n",
    "    ris = equities.apply(lambda row: np.average(row.loc[:, \"rtn\"].values), axis='columns').to_frame(name='strategy_rtn')\n",
    "    ris['strategy_alpha'] = ris['strategy_rtn'] - market_rtn\n",
    "    info_ratio = ris['strategy_alpha'].mean() / ris['strategy_alpha'].std()\n",
    "    return equities, ris, info_ratio, port_state"
   ],
   "metadata": {
    "collapsed": false,
    "ExecuteTime": {
     "end_time": "2024-02-18T12:27:45.636093900Z",
     "start_time": "2024-02-18T12:27:45.620089400Z"
    }
   }
  },
  {
   "cell_type": "code",
   "execution_count": 26,
   "outputs": [],
   "source": [
    "window_date_size = 12\n",
    "\n",
    "@numba.jit(nopython=True)\n",
    "def compute_window_corr_avg(window):\n",
    "    \"\"\"\n",
    "    This function computes the average correlation of a window of data.\n",
    "\n",
    "    The function checks if the length of the window is equal to the predefined window size.\n",
    "    If it is, it calculates the correlation matrix of the window, removes the diagonal elements,\n",
    "    and calculates the average correlation.\n",
    "    If the length of the window is not equal to the window size, it returns a vector of ones.\n",
    "\n",
    "    :param window: The window of data.\n",
    "    :type window: numpy.ndarray\n",
    "    :return: The average correlation of the window of data.\n",
    "    :rtype: numpy.ndarray\n",
    "    \"\"\"\n",
    "    if len(window) == window_date_size:\n",
    "        corr_matrix = np.corrcoef(window, rowvar=False)\n",
    "        corr_matrix_nod_iag = np.extract(~np.eye(corr_matrix.shape[0], dtype=numba.boolean), corr_matrix).reshape(corr_matrix.shape[0], -1)\n",
    "        avg_corr = np.sum(corr_matrix_nod_iag, axis=1) / corr_matrix_nod_iag.shape[1]\n",
    "\n",
    "    else:\n",
    "        avg_corr = np.ones(window.shape[1])\n",
    "    return avg_corr"
   ],
   "metadata": {
    "collapsed": false,
    "ExecuteTime": {
     "end_time": "2024-02-18T12:27:45.852095800Z",
     "start_time": "2024-02-18T12:27:45.666089200Z"
    }
   }
  },
  {
   "cell_type": "code",
   "execution_count": 27,
   "outputs": [],
   "source": [
    "def compute_zscore_strategy_simple(df_full, df_rtn, factors_selected, num_equities, market_rtn, fees=None):\n",
    "    \"\"\"\n",
    "    This function computes a simple z-score strategy.\n",
    "\n",
    "    The function calculates the z-score for the selected factors and then applies a univariate strategy.\n",
    "\n",
    "    :param df_full: The full dataframe containing all the factors.\n",
    "    :type df_full: pandas.DataFrame\n",
    "    :param df_rtn: The dataframe containing the returns.\n",
    "    :type df_rtn: pandas.DataFrame\n",
    "    :param factors_selected: The selected factors.\n",
    "    :type factors_selected: list\n",
    "    :param num_equities: The number of equities to select.\n",
    "    :type num_equities: int\n",
    "    :param market_rtn: The market return.\n",
    "    :type market_rtn: pandas.Series\n",
    "    :param fees: The fees to be applied. Default is None.\n",
    "    :type fees: float, optional\n",
    "    :return: The result of the univariate strategy.\n",
    "    :rtype: tuple\n",
    "    \"\"\"\n",
    "    df_full['zscore'] = df_full[factors_selected].groupby(level=0).apply(lambda x: zscore(x, nan_policy='omit').mean(axis=1)).values\n",
    "    return compute_univariate_strategy(df_full, df_rtn, 'zscore', num_equities, market_rtn, fees)\n",
    "\n",
    "def compute_zscore_strategy_weighted(df_full, df_rtn, factors_selected, num_equities, market_rtn, fees=None):\n",
    "    \"\"\"\n",
    "    This function computes a weighted z-score strategy.\n",
    "\n",
    "    The function calculates the z-score for the selected factors, weights them, and then applies a univariate strategy.\n",
    "\n",
    "    :param df_full: The full dataframe containing all the factors.\n",
    "    :type df_full: pandas.DataFrame\n",
    "    :param df_rtn: The dataframe containing the returns.\n",
    "    :type df_rtn: pandas.DataFrame\n",
    "    :param factors_selected: The selected factors.\n",
    "    :type factors_selected: list\n",
    "    :param num_equities: The number of equities to select.\n",
    "    :type num_equities: int\n",
    "    :param market_rtn: The market return.\n",
    "    :type market_rtn: pandas.Series\n",
    "    :param fees: The fees to be applied. Default is None.\n",
    "    :type fees: float, optional\n",
    "    :return: The result of the univariate strategy.\n",
    "    :rtype: tuple\n",
    "    \"\"\"\n",
    "    zs_factors = df[factors_selected].groupby(level=0, group_keys=False).apply(lambda x: zscore(x, nan_policy='omit'))\n",
    "\n",
    "    zs_weight = zs_factors.groupby(level=0).rolling(window_date_size, min_periods=1, method=\"table\"\n",
    "                                                    ).apply(compute_window_corr_avg, raw=True, engine=\"numba\").values\n",
    "\n",
    "    zs_weight = 1 - abs(zs_weight) + 0.000001 # sum a small number to avoid division by zero\n",
    "    df_full['zscore'] = np.average(zs_factors.values, axis=1, weights=zs_weight)\n",
    "    return compute_univariate_strategy(df_full, df_rtn, 'zscore', num_equities, market_rtn, fees)\n",
    "\n",
    "def compute_sequential_screening(df_full, df_rtn, filter_factor, filter_n_equities, market_rtn, fees=None):\n",
    "    \"\"\"\n",
    "    This function computes a sequential screening strategy.\n",
    "\n",
    "    The function filters the equities based on the selected factors and then applies a univariate strategy.\n",
    "\n",
    "    :param df_full: The full dataframe containing all the factors.\n",
    "    :type df_full: pandas.DataFrame\n",
    "    :param df_rtn: The dataframe containing the returns.\n",
    "    :type df_rtn: pandas.DataFrame\n",
    "    :param filter_factor: The factors to use for filtering.\n",
    "    :type filter_factor: list\n",
    "    :param filter_n_equities: The number of equities to select at each filtering step.\n",
    "    :type filter_n_equities: list\n",
    "    :param market_rtn: The market return.\n",
    "    :type market_rtn: pandas.Series\n",
    "    :param fees: The fees to be applied. Default is None.\n",
    "    :type fees: float, optional\n",
    "    :return: The result of the univariate strategy.\n",
    "    :rtype: tuple\n",
    "    \"\"\"\n",
    "    df_filtered = df_full.reset_index()\n",
    "    for n_equities, factor_to_use in zip(filter_n_equities[:-1], filter_factor[:-1]):\n",
    "        eq_filter = select_best_equities_from_factor(df_filtered.set_index(['equity', 'date']), df_rtn, factor_to_use, n_equities)[0]\n",
    "        df_filtered = pd.concat([df_filtered.loc[(df_filtered['date'] == date) & (df_filtered['equity'].isin(equities.values))\n",
    "                                 ] for date, equities in eq_filter.iterrows()])\n",
    "    return compute_univariate_strategy(df_filtered.set_index(['equity', 'date']), df_rtn, filter_factor[-1], filter_n_equities[-1], market_rtn, fees)\n"
   ],
   "metadata": {
    "collapsed": false,
    "ExecuteTime": {
     "end_time": "2024-02-18T12:27:45.910086100Z",
     "start_time": "2024-02-18T12:27:45.679088700Z"
    }
   }
  },
  {
   "cell_type": "code",
   "execution_count": 29,
   "outputs": [],
   "source": [
    "def evaluate_strategy(strategy_result, market_rtn, risk_free_rate):\n",
    "    \"\"\"\n",
    "    This function evaluates the performance of a given strategy.\n",
    "\n",
    "    The function calculates various performance metrics such as return mean, standard deviation, downside standard deviation,\n",
    "    cumulative return, alpha mean, risk-adjusted return, Sharpe ratio, beta, Treynor ratio, and Sortino ratio.\n",
    "\n",
    "    :param strategy_result: The result of the strategy to be evaluated.\n",
    "    :type strategy_result: tuple\n",
    "    :param market_rtn: The market return.\n",
    "    :type market_rtn: pandas.Series\n",
    "    :param risk_free_rate: The risk-free rate.\n",
    "    :type risk_free_rate: pandas.Series\n",
    "    :return: The performance metrics, return, cumulative return, alpha, and cumulative alpha.\n",
    "    :rtype: tuple\n",
    "    \"\"\"\n",
    "    rtn, alpha, info_rate = strategy_result[1]['strategy_rtn'], strategy_result[1]['strategy_alpha'], strategy_result[2]\n",
    "\n",
    "    rtn_mean = rtn.mean()\n",
    "    std = rtn.std()\n",
    "    downside_std = np.sqrt(np.sum((rtn[rtn < 0] - rtn.mean())**2) / (len(rtn) - 1))\n",
    "    rtn_com = rtn.cumsum()\n",
    "    alpha_com = alpha.cumsum()\n",
    "\n",
    "    alpha_mean = alpha.mean()\n",
    "    risk_adjusted = rtn_mean / std\n",
    "    sharpe_ratio = (rtn - risk_free_rate).mean() / std\n",
    "    beta = market_rtn.cov(rtn) / market_rtn.var()\n",
    "    treynor_ratio = (rtn - risk_free_rate).mean()  / beta\n",
    "    sortino_ratio = (rtn - risk_free_rate).mean() / downside_std\n",
    "\n",
    "    stats = pd.Series(index=['info_ratio', 'rtn_avg', 'rtn_std', 'rtn_downside_std', 'rtn_tot', 'alpha_avg', 'alpha_tot', 'rtn_risk_adj', 'sharpe_ratio', 'beta', 'treynor_ratio', 'sortino_ratio'],\n",
    "                     data=[info_rate, rtn_mean, std, downside_std, rtn_com.values[-1], alpha_mean, alpha_com.values[-1], risk_adjusted, sharpe_ratio, beta, treynor_ratio, sortino_ratio], name='stats')\n",
    "\n",
    "    return stats, rtn, rtn_com, alpha, alpha_com\n"
   ],
   "metadata": {
    "collapsed": false,
    "ExecuteTime": {
     "end_time": "2024-02-18T12:27:46.128093800Z",
     "start_time": "2024-02-18T12:27:45.720090500Z"
    }
   }
  },
  {
   "cell_type": "markdown",
   "source": [
    "# Factor transformation"
   ],
   "metadata": {
    "collapsed": false
   }
  },
  {
   "cell_type": "code",
   "outputs": [],
   "source": [
    "df = shift_factors(df)\n",
    "df = df.drop(columns=['PX_LAST']).apply(lambda x: transform_factor(x, x.name, df['PX_LAST']))\n"
   ],
   "metadata": {
    "collapsed": false,
    "ExecuteTime": {
     "end_time": "2024-02-18T12:27:46.377088800Z",
     "start_time": "2024-02-18T12:27:45.729087600Z"
    }
   },
   "execution_count": 30
  },
  {
   "cell_type": "markdown",
   "source": [
    "# Application of univariate strategies on multiple factors"
   ],
   "metadata": {
    "collapsed": false
   }
  },
  {
   "cell_type": "code",
   "execution_count": 31,
   "outputs": [],
   "source": [
    "commission_fees = 0.002\n",
    "testing_factors = ['RSI_14D', 'PE_RATIO', 'PX_TO_BOOK_RATIO', 'BEST_EPS', 'WACC_COST_EQUITY', 'MOV_AVG_30D', 'EBITDA_MARGIN', 'NET_DEBT_PER_SHARE', 'NORMALIZED_ACCRUALS_CF_METHOD', 'VOLATILITY_90D']\n",
    "\n",
    "\n",
    "n_factor_to_use = 4\n",
    "seq_window = [400, 200, 100, 30]\n",
    "num_equities_s = seq_window[-1]\n"
   ],
   "metadata": {
    "collapsed": false
   }
  },
  {
   "cell_type": "code",
   "execution_count": 32,
   "outputs": [],
   "source": [
    "# Compute equities and information ratio for each selected factor\n",
    "strs_res_stats = pd.DataFrame(columns=['info_ratio', 'rtn_avg', 'rtn_std', 'rtn_downside_std', 'rtn_tot', 'alpha_avg', 'alpha_tot', 'rtn_risk_adj', 'sharpe_ratio', 'beta', 'treynor_ratio', 'sortino_ratio'])\n",
    "strs_res_rtn, strs_res_rtn_com, strs_res_rtn_alpha, strs_res_rtn_alpha_com = pd.DataFrame(), pd.DataFrame(), pd.DataFrame(), pd.DataFrame()\n",
    "strs_res_port = {}\n",
    "\n",
    "for factor in testing_factors: # with fees\n",
    "    str_res = compute_univariate_strategy(df, df_log_rtn, factor, num_equities_s, benchmark_rtn, fees=commission_fees)\n",
    "    strs_res_port[factor] = str_res[3]\n",
    "    str_res = evaluate_strategy(str_res, benchmark_rtn, rfr)\n",
    "    strs_res_stats.loc[factor] = str_res[0]\n",
    "    strs_res_stats.at[factor, \"factors_used\"] = [factor]\n",
    "\n",
    "    strs_res_rtn[factor] = str_res[1]\n",
    "    strs_res_rtn_com[factor] = str_res[2]\n",
    "    strs_res_rtn_alpha[factor] = str_res[3]\n",
    "    strs_res_rtn_alpha_com[factor] = str_res[4]\n",
    "\n",
    "strs_res_stats.iat[0, -1] = [strs_res_stats.iat[0, -1]]\n",
    "best_factors = strs_res_stats.sort_values(by='info_ratio', ascending=False).head(n_factor_to_use).index.values\n",
    "\n",
    "for factor in testing_factors: # without fees\n",
    "    str_res = compute_univariate_strategy(df, df_log_rtn, factor, num_equities_s, benchmark_rtn)\n",
    "    strs_res_port[factor + \"_no-fees\"] = str_res[3]\n",
    "    str_res = evaluate_strategy(str_res, benchmark_rtn, rfr)\n",
    "    strs_res_stats.loc[factor + \"_no-fees\"] = str_res[0]\n",
    "    strs_res_stats.at[factor + \"_no-fees\", \"factors_used\"] = [factor]\n",
    "\n",
    "    strs_res_rtn[factor + \"_no-fees\"] = str_res[1]\n",
    "    strs_res_rtn_com[factor + \"_no-fees\"] = str_res[2]\n",
    "    strs_res_rtn_alpha[factor + \"_no-fees\"] = str_res[3]\n",
    "    strs_res_rtn_alpha_com[factor + \"_no-fees\"] = str_res[4]\n"
   ],
   "metadata": {
    "collapsed": false,
    "ExecuteTime": {
     "end_time": "2024-02-18T12:27:56.279116100Z",
     "start_time": "2024-02-18T12:27:46.044091500Z"
    }
   }
  },
  {
   "cell_type": "code",
   "execution_count": 33,
   "outputs": [
    {
     "data": {
      "text/plain": "                               info_ratio                     factors_used\nRSI_14D                          0.174432                        [RSI_14D]\nNORMALIZED_ACCRUALS_CF_METHOD    0.158144  [NORMALIZED_ACCRUALS_CF_METHOD]\nPX_TO_BOOK_RATIO                 0.097661               [PX_TO_BOOK_RATIO]\nNET_DEBT_PER_SHARE               0.070747             [NET_DEBT_PER_SHARE]\nWACC_COST_EQUITY                 0.057032               [WACC_COST_EQUITY]\nVOLATILITY_90D                  -0.034960                 [VOLATILITY_90D]\nBEST_EPS                        -0.116543                       [BEST_EPS]\nEBITDA_MARGIN                   -0.151997                  [EBITDA_MARGIN]\nPE_RATIO                        -0.153300                       [PE_RATIO]\nMOV_AVG_30D                     -0.191015                    [MOV_AVG_30D]",
      "text/html": "<div>\n<style scoped>\n    .dataframe tbody tr th:only-of-type {\n        vertical-align: middle;\n    }\n\n    .dataframe tbody tr th {\n        vertical-align: top;\n    }\n\n    .dataframe thead th {\n        text-align: right;\n    }\n</style>\n<table border=\"1\" class=\"dataframe\">\n  <thead>\n    <tr style=\"text-align: right;\">\n      <th></th>\n      <th>info_ratio</th>\n      <th>factors_used</th>\n    </tr>\n  </thead>\n  <tbody>\n    <tr>\n      <th>RSI_14D</th>\n      <td>0.174432</td>\n      <td>[RSI_14D]</td>\n    </tr>\n    <tr>\n      <th>NORMALIZED_ACCRUALS_CF_METHOD</th>\n      <td>0.158144</td>\n      <td>[NORMALIZED_ACCRUALS_CF_METHOD]</td>\n    </tr>\n    <tr>\n      <th>PX_TO_BOOK_RATIO</th>\n      <td>0.097661</td>\n      <td>[PX_TO_BOOK_RATIO]</td>\n    </tr>\n    <tr>\n      <th>NET_DEBT_PER_SHARE</th>\n      <td>0.070747</td>\n      <td>[NET_DEBT_PER_SHARE]</td>\n    </tr>\n    <tr>\n      <th>WACC_COST_EQUITY</th>\n      <td>0.057032</td>\n      <td>[WACC_COST_EQUITY]</td>\n    </tr>\n    <tr>\n      <th>VOLATILITY_90D</th>\n      <td>-0.034960</td>\n      <td>[VOLATILITY_90D]</td>\n    </tr>\n    <tr>\n      <th>BEST_EPS</th>\n      <td>-0.116543</td>\n      <td>[BEST_EPS]</td>\n    </tr>\n    <tr>\n      <th>EBITDA_MARGIN</th>\n      <td>-0.151997</td>\n      <td>[EBITDA_MARGIN]</td>\n    </tr>\n    <tr>\n      <th>PE_RATIO</th>\n      <td>-0.153300</td>\n      <td>[PE_RATIO]</td>\n    </tr>\n    <tr>\n      <th>MOV_AVG_30D</th>\n      <td>-0.191015</td>\n      <td>[MOV_AVG_30D]</td>\n    </tr>\n  </tbody>\n</table>\n</div>"
     },
     "execution_count": 33,
     "metadata": {},
     "output_type": "execute_result"
    }
   ],
   "source": [
    "best_factors"
   ],
   "metadata": {
    "collapsed": false,
    "ExecuteTime": {
     "end_time": "2024-02-18T12:27:56.355089900Z",
     "start_time": "2024-02-18T12:27:56.284097500Z"
    }
   }
  },
  {
   "cell_type": "markdown",
   "source": [
    "# Application of multivariate strategies"
   ],
   "metadata": {
    "collapsed": false
   }
  },
  {
   "cell_type": "code",
   "execution_count": 34,
   "outputs": [
    {
     "name": "stderr",
     "output_type": "stream",
     "text": [
      "F:\\anaconda\\envs\\FMA\\lib\\site-packages\\pandas\\core\\window\\numba_.py:230: NumbaExperimentalFeatureWarning: \u001B[1m\u001B[1m\u001B[1m\u001B[1m\u001B[1m\u001B[1m\u001B[1mUse of isinstance() detected. This is an experimental feature.\u001B[0m\u001B[0m\u001B[0m\u001B[0m\u001B[0m\u001B[0m\u001B[0m\n",
      "  sub_result = numba_func(window, *args)\n",
      "F:\\anaconda\\envs\\FMA\\lib\\site-packages\\pandas\\core\\window\\numba_.py:234: NumbaExperimentalFeatureWarning: \u001B[1m\u001B[1m\u001B[1m\u001B[1mUse of isinstance() detected. This is an experimental feature.\u001B[0m\u001B[0m\u001B[0m\u001B[0m\n",
      "  result = np.where(min_periods_mask, result, np.nan)\n"
     ]
    }
   ],
   "source": [
    "seq_strategy = compute_sequential_screening(df, df_log_rtn, best_factors[::-1], seq_window, benchmark_rtn, fees=commission_fees)\n",
    "zscore_strategy_simple = compute_zscore_strategy_simple(df, df_log_rtn, best_factors, num_equities_s, benchmark_rtn, fees=commission_fees)\n",
    "zscore_strategy_weighted = compute_zscore_strategy_weighted(df, df_log_rtn, best_factors, num_equities_s, benchmark_rtn, fees=commission_fees)"
   ],
   "metadata": {
    "collapsed": false,
    "ExecuteTime": {
     "end_time": "2024-02-18T12:28:16.734088800Z",
     "start_time": "2024-02-18T12:27:56.308092600Z"
    }
   }
  },
  {
   "cell_type": "markdown",
   "source": [
    "# Elaboration of benchmark statistics"
   ],
   "metadata": {
    "collapsed": false
   }
  },
  {
   "cell_type": "code",
   "execution_count": 35,
   "outputs": [
    {
     "data": {
      "text/plain": "rtn_avg             0.006537\nrtn_std             0.052483\nrtn_downside_std    0.066168\nrtn_tot             0.719063\nrtn_risk_adj        0.124553\nsharpe_ratio       -0.643837\nsortino_ratio      -0.510675\nName: benchmark_stats, dtype: float64"
     },
     "execution_count": 35,
     "metadata": {},
     "output_type": "execute_result"
    }
   ],
   "source": [
    "benchmark_rtn_com = benchmark_rtn.cumsum()\n",
    "benchmark_stats = pd.Series(dtype='float64', name='benchmark_stats')\n",
    "\n",
    "benchmark_stats['rtn_avg'] = benchmark_rtn.mean()\n",
    "benchmark_stats['rtn_std'] = benchmark_rtn.std()\n",
    "benchmark_stats['rtn_downside_std'] = np.sqrt(np.sum((benchmark_rtn[benchmark_rtn < 0] - benchmark_stats['rtn_std'])**2) / (len(benchmark_rtn) - 1))\n",
    "\n",
    "benchmark_stats['rtn_tot'] = benchmark_rtn_com.values[-1]\n",
    "benchmark_stats['rtn_risk_adj'] = benchmark_stats['rtn_avg'] / benchmark_stats['rtn_std']\n",
    "benchmark_stats['sharpe_ratio'] = (benchmark_stats['rtn_avg'] - rfr).mean() / benchmark_stats['rtn_std']\n",
    "# sortino ratio\n",
    "benchmark_stats['sortino_ratio'] = (benchmark_stats['rtn_avg'] - rfr).mean() / benchmark_stats['rtn_downside_std']\n",
    "\n",
    "strs_res_rtn['benchmark'] = benchmark_rtn\n",
    "strs_res_rtn_com['benchmark'] = benchmark_rtn_com\n",
    "\n",
    "benchmark_stats"
   ],
   "metadata": {
    "collapsed": false,
    "ExecuteTime": {
     "end_time": "2024-02-18T12:28:16.829091900Z",
     "start_time": "2024-02-18T12:28:16.730088Z"
    }
   }
  },
  {
   "cell_type": "markdown",
   "source": [
    "# Performance estimation of multivariate strategies "
   ],
   "metadata": {
    "collapsed": false
   }
  },
  {
   "cell_type": "code",
   "execution_count": 36,
   "outputs": [],
   "source": [
    "for strategy, strategy_name, factor_used in zip([seq_strategy, zscore_strategy_simple, zscore_strategy_weighted],\n",
    "                                                [\"sequential\", \"zscore_simple\", \"zscore_weighted\"],\n",
    "                                                [best_factors]*3):\n",
    "    strs_res_port[strategy_name] = strategy[3]\n",
    "    str_res = evaluate_strategy(strategy, benchmark_rtn, rfr)\n",
    "    strs_res_stats.loc[strategy_name] = str_res[0]\n",
    "    strs_res_stats.at[strategy_name, \"factors_used\"] = factor_used\n",
    "\n",
    "    strs_res_rtn[strategy_name] = str_res[1]\n",
    "    strs_res_rtn_com[strategy_name] = str_res[2]\n",
    "    strs_res_rtn_alpha[strategy_name] = str_res[3]\n",
    "    strs_res_rtn_alpha_com[strategy_name] = str_res[4]"
   ],
   "metadata": {
    "collapsed": false,
    "ExecuteTime": {
     "end_time": "2024-02-18T12:28:16.830092600Z",
     "start_time": "2024-02-18T12:28:16.764087500Z"
    }
   }
  },
  {
   "cell_type": "markdown",
   "source": [
    "# Save results for future plotting"
   ],
   "metadata": {
    "collapsed": false
   }
  },
  {
   "cell_type": "code",
   "execution_count": 37,
   "outputs": [],
   "source": [
    "benchmark_stats.to_csv(os.path.join(OUTPUT_PATH, \"benchmark_stats.csv\"))\n",
    "strs_res_stats.to_csv(os.path.join(OUTPUT_PATH, \"strs_res_stats.csv\"))\n",
    "\n",
    "strs_res_rtn.to_csv(os.path.join(OUTPUT_PATH, \"rtn.csv\"))\n",
    "strs_res_rtn_com.to_csv(os.path.join(OUTPUT_PATH, \"rtn_com.csv\"))\n",
    "strs_res_rtn_alpha.to_csv(os.path.join(OUTPUT_PATH, \"alpha.csv\"))\n",
    "strs_res_rtn_alpha_com.to_csv(os.path.join(OUTPUT_PATH, \"alpha_com.csv\"))\n",
    "pd.Series(index=best_factors, data=seq_window[::-1], name=\"Sequential window size\").to_csv(os.path.join(OUTPUT_PATH, \"multivariate_input.csv\"))\n",
    "\n",
    "with open(os.path.join(OUTPUT_PATH, \"ports.pkl\"), \"wb\") as f:\n",
    "    pickle.dump(strs_res_port, f)"
   ],
   "metadata": {
    "collapsed": false,
    "ExecuteTime": {
     "end_time": "2024-02-18T12:28:16.900088500Z",
     "start_time": "2024-02-18T12:28:16.792088900Z"
    }
   }
  }
 ],
 "metadata": {
  "kernelspec": {
   "display_name": "Python 3",
   "language": "python",
   "name": "python3"
  },
  "language_info": {
   "codemirror_mode": {
    "name": "ipython",
    "version": 2
   },
   "file_extension": ".py",
   "mimetype": "text/x-python",
   "name": "python",
   "nbconvert_exporter": "python",
   "pygments_lexer": "ipython2",
   "version": "2.7.6"
  }
 },
 "nbformat": 4,
 "nbformat_minor": 0
}
