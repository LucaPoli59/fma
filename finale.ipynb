{
 "cells": [
  {
   "cell_type": "code",
   "execution_count": 1,
   "metadata": {
    "collapsed": true,
    "ExecuteTime": {
     "end_time": "2023-07-12T07:43:50.441643800Z",
     "start_time": "2023-07-12T07:43:41.394207100Z"
    }
   },
   "outputs": [],
   "source": [
    "import pandas as pd\n",
    "import numba\n",
    "import numpy as np\n",
    "from scipy.stats import zscore\n",
    "import plotly as px\n",
    "import pandas_datareader as web"
   ]
  },
  {
   "cell_type": "code",
   "execution_count": 2,
   "outputs": [],
   "source": [
    "df = pd.read_csv('data/data.csv', index_col=0).set_index(['equity','date'])"
   ],
   "metadata": {
    "collapsed": false,
    "ExecuteTime": {
     "end_time": "2023-07-12T07:43:51.375471400Z",
     "start_time": "2023-07-12T07:43:50.443645200Z"
    }
   }
  },
  {
   "cell_type": "code",
   "execution_count": 5,
   "outputs": [],
   "source": [
    "rfr = web.get_data_fred(\"IRLTLT01EZM156N\", df.index.get_level_values('date').min(), df.index.get_level_values('date').max()).div(100)\n",
    "rfr = pd.Series(index=df.index.get_level_values('date').unique()[1:], data=rfr.values[:, 0], name='risk_free_rate')"
   ],
   "metadata": {
    "collapsed": false,
    "ExecuteTime": {
     "end_time": "2023-07-12T07:47:16.929509200Z",
     "start_time": "2023-07-12T07:47:16.606952800Z"
    }
   }
  },
  {
   "cell_type": "code",
   "execution_count": 95,
   "outputs": [],
   "source": [
    "df_prices = df['PX_LAST'].unstack(level=0).replace(0, np.nan)\n",
    "df_log_rtn = df_prices.apply(lambda x: np.log(x / x.shift(1))).dropna(how='all')\n",
    "benchmark_rtn = df_log_rtn.mean(skipna=True, axis='columns')"
   ],
   "metadata": {
    "collapsed": false,
    "ExecuteTime": {
     "end_time": "2023-07-12T09:09:41.840606Z",
     "start_time": "2023-07-12T09:09:41.626614800Z"
    }
   }
  },
  {
   "cell_type": "code",
   "execution_count": 7,
   "outputs": [],
   "source": [
    "def select_best_equities_from_factor(df_full, df_rnt, factor_selected, num_equities):\n",
    "    factor_values = df_full[factor_selected].unstack(level=0).iloc[1:]\n",
    "    equities =  factor_values.apply(\n",
    "        lambda fact_val: fact_val.loc[~df_rnt.loc[fact_val.name, fact_val.index].isna()\n",
    "        ].sort_values(ascending=False).head(num_equities).index.values,\n",
    "        axis='columns', result_type='expand')\n",
    "    equities.columns = [str(i) + \"_name\" for i in range(len(equities.columns))]\n",
    "    return equities, factor_values\n",
    "\n",
    "def compute_return_from_equities(df_rtn, equities):\n",
    "    equities_rtn = equities.apply(lambda row: df_rtn.loc[row.name, row.values].values, axis='columns', result_type='expand')\n",
    "    equities_rtn.columns = [str(i) + \"_rtn\" for i in range(len(equities_rtn.columns))]\n",
    "    equities_rtn.columns.name = 'equity_rtn'\n",
    "    return equities_rtn\n",
    "\n",
    "def extract_portfolio_state(equities, factor_values):\n",
    "    equities_sparse = pd.DataFrame(index=factor_values.index, columns=factor_values.columns, data=0)\n",
    "    for date in equities_sparse.index:\n",
    "        equities_sparse.loc[date, equities.loc[date].values] = 1\n",
    "    equities_sparse = (2 * equities_sparse - equities_sparse.shift(1, fill_value=0)).dropna()\n",
    "    return equities_sparse.applymap(lambda x: 'not in' if x == 0 else 'in' if x == 1 else 'added' if x == 2 else 'removed')\n",
    "\n",
    "def apply_fees(equities_rtn, equities_names, port_state, fees):\n",
    "    return equities_rtn.apply(\n",
    "        lambda rtn_row: rtn_row -\n",
    "                        (fees * (port_state.loc[rtn_row.name, equities_names.loc[rtn_row.name]] == 'added')\n",
    "                         * (1 + rtn_row).values).values,\n",
    "        axis='columns')\n",
    "\n",
    "def compute_univariate_strategy(df_full, df_rtn, factor_selected, num_equities, market_rtn, fees=None):\n",
    "    equities_names, factor_values = select_best_equities_from_factor(df_full, df_rtn, factor_selected, num_equities)\n",
    "    equities_rtn = compute_return_from_equities(df_rtn, equities_names)\n",
    "    port_state = extract_portfolio_state(equities_names, factor_values)\n",
    "\n",
    "    if fees is not None:\n",
    "        equities_rtn = apply_fees(equities_rtn, equities_names, port_state, fees)\n",
    "\n",
    "    equities = equities_names.merge(equities_rtn, left_index=True, right_index=True)\n",
    "    equities = equities.iloc[:, np.concatenate([[i, i + num_equities] for i in range(num_equities)])]\n",
    "    equities.columns = pd.MultiIndex.from_product([range(num_equities), ['name', 'rtn']])\n",
    "    equities.columns.names = ['equity_pos', 'info']\n",
    "\n",
    "    ris = equities.apply(lambda row: np.average(row.loc[:, \"rtn\"].values), axis='columns').to_frame(name='strategy_rtn')\n",
    "    ris['strategy_alpha'] = ris['strategy_rtn'] - market_rtn\n",
    "    info_ratio = ris['strategy_alpha'].mean() / ris['strategy_alpha'].std()\n",
    "    return equities, ris, info_ratio, port_state"
   ],
   "metadata": {
    "collapsed": false,
    "ExecuteTime": {
     "end_time": "2023-07-12T07:47:19.862610700Z",
     "start_time": "2023-07-12T07:47:19.800613600Z"
    }
   }
  },
  {
   "cell_type": "code",
   "execution_count": 8,
   "outputs": [],
   "source": [
    "window_date_size = 12\n",
    "\n",
    "@numba.jit(nopython=True)\n",
    "def compute_window_corr_avg(window):\n",
    "    if len(window) == window_date_size:\n",
    "        corr_matrix = np.corrcoef(window, rowvar=False)\n",
    "        corr_matrix_nod_iag = np.extract(~np.eye(corr_matrix.shape[0], dtype=numba.boolean), corr_matrix).reshape(corr_matrix.shape[0], -1)\n",
    "        avg_corr = np.sum(corr_matrix_nod_iag, axis=1) / corr_matrix_nod_iag.shape[1]\n",
    "\n",
    "    else:\n",
    "        avg_corr = np.ones(window.shape[1])\n",
    "    return avg_corr"
   ],
   "metadata": {
    "collapsed": false,
    "ExecuteTime": {
     "end_time": "2023-07-12T07:47:20.640756200Z",
     "start_time": "2023-07-12T07:47:20.507759300Z"
    }
   }
  },
  {
   "cell_type": "code",
   "execution_count": 9,
   "outputs": [],
   "source": [
    "def compute_zscore_strategy_simple(df_full, df_rtn, factors_selected, num_equities, market_rtn, fees=None):\n",
    "    df_full['zscore'] = df_full[factors_selected].groupby(level=0).apply(lambda x: zscore(x).mean(axis=1)).values\n",
    "    return compute_univariate_strategy(df_full, df_rtn, 'zscore', num_equities, market_rtn, fees)\n",
    "\n",
    "def compute_zscore_strategy_weighted(df_full, df_rtn, factors_selected, num_equities, market_rtn, fees=None):\n",
    "    zs_factors = df[factors_selected].groupby(level=0, group_keys=False).apply(lambda x: zscore(x))\n",
    "\n",
    "    zs_weight = zs_factors.groupby(level=0).rolling(window_date_size, min_periods=1, method=\"table\"\n",
    "                                                    ).apply(compute_window_corr_avg, raw=True, engine=\"numba\").values\n",
    "\n",
    "    zs_weight = 1 - abs(zs_weight) + 0.000001 # si somma un piccolo valore per le prime date in cui i pesi sono 0\n",
    "    df_full['zscore'] = np.average(zs_factors.values, axis=1, weights=zs_weight)\n",
    "    return compute_univariate_strategy(df_full, df_rtn, 'zscore', num_equities, market_rtn, fees)"
   ],
   "metadata": {
    "collapsed": false,
    "ExecuteTime": {
     "end_time": "2023-07-12T07:47:20.647756900Z",
     "start_time": "2023-07-12T07:47:20.554764300Z"
    }
   }
  },
  {
   "cell_type": "code",
   "execution_count": 10,
   "outputs": [],
   "source": [
    "def compute_sequential_screening(df_full, df_rtn, filter_factor, filter_n_equities, market_rtn, fees=None):\n",
    "    df_filtered = df_full.reset_index()\n",
    "    for n_equities, factor in zip(filter_n_equities[:-1], filter_factor[:-1]):\n",
    "        eq_filter = select_best_equities_from_factor(df_filtered.set_index(['equity', 'date']), df_rtn, factor, n_equities)[0]\n",
    "        df_filtered = pd.concat([df_filtered.loc[(df_filtered['date'] == date) & (df_filtered['equity'].isin(equities.values))\n",
    "                                 ] for date, equities in eq_filter.iterrows()])\n",
    "    return compute_univariate_strategy(df_filtered.set_index(['equity', 'date']), df_rtn, filter_factor[-1], filter_n_equities[-1], market_rtn, fees)"
   ],
   "metadata": {
    "collapsed": false,
    "ExecuteTime": {
     "end_time": "2023-07-12T07:47:20.648757600Z",
     "start_time": "2023-07-12T07:47:20.574762Z"
    }
   }
  },
  {
   "cell_type": "code",
   "execution_count": 79,
   "outputs": [],
   "source": [
    "def evaluate_strategy(strategy_result, market_rtn, risk_free_rate):\n",
    "    rtn, alpha, info_rate = strategy_result[1]['strategy_rtn'], strategy_result[1]['strategy_alpha'], strategy_result[2]\n",
    "\n",
    "    rtn_mean = rtn.mean()\n",
    "    std = rtn.std()\n",
    "    downside_std = np.sqrt(np.sum((rtn[rtn < 0] - rtn.mean())**2) / (len(rtn) - 1))\n",
    "\n",
    "    alpha = alpha.mean()\n",
    "    risk_adjusted = rtn_mean / std\n",
    "    sharpe_ratio = (rtn - risk_free_rate).mean() / std\n",
    "    beta = market_rtn.cov(rtn) / market_rtn.var()\n",
    "    treynor_ratio = (rtn - risk_free_rate).mean()  / beta\n",
    "    sortino_ratio = (rtn - risk_free_rate).mean() / downside_std\n",
    "\n",
    "    stats = pd.Series(index=['info_ratio', 'mean', 'std', 'downside_std', 'alpha', 'risk_adjusted', 'sharpe_ratio', 'beta', 'treynor_ratio', 'sortino_ratio'],\n",
    "                     data=[info_rate, rtn_mean, std, downside_std, alpha, risk_adjusted, sharpe_ratio, beta, treynor_ratio, sortino_ratio], name='stats')\n",
    "\n",
    "    rtn_com = rtn.cumsum()\n",
    "\n",
    "    return stats, rtn_com\n"
   ],
   "metadata": {
    "collapsed": false,
    "ExecuteTime": {
     "end_time": "2023-07-12T08:54:19.598626100Z",
     "start_time": "2023-07-12T08:54:19.573125500Z"
    }
   }
  },
  {
   "cell_type": "code",
   "execution_count": 113,
   "outputs": [],
   "source": [
    "commission_fees = 0.002\n",
    "num_equities = 30\n",
    "testing_factors = ['PE_RATIO', 'EBITDA_MARGIN', 'PX_TO_BOOK_RATIO', 'NORMALIZED_ACCRUALS_CF_METHOD', 'RSI_14D', 'VOLATILITY_30D', 'CUR_MKT_CAP', 'OPERATING_ROIC']"
   ],
   "metadata": {
    "collapsed": false,
    "ExecuteTime": {
     "end_time": "2023-07-12T09:19:08.145045300Z",
     "start_time": "2023-07-12T09:19:08.125024700Z"
    }
   }
  },
  {
   "cell_type": "markdown",
   "source": [
    "# Applicazione delle strategie univariate su più fattori"
   ],
   "metadata": {
    "collapsed": false
   }
  },
  {
   "cell_type": "code",
   "execution_count": 116,
   "outputs": [],
   "source": [
    "# Calcolo equities e information ratio per ogni factor scelto\n",
    "strs_res_stats = pd.DataFrame(columns=['info_ratio', 'mean', 'std', 'downside_std', 'alpha', 'risk_adjusted', 'sharpe_ratio', 'beta', 'treynor_ratio', 'sortino_ratio', 'factors_used'])\n",
    "strs_res_rtn_com = pd.DataFrame()\n",
    "strs_res = {}\n",
    "\n",
    "for factor in testing_factors:\n",
    "    strs_res[factor] = compute_univariate_strategy(df, df_log_rtn, factor, num_equities, benchmark_rtn, fees=commission_fees)\n",
    "    str_res = evaluate_strategy(strs_res[factor], benchmark_rtn, rfr)\n",
    "    strs_res_stats.loc[factor] = str_res[0]\n",
    "    strs_res_stats.at[factor, \"factors_used\"] = [factor]\n",
    "    strs_res_rtn_com[factor] = str_res[1]\n",
    "\n",
    "best_factors = strs_res_stats.sort_values(by='info_ratio', ascending=False).head(4).index.values\n",
    "\n",
    "for factor in testing_factors:\n",
    "    strs_res[factor + \"_no-fees\"] = compute_univariate_strategy(df, df_log_rtn, factor, num_equities, benchmark_rtn)\n",
    "    str_res = evaluate_strategy(strs_res[factor + \"_no-fees\"], benchmark_rtn, rfr)\n",
    "    strs_res_stats.loc[factor + \"_no-fees\"] = str_res[0]\n",
    "    strs_res_stats.at[factor + \"_no-fees\", \"factors_used\"] = [factor]\n",
    "    strs_res_rtn_com[factor + \"_no-fees\"] = str_res[1]\n"
   ],
   "metadata": {
    "collapsed": false,
    "ExecuteTime": {
     "end_time": "2023-07-12T09:19:47.621195200Z",
     "start_time": "2023-07-12T09:19:41.298196300Z"
    }
   }
  },
  {
   "cell_type": "code",
   "execution_count": 104,
   "outputs": [],
   "source": [
    "seq_strategy = compute_sequential_screening(df, df_log_rtn, best_factors, [400, 200, 100, 30], benchmark_rtn, fees=commission_fees)\n",
    "zscore_strategy_simple = compute_zscore_strategy_simple(df, df_log_rtn, best_factors, num_equities, benchmark_rtn, fees=commission_fees)\n",
    "zscore_strategy_weighted = compute_zscore_strategy_weighted(df, df_log_rtn, best_factors, num_equities, benchmark_rtn, fees=commission_fees)"
   ],
   "metadata": {
    "collapsed": false,
    "ExecuteTime": {
     "end_time": "2023-07-12T09:13:45.556937400Z",
     "start_time": "2023-07-12T09:13:43.947920900Z"
    }
   }
  },
  {
   "cell_type": "markdown",
   "source": [
    "# Valutazione di tutte le strategie non univariate"
   ],
   "metadata": {
    "collapsed": false
   }
  },
  {
   "cell_type": "code",
   "execution_count": 117,
   "outputs": [],
   "source": [
    "for strategy, strategy_name, factor_used in zip([seq_strategy, zscore_strategy_simple, zscore_strategy_weighted],\n",
    "                                                [\"sequential\", \"zscore_simple\", \"zscore_weighted\"],\n",
    "                                                [best_factors]*3):\n",
    "    strs_res[strategy_name] = strategy\n",
    "    str_res = evaluate_strategy(strategy, benchmark_rtn, rfr)\n",
    "    strs_res_stats.loc[strategy_name] = str_res[0]\n",
    "    strs_res_stats.at[strategy_name, \"factors_used\"] = factor_used\n",
    "    strs_res_rtn_com[strategy_name] = str_res[1]"
   ],
   "metadata": {
    "collapsed": false,
    "ExecuteTime": {
     "end_time": "2023-07-12T09:19:47.670220300Z",
     "start_time": "2023-07-12T09:19:47.625222600Z"
    }
   }
  },
  {
   "cell_type": "code",
   "execution_count": 118,
   "outputs": [
    {
     "data": {
      "text/plain": "                                       info_ratio      mean       std  \\\nPE_RATIO                                 0.281108  0.012248  0.057249   \nEBITDA_MARGIN                           -0.139086  0.003648  0.044339   \nPX_TO_BOOK_RATIO                         0.619483  0.022222  0.045974   \nNORMALIZED_ACCRUALS_CF_METHOD            0.083081  0.008053  0.054065   \nRSI_14D                                  1.755465  0.065792  0.036437   \nVOLATILITY_30D                           0.222363  0.021563  0.112118   \nCUR_MKT_CAP                             -0.013048  0.006268  0.043303   \nOPERATING_ROIC                           0.304444  0.011735  0.049362   \nPE_RATIO_no-fees                         0.302405  0.012679  0.057263   \nEBITDA_MARGIN_no-fees                   -0.135435  0.003721  0.044335   \nPX_TO_BOOK_RATIO_no-fees                 0.630155  0.022497  0.045957   \nNORMALIZED_ACCRUALS_CF_METHOD_no-fees    0.096896  0.008291  0.054042   \nRSI_14D_no-fees                          1.770906  0.066435  0.036361   \nVOLATILITY_30D_no-fees                   0.238168  0.022643  0.112183   \nCUR_MKT_CAP_no-fees                     -0.009763  0.006353  0.043281   \nOPERATING_ROIC_no-fees                   0.311964  0.011866  0.049348   \nsequential                               1.056562  0.028554  0.044736   \nzscore_simple                            1.490896  0.042972  0.046986   \nzscore_weighted                          1.286627  0.036479  0.045743   \n\n                                       downside_std     alpha  risk_adjusted  \\\nPE_RATIO                                   0.041647  0.005642       0.213940   \nEBITDA_MARGIN                              0.035267 -0.002958       0.082268   \nPX_TO_BOOK_RATIO                           0.033435  0.015616       0.483356   \nNORMALIZED_ACCRUALS_CF_METHOD              0.043833  0.001447       0.148957   \nRSI_14D                                    0.014521  0.059186       1.805620   \nVOLATILITY_30D                             0.084401  0.014957       0.192327   \nCUR_MKT_CAP                                0.032895 -0.000338       0.144740   \nOPERATING_ROIC                             0.038994  0.005129       0.237738   \nPE_RATIO_no-fees                           0.041635  0.006073       0.221408   \nEBITDA_MARGIN_no-fees                      0.035268 -0.002885       0.083931   \nPX_TO_BOOK_RATIO_no-fees                   0.033417  0.015892       0.489535   \nNORMALIZED_ACCRUALS_CF_METHOD_no-fees      0.043824  0.001686       0.153425   \nRSI_14D_no-fees                            0.014444  0.059829       1.827107   \nVOLATILITY_30D_no-fees                     0.084428  0.016037       0.201837   \nCUR_MKT_CAP_no-fees                        0.032873 -0.000253       0.146777   \nOPERATING_ROIC_no-fees                     0.038996  0.005260       0.240461   \nsequential                                 0.032665  0.022045       0.638288   \nzscore_simple                              0.032498  0.036366       0.914565   \nzscore_weighted                            0.033310  0.029873       0.797477   \n\n                                       sharpe_ratio      beta  treynor_ratio  \\\nPE_RATIO                                  -0.490486  1.023499      -0.027435   \nEBITDA_MARGIN                             -0.827263  0.775638      -0.047290   \nPX_TO_BOOK_RATIO                          -0.393815  0.769196      -0.023538   \nNORMALIZED_ACCRUALS_CF_METHOD             -0.596951  0.977036      -0.033033   \nRSI_14D                                    0.698861  0.534775       0.047617   \nVOLATILITY_30D                            -0.167360  1.965232      -0.009548   \nCUR_MKT_CAP                               -0.786537  0.719197      -0.047358   \nOPERATING_ROIC                            -0.579235  0.892040      -0.032053   \nPE_RATIO_no-fees                          -0.482838  1.023722      -0.027008   \nEBITDA_MARGIN_no-fees                     -0.825670  0.775341      -0.047213   \nPX_TO_BOOK_RATIO_no-fees                  -0.387976  0.768805      -0.023192   \nNORMALIZED_ACCRUALS_CF_METHOD_no-fees     -0.592800  0.976757      -0.032798   \nRSI_14D_no-fees                            0.718020  0.532910       0.048991   \nVOLATILITY_30D_no-fees                    -0.157640  1.966218      -0.008994   \nCUR_MKT_CAP_no-fees                       -0.784984  0.718643      -0.047276   \nOPERATING_ROIC_no-fees                    -0.576748  0.891700      -0.031918   \nsequential                                -0.262499  0.772746      -0.015197   \nzscore_simple                              0.056288  0.793701       0.003332   \nzscore_weighted                           -0.084134  0.782881      -0.004916   \n\n                                       sortino_ratio  \\\nPE_RATIO                                   -0.674233   \nEBITDA_MARGIN                              -1.040068   \nPX_TO_BOOK_RATIO                           -0.541506   \nNORMALIZED_ACCRUALS_CF_METHOD              -0.736295   \nRSI_14D                                     1.753701   \nVOLATILITY_30D                             -0.222321   \nCUR_MKT_CAP                                -1.035396   \nOPERATING_ROIC                             -0.733248   \nPE_RATIO_no-fees                           -0.664071   \nEBITDA_MARGIN_no-fees                      -1.037948   \nPX_TO_BOOK_RATIO_no-fees                   -0.533554   \nNORMALIZED_ACCRUALS_CF_METHOD_no-fees      -0.731014   \nRSI_14D_no-fees                             1.807531   \nVOLATILITY_30D_no-fees                     -0.209463   \nCUR_MKT_CAP_no-fees                        -1.033501   \nOPERATING_ROIC_no-fees                     -0.729842   \nsequential                                 -0.359500   \nzscore_simple                               0.081383   \nzscore_weighted                            -0.115536   \n\n                                                                            factors_used  \nPE_RATIO                                                                        PE_RATIO  \nEBITDA_MARGIN                                                            [EBITDA_MARGIN]  \nPX_TO_BOOK_RATIO                                                      [PX_TO_BOOK_RATIO]  \nNORMALIZED_ACCRUALS_CF_METHOD                            [NORMALIZED_ACCRUALS_CF_METHOD]  \nRSI_14D                                                                        [RSI_14D]  \nVOLATILITY_30D                                                          [VOLATILITY_30D]  \nCUR_MKT_CAP                                                                [CUR_MKT_CAP]  \nOPERATING_ROIC                                                          [OPERATING_ROIC]  \nPE_RATIO_no-fees                                                              [PE_RATIO]  \nEBITDA_MARGIN_no-fees                                                    [EBITDA_MARGIN]  \nPX_TO_BOOK_RATIO_no-fees                                              [PX_TO_BOOK_RATIO]  \nNORMALIZED_ACCRUALS_CF_METHOD_no-fees                    [NORMALIZED_ACCRUALS_CF_METHOD]  \nRSI_14D_no-fees                                                                [RSI_14D]  \nVOLATILITY_30D_no-fees                                                  [VOLATILITY_30D]  \nCUR_MKT_CAP_no-fees                                                        [CUR_MKT_CAP]  \nOPERATING_ROIC_no-fees                                                  [OPERATING_ROIC]  \nsequential                             [RSI_14D, PX_TO_BOOK_RATIO, OPERATING_ROIC, PE...  \nzscore_simple                          [RSI_14D, PX_TO_BOOK_RATIO, OPERATING_ROIC, PE...  \nzscore_weighted                        [RSI_14D, PX_TO_BOOK_RATIO, OPERATING_ROIC, PE...  ",
      "text/html": "<div>\n<style scoped>\n    .dataframe tbody tr th:only-of-type {\n        vertical-align: middle;\n    }\n\n    .dataframe tbody tr th {\n        vertical-align: top;\n    }\n\n    .dataframe thead th {\n        text-align: right;\n    }\n</style>\n<table border=\"1\" class=\"dataframe\">\n  <thead>\n    <tr style=\"text-align: right;\">\n      <th></th>\n      <th>info_ratio</th>\n      <th>mean</th>\n      <th>std</th>\n      <th>downside_std</th>\n      <th>alpha</th>\n      <th>risk_adjusted</th>\n      <th>sharpe_ratio</th>\n      <th>beta</th>\n      <th>treynor_ratio</th>\n      <th>sortino_ratio</th>\n      <th>factors_used</th>\n    </tr>\n  </thead>\n  <tbody>\n    <tr>\n      <th>PE_RATIO</th>\n      <td>0.281108</td>\n      <td>0.012248</td>\n      <td>0.057249</td>\n      <td>0.041647</td>\n      <td>0.005642</td>\n      <td>0.213940</td>\n      <td>-0.490486</td>\n      <td>1.023499</td>\n      <td>-0.027435</td>\n      <td>-0.674233</td>\n      <td>PE_RATIO</td>\n    </tr>\n    <tr>\n      <th>EBITDA_MARGIN</th>\n      <td>-0.139086</td>\n      <td>0.003648</td>\n      <td>0.044339</td>\n      <td>0.035267</td>\n      <td>-0.002958</td>\n      <td>0.082268</td>\n      <td>-0.827263</td>\n      <td>0.775638</td>\n      <td>-0.047290</td>\n      <td>-1.040068</td>\n      <td>[EBITDA_MARGIN]</td>\n    </tr>\n    <tr>\n      <th>PX_TO_BOOK_RATIO</th>\n      <td>0.619483</td>\n      <td>0.022222</td>\n      <td>0.045974</td>\n      <td>0.033435</td>\n      <td>0.015616</td>\n      <td>0.483356</td>\n      <td>-0.393815</td>\n      <td>0.769196</td>\n      <td>-0.023538</td>\n      <td>-0.541506</td>\n      <td>[PX_TO_BOOK_RATIO]</td>\n    </tr>\n    <tr>\n      <th>NORMALIZED_ACCRUALS_CF_METHOD</th>\n      <td>0.083081</td>\n      <td>0.008053</td>\n      <td>0.054065</td>\n      <td>0.043833</td>\n      <td>0.001447</td>\n      <td>0.148957</td>\n      <td>-0.596951</td>\n      <td>0.977036</td>\n      <td>-0.033033</td>\n      <td>-0.736295</td>\n      <td>[NORMALIZED_ACCRUALS_CF_METHOD]</td>\n    </tr>\n    <tr>\n      <th>RSI_14D</th>\n      <td>1.755465</td>\n      <td>0.065792</td>\n      <td>0.036437</td>\n      <td>0.014521</td>\n      <td>0.059186</td>\n      <td>1.805620</td>\n      <td>0.698861</td>\n      <td>0.534775</td>\n      <td>0.047617</td>\n      <td>1.753701</td>\n      <td>[RSI_14D]</td>\n    </tr>\n    <tr>\n      <th>VOLATILITY_30D</th>\n      <td>0.222363</td>\n      <td>0.021563</td>\n      <td>0.112118</td>\n      <td>0.084401</td>\n      <td>0.014957</td>\n      <td>0.192327</td>\n      <td>-0.167360</td>\n      <td>1.965232</td>\n      <td>-0.009548</td>\n      <td>-0.222321</td>\n      <td>[VOLATILITY_30D]</td>\n    </tr>\n    <tr>\n      <th>CUR_MKT_CAP</th>\n      <td>-0.013048</td>\n      <td>0.006268</td>\n      <td>0.043303</td>\n      <td>0.032895</td>\n      <td>-0.000338</td>\n      <td>0.144740</td>\n      <td>-0.786537</td>\n      <td>0.719197</td>\n      <td>-0.047358</td>\n      <td>-1.035396</td>\n      <td>[CUR_MKT_CAP]</td>\n    </tr>\n    <tr>\n      <th>OPERATING_ROIC</th>\n      <td>0.304444</td>\n      <td>0.011735</td>\n      <td>0.049362</td>\n      <td>0.038994</td>\n      <td>0.005129</td>\n      <td>0.237738</td>\n      <td>-0.579235</td>\n      <td>0.892040</td>\n      <td>-0.032053</td>\n      <td>-0.733248</td>\n      <td>[OPERATING_ROIC]</td>\n    </tr>\n    <tr>\n      <th>PE_RATIO_no-fees</th>\n      <td>0.302405</td>\n      <td>0.012679</td>\n      <td>0.057263</td>\n      <td>0.041635</td>\n      <td>0.006073</td>\n      <td>0.221408</td>\n      <td>-0.482838</td>\n      <td>1.023722</td>\n      <td>-0.027008</td>\n      <td>-0.664071</td>\n      <td>[PE_RATIO]</td>\n    </tr>\n    <tr>\n      <th>EBITDA_MARGIN_no-fees</th>\n      <td>-0.135435</td>\n      <td>0.003721</td>\n      <td>0.044335</td>\n      <td>0.035268</td>\n      <td>-0.002885</td>\n      <td>0.083931</td>\n      <td>-0.825670</td>\n      <td>0.775341</td>\n      <td>-0.047213</td>\n      <td>-1.037948</td>\n      <td>[EBITDA_MARGIN]</td>\n    </tr>\n    <tr>\n      <th>PX_TO_BOOK_RATIO_no-fees</th>\n      <td>0.630155</td>\n      <td>0.022497</td>\n      <td>0.045957</td>\n      <td>0.033417</td>\n      <td>0.015892</td>\n      <td>0.489535</td>\n      <td>-0.387976</td>\n      <td>0.768805</td>\n      <td>-0.023192</td>\n      <td>-0.533554</td>\n      <td>[PX_TO_BOOK_RATIO]</td>\n    </tr>\n    <tr>\n      <th>NORMALIZED_ACCRUALS_CF_METHOD_no-fees</th>\n      <td>0.096896</td>\n      <td>0.008291</td>\n      <td>0.054042</td>\n      <td>0.043824</td>\n      <td>0.001686</td>\n      <td>0.153425</td>\n      <td>-0.592800</td>\n      <td>0.976757</td>\n      <td>-0.032798</td>\n      <td>-0.731014</td>\n      <td>[NORMALIZED_ACCRUALS_CF_METHOD]</td>\n    </tr>\n    <tr>\n      <th>RSI_14D_no-fees</th>\n      <td>1.770906</td>\n      <td>0.066435</td>\n      <td>0.036361</td>\n      <td>0.014444</td>\n      <td>0.059829</td>\n      <td>1.827107</td>\n      <td>0.718020</td>\n      <td>0.532910</td>\n      <td>0.048991</td>\n      <td>1.807531</td>\n      <td>[RSI_14D]</td>\n    </tr>\n    <tr>\n      <th>VOLATILITY_30D_no-fees</th>\n      <td>0.238168</td>\n      <td>0.022643</td>\n      <td>0.112183</td>\n      <td>0.084428</td>\n      <td>0.016037</td>\n      <td>0.201837</td>\n      <td>-0.157640</td>\n      <td>1.966218</td>\n      <td>-0.008994</td>\n      <td>-0.209463</td>\n      <td>[VOLATILITY_30D]</td>\n    </tr>\n    <tr>\n      <th>CUR_MKT_CAP_no-fees</th>\n      <td>-0.009763</td>\n      <td>0.006353</td>\n      <td>0.043281</td>\n      <td>0.032873</td>\n      <td>-0.000253</td>\n      <td>0.146777</td>\n      <td>-0.784984</td>\n      <td>0.718643</td>\n      <td>-0.047276</td>\n      <td>-1.033501</td>\n      <td>[CUR_MKT_CAP]</td>\n    </tr>\n    <tr>\n      <th>OPERATING_ROIC_no-fees</th>\n      <td>0.311964</td>\n      <td>0.011866</td>\n      <td>0.049348</td>\n      <td>0.038996</td>\n      <td>0.005260</td>\n      <td>0.240461</td>\n      <td>-0.576748</td>\n      <td>0.891700</td>\n      <td>-0.031918</td>\n      <td>-0.729842</td>\n      <td>[OPERATING_ROIC]</td>\n    </tr>\n    <tr>\n      <th>sequential</th>\n      <td>1.056562</td>\n      <td>0.028554</td>\n      <td>0.044736</td>\n      <td>0.032665</td>\n      <td>0.022045</td>\n      <td>0.638288</td>\n      <td>-0.262499</td>\n      <td>0.772746</td>\n      <td>-0.015197</td>\n      <td>-0.359500</td>\n      <td>[RSI_14D, PX_TO_BOOK_RATIO, OPERATING_ROIC, PE...</td>\n    </tr>\n    <tr>\n      <th>zscore_simple</th>\n      <td>1.490896</td>\n      <td>0.042972</td>\n      <td>0.046986</td>\n      <td>0.032498</td>\n      <td>0.036366</td>\n      <td>0.914565</td>\n      <td>0.056288</td>\n      <td>0.793701</td>\n      <td>0.003332</td>\n      <td>0.081383</td>\n      <td>[RSI_14D, PX_TO_BOOK_RATIO, OPERATING_ROIC, PE...</td>\n    </tr>\n    <tr>\n      <th>zscore_weighted</th>\n      <td>1.286627</td>\n      <td>0.036479</td>\n      <td>0.045743</td>\n      <td>0.033310</td>\n      <td>0.029873</td>\n      <td>0.797477</td>\n      <td>-0.084134</td>\n      <td>0.782881</td>\n      <td>-0.004916</td>\n      <td>-0.115536</td>\n      <td>[RSI_14D, PX_TO_BOOK_RATIO, OPERATING_ROIC, PE...</td>\n    </tr>\n  </tbody>\n</table>\n</div>"
     },
     "execution_count": 118,
     "metadata": {},
     "output_type": "execute_result"
    }
   ],
   "source": [
    "strs_res_stats"
   ],
   "metadata": {
    "collapsed": false,
    "ExecuteTime": {
     "end_time": "2023-07-12T09:19:47.686192700Z",
     "start_time": "2023-07-12T09:19:47.655198200Z"
    }
   }
  },
  {
   "cell_type": "code",
   "execution_count": 119,
   "outputs": [
    {
     "data": {
      "text/plain": "array(['RSI_14D', 'PX_TO_BOOK_RATIO', 'OPERATING_ROIC', 'PE_RATIO'],\n      dtype=object)"
     },
     "execution_count": 119,
     "metadata": {},
     "output_type": "execute_result"
    }
   ],
   "source": [
    "best_factors"
   ],
   "metadata": {
    "collapsed": false,
    "ExecuteTime": {
     "end_time": "2023-07-12T09:19:48.948278200Z",
     "start_time": "2023-07-12T09:19:48.921241400Z"
    }
   }
  },
  {
   "cell_type": "code",
   "execution_count": null,
   "outputs": [],
   "source": [],
   "metadata": {
    "collapsed": false
   }
  }
 ],
 "metadata": {
  "kernelspec": {
   "display_name": "Python 3",
   "language": "python",
   "name": "python3"
  },
  "language_info": {
   "codemirror_mode": {
    "name": "ipython",
    "version": 2
   },
   "file_extension": ".py",
   "mimetype": "text/x-python",
   "name": "python",
   "nbconvert_exporter": "python",
   "pygments_lexer": "ipython2",
   "version": "2.7.6"
  }
 },
 "nbformat": 4,
 "nbformat_minor": 0
}
