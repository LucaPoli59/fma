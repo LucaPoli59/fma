{
 "cells": [
  {
   "cell_type": "code",
   "execution_count": 24,
   "metadata": {
    "collapsed": true,
    "ExecuteTime": {
     "end_time": "2023-07-10T18:08:20.629707700Z",
     "start_time": "2023-07-10T18:08:20.590712200Z"
    }
   },
   "outputs": [],
   "source": [
    "import pandas as pd\n",
    "import numpy as np\n",
    "from scipy.stats import zscore"
   ]
  },
  {
   "cell_type": "code",
   "execution_count": 64,
   "outputs": [],
   "source": [
    "df = pd.read_csv('data/data.csv', index_col=0).set_index(['equity','date'])"
   ],
   "metadata": {
    "collapsed": false,
    "ExecuteTime": {
     "end_time": "2023-07-10T18:41:42.224509500Z",
     "start_time": "2023-07-10T18:41:41.790504500Z"
    }
   }
  },
  {
   "cell_type": "code",
   "execution_count": 26,
   "outputs": [],
   "source": [
    "df_prices = df['PX_LAST'].unstack(level=0).replace(0, np.nan)\n",
    "df_log_rtn = df_prices.apply(lambda x: np.log(x / x.shift(1))).dropna(how='all')\n",
    "benchmark_rtn = df_log_rtn.mean(skipna=True, axis='columns')"
   ],
   "metadata": {
    "collapsed": false,
    "ExecuteTime": {
     "end_time": "2023-07-10T18:08:22.115251800Z",
     "start_time": "2023-07-10T18:08:21.841021200Z"
    }
   }
  },
  {
   "cell_type": "code",
   "execution_count": 27,
   "outputs": [],
   "source": [
    "def select_best_equities_from_factor(df_full, df_rnt, factor_selected, num_equities):\n",
    "    factor_values = df_full[factor_selected].unstack(level=0).iloc[1:]\n",
    "    equities =  factor_values.apply(\n",
    "        lambda fact_val: fact_val.loc[~df_rnt.loc[fact_val.name, fact_val.index].isna()\n",
    "        ].sort_values(ascending=False).head(num_equities).index.values,\n",
    "        axis='columns', result_type='expand')\n",
    "    equities.columns = [str(i) + \"_name\" for i in range(len(equities.columns))]\n",
    "    return equities, factor_values\n",
    "\n",
    "def compute_return_from_equities(df_rtn, equities):\n",
    "    equities_rtn = equities.apply(lambda row: df_rtn.loc[row.name, row.values].values, axis='columns', result_type='expand')\n",
    "    equities_rtn.columns = [str(i) + \"_rtn\" for i in range(len(equities_rtn.columns))]\n",
    "    equities_rtn.columns.name = 'equity_rtn'\n",
    "    return equities_rtn\n",
    "\n",
    "def extract_portfolio_state(equities, factor_values):\n",
    "    equities_sparse = pd.DataFrame(index=factor_values.index, columns=factor_values.columns, data=0)\n",
    "    for date in equities_sparse.index:\n",
    "        equities_sparse.loc[date, equities.loc[date].values] = 1\n",
    "    equities_sparse = (2 * equities_sparse - equities_sparse.shift(1, fill_value=0)).dropna()\n",
    "    return equities_sparse.applymap(lambda x: 'not in' if x == 0 else 'in' if x == 1 else 'added' if x == 2 else 'removed')\n",
    "\n",
    "def apply_fees(equities_rtn, equities_names, port_state, fees):\n",
    "    return equities_rtn.apply(\n",
    "        lambda rtn_row: rtn_row -\n",
    "                        (fees * (port_state.loc[rtn_row.name, equities_names.loc[rtn_row.name]] == 'added')\n",
    "                         * (1 + rtn_row).values).values,\n",
    "        axis='columns')\n",
    "\n",
    "def compute_univariate_strategy(df_full, df_rtn, factor_selected, num_equities, market_rtn, fees=None):\n",
    "    equities_names, factor_values = select_best_equities_from_factor(df_full, df_rtn, factor_selected, num_equities)\n",
    "    equities_rtn = compute_return_from_equities(df_rtn, equities_names)\n",
    "    port_state = extract_portfolio_state(equities_names, factor_values)\n",
    "\n",
    "    if fees is not None:\n",
    "        equities_rtn = apply_fees(equities_rtn, equities_names, port_state, fees)\n",
    "\n",
    "    equities = equities_names.merge(equities_rtn, left_index=True, right_index=True)\n",
    "    equities = equities.iloc[:, np.concatenate([[i, i + num_equities] for i in range(num_equities)])]\n",
    "    equities.columns = pd.MultiIndex.from_product([range(num_equities), ['name', 'rtn']])\n",
    "    equities.columns.names = ['equity_pos', 'info']\n",
    "\n",
    "    ris = equities.apply(lambda row: np.average(row.loc[:, \"rtn\"].values), axis='columns').to_frame(name='strategy_rtn')\n",
    "    ris['strategy_alpha'] = ris['strategy_rtn'] - market_rtn\n",
    "    info_ratio = ris['strategy_alpha'].mean() / ris['strategy_alpha'].std()\n",
    "    return equities, ris, info_ratio, port_state"
   ],
   "metadata": {
    "collapsed": false,
    "ExecuteTime": {
     "end_time": "2023-07-10T18:08:22.519526700Z",
     "start_time": "2023-07-10T18:08:22.477529100Z"
    }
   }
  },
  {
   "cell_type": "code",
   "execution_count": 28,
   "outputs": [],
   "source": [
    "def compute_zscore_strategy(df_full, df_rtn, factors_selected, num_equities, market_rtn, fees=None):\n",
    "    df_full['zscore'] = df_full[factors_selected].groupby(level=0).apply(lambda x: zscore(x).mean(axis=1)).values\n",
    "\n",
    "    return compute_univariate_strategy(df_full, df_rtn, 'zscore', num_equities, market_rtn, fees)"
   ],
   "metadata": {
    "collapsed": false,
    "ExecuteTime": {
     "end_time": "2023-07-10T18:08:23.221058200Z",
     "start_time": "2023-07-10T18:08:23.210057900Z"
    }
   }
  },
  {
   "cell_type": "code",
   "execution_count": 77,
   "outputs": [],
   "source": [
    "def compute_sequential_screening(df_full, df_rtn, filter_factor, filter_n_equities, market_rtn, fees=None):\n",
    "    df_filtered = df_full.reset_index()\n",
    "    for n_equities, factor in zip(filter_n_equities[:-1], filter_factor[:-1]):\n",
    "        eq_filter = select_best_equities_from_factor(df_filtered.set_index(['equity', 'date']), df_rtn, factor, n_equities)[0]\n",
    "        df_filtered = pd.concat([df_filtered.loc[(df_filtered['date'] == date) & (df_filtered['equity'].isin(equities.values))\n",
    "                                 ] for date, equities in eq_filter.iterrows()])\n",
    "    return compute_univariate_strategy(df_filtered.set_index(['equity', 'date']), df_rtn, filter_factor[-1], filter_n_equities[-1], market_rtn, fees)"
   ],
   "metadata": {
    "collapsed": false,
    "ExecuteTime": {
     "end_time": "2023-07-10T18:48:06.107113700Z",
     "start_time": "2023-07-10T18:48:06.091116900Z"
    }
   }
  },
  {
   "cell_type": "markdown",
   "source": [
    "# Applicazione delle strategie univariate su più fattori"
   ],
   "metadata": {
    "collapsed": false
   }
  },
  {
   "cell_type": "code",
   "execution_count": 30,
   "outputs": [
    {
     "data": {
      "text/plain": "array(['RSI_14D', 'PX_TO_BOOK_RATIO', 'VOLATILITY_30D', 'OPERATING_ROIC'],\n      dtype=object)"
     },
     "execution_count": 30,
     "metadata": {},
     "output_type": "execute_result"
    }
   ],
   "source": [
    "# Calcolo equities e information ratio per ogni factor scelto\n",
    "testing_factors = ['PE_RATIO', 'EBITDA_MARGIN', 'PX_TO_BOOK_RATIO', 'NORMALIZED_ACCRUALS_CF_METHOD', 'RSI_14D', 'VOLATILITY_30D', 'CUR_MKT_CAP', 'OPERATING_ROIC']\n",
    "\n",
    "strs_ratio = pd.Series(index=testing_factors, name='info_ratio', data=[compute_univariate_strategy(df, df_log_rtn, factor, 10, benchmark_rtn,\n",
    "                                                                                                    fees=0.001)[2]\n",
    "                                                                       for factor in testing_factors])\n",
    "\n",
    "best_factors = strs_ratio.sort_values(ascending=False).head(4).index.values\n",
    "best_factors"
   ],
   "metadata": {
    "collapsed": false,
    "ExecuteTime": {
     "end_time": "2023-07-10T18:08:37.034305300Z",
     "start_time": "2023-07-10T18:08:33.581276600Z"
    }
   }
  },
  {
   "cell_type": "code",
   "execution_count": 22,
   "outputs": [],
   "source": [
    "zscore_strategy = compute_zscore_strategy(df, df_log_rtn, best_factors, 10, benchmark_rtn, fees=0.001)"
   ],
   "metadata": {
    "collapsed": false
   }
  },
  {
   "cell_type": "markdown",
   "source": [
    "# Sequential screening"
   ],
   "metadata": {
    "collapsed": false
   }
  },
  {
   "cell_type": "code",
   "execution_count": 78,
   "outputs": [],
   "source": [
    "seq_strategy = compute_sequential_screening(df, df_log_rtn, best_factors, [400, 200, 100, 30], benchmark_rtn, fees=0.001)\n"
   ],
   "metadata": {
    "collapsed": false,
    "ExecuteTime": {
     "end_time": "2023-07-10T18:48:20.703884300Z",
     "start_time": "2023-07-10T18:48:18.246889500Z"
    }
   }
  }
 ],
 "metadata": {
  "kernelspec": {
   "display_name": "Python 3",
   "language": "python",
   "name": "python3"
  },
  "language_info": {
   "codemirror_mode": {
    "name": "ipython",
    "version": 2
   },
   "file_extension": ".py",
   "mimetype": "text/x-python",
   "name": "python",
   "nbconvert_exporter": "python",
   "pygments_lexer": "ipython2",
   "version": "2.7.6"
  }
 },
 "nbformat": 4,
 "nbformat_minor": 0
}
