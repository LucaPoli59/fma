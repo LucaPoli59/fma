{
 "cells": [
  {
   "cell_type": "code",
   "execution_count": 1,
   "metadata": {
    "collapsed": true,
    "ExecuteTime": {
     "end_time": "2023-07-12T07:43:50.441643800Z",
     "start_time": "2023-07-12T07:43:41.394207100Z"
    }
   },
   "outputs": [],
   "source": [
    "import pandas as pd\n",
    "import numba\n",
    "import numpy as np\n",
    "from scipy.stats import zscore\n",
    "import plotly as px\n",
    "import pandas_datareader as web"
   ]
  },
  {
   "cell_type": "code",
   "execution_count": 2,
   "outputs": [],
   "source": [
    "df = pd.read_csv('data/data.csv', index_col=0).set_index(['equity','date'])"
   ],
   "metadata": {
    "collapsed": false,
    "ExecuteTime": {
     "end_time": "2023-07-12T07:43:51.375471400Z",
     "start_time": "2023-07-12T07:43:50.443645200Z"
    }
   }
  },
  {
   "cell_type": "code",
   "execution_count": 5,
   "outputs": [],
   "source": [
    "rfr = web.get_data_fred(\"IRLTLT01EZM156N\", df.index.get_level_values('date').min(), df.index.get_level_values('date').max()).div(100)\n",
    "rfr = pd.Series(index=df.index.get_level_values('date').unique()[1:], data=rfr.values[:, 0], name='risk_free_rate')"
   ],
   "metadata": {
    "collapsed": false,
    "ExecuteTime": {
     "end_time": "2023-07-12T07:47:16.929509200Z",
     "start_time": "2023-07-12T07:47:16.606952800Z"
    }
   }
  },
  {
   "cell_type": "code",
   "execution_count": 6,
   "outputs": [],
   "source": [
    "df_prices = df['PX_LAST'].unstack(level=0).replace(0, np.nan)\n",
    "df_log_rtn = df_prices.apply(lambda x: np.log(x / x.shift(1))).dropna(how='all')\n",
    "benchmark_rtn = df_log_rtn.mean(skipna=True, axis='columns')"
   ],
   "metadata": {
    "collapsed": false,
    "ExecuteTime": {
     "end_time": "2023-07-12T07:47:19.572485300Z",
     "start_time": "2023-07-12T07:47:19.332160100Z"
    }
   }
  },
  {
   "cell_type": "code",
   "execution_count": 7,
   "outputs": [],
   "source": [
    "def select_best_equities_from_factor(df_full, df_rnt, factor_selected, num_equities):\n",
    "    factor_values = df_full[factor_selected].unstack(level=0).iloc[1:]\n",
    "    equities =  factor_values.apply(\n",
    "        lambda fact_val: fact_val.loc[~df_rnt.loc[fact_val.name, fact_val.index].isna()\n",
    "        ].sort_values(ascending=False).head(num_equities).index.values,\n",
    "        axis='columns', result_type='expand')\n",
    "    equities.columns = [str(i) + \"_name\" for i in range(len(equities.columns))]\n",
    "    return equities, factor_values\n",
    "\n",
    "def compute_return_from_equities(df_rtn, equities):\n",
    "    equities_rtn = equities.apply(lambda row: df_rtn.loc[row.name, row.values].values, axis='columns', result_type='expand')\n",
    "    equities_rtn.columns = [str(i) + \"_rtn\" for i in range(len(equities_rtn.columns))]\n",
    "    equities_rtn.columns.name = 'equity_rtn'\n",
    "    return equities_rtn\n",
    "\n",
    "def extract_portfolio_state(equities, factor_values):\n",
    "    equities_sparse = pd.DataFrame(index=factor_values.index, columns=factor_values.columns, data=0)\n",
    "    for date in equities_sparse.index:\n",
    "        equities_sparse.loc[date, equities.loc[date].values] = 1\n",
    "    equities_sparse = (2 * equities_sparse - equities_sparse.shift(1, fill_value=0)).dropna()\n",
    "    return equities_sparse.applymap(lambda x: 'not in' if x == 0 else 'in' if x == 1 else 'added' if x == 2 else 'removed')\n",
    "\n",
    "def apply_fees(equities_rtn, equities_names, port_state, fees):\n",
    "    return equities_rtn.apply(\n",
    "        lambda rtn_row: rtn_row -\n",
    "                        (fees * (port_state.loc[rtn_row.name, equities_names.loc[rtn_row.name]] == 'added')\n",
    "                         * (1 + rtn_row).values).values,\n",
    "        axis='columns')\n",
    "\n",
    "def compute_univariate_strategy(df_full, df_rtn, factor_selected, num_equities, market_rtn, fees=None):\n",
    "    equities_names, factor_values = select_best_equities_from_factor(df_full, df_rtn, factor_selected, num_equities)\n",
    "    equities_rtn = compute_return_from_equities(df_rtn, equities_names)\n",
    "    port_state = extract_portfolio_state(equities_names, factor_values)\n",
    "\n",
    "    if fees is not None:\n",
    "        equities_rtn = apply_fees(equities_rtn, equities_names, port_state, fees)\n",
    "\n",
    "    equities = equities_names.merge(equities_rtn, left_index=True, right_index=True)\n",
    "    equities = equities.iloc[:, np.concatenate([[i, i + num_equities] for i in range(num_equities)])]\n",
    "    equities.columns = pd.MultiIndex.from_product([range(num_equities), ['name', 'rtn']])\n",
    "    equities.columns.names = ['equity_pos', 'info']\n",
    "\n",
    "    ris = equities.apply(lambda row: np.average(row.loc[:, \"rtn\"].values), axis='columns').to_frame(name='strategy_rtn')\n",
    "    ris['strategy_alpha'] = ris['strategy_rtn'] - market_rtn\n",
    "    info_ratio = ris['strategy_alpha'].mean() / ris['strategy_alpha'].std()\n",
    "    return equities, ris, info_ratio, port_state"
   ],
   "metadata": {
    "collapsed": false,
    "ExecuteTime": {
     "end_time": "2023-07-12T07:47:19.862610700Z",
     "start_time": "2023-07-12T07:47:19.800613600Z"
    }
   }
  },
  {
   "cell_type": "code",
   "execution_count": 8,
   "outputs": [],
   "source": [
    "window_date_size = 12\n",
    "\n",
    "@numba.jit(nopython=True)\n",
    "def compute_window_corr_avg(window):\n",
    "    if len(window) == window_date_size:\n",
    "        corr_matrix = np.corrcoef(window, rowvar=False)\n",
    "        corr_matrix_nod_iag = np.extract(~np.eye(corr_matrix.shape[0], dtype=numba.boolean), corr_matrix).reshape(corr_matrix.shape[0], -1)\n",
    "        avg_corr = np.sum(corr_matrix_nod_iag, axis=1) / corr_matrix_nod_iag.shape[1]\n",
    "\n",
    "    else:\n",
    "        avg_corr = np.ones(window.shape[1])\n",
    "    return avg_corr"
   ],
   "metadata": {
    "collapsed": false,
    "ExecuteTime": {
     "end_time": "2023-07-12T07:47:20.640756200Z",
     "start_time": "2023-07-12T07:47:20.507759300Z"
    }
   }
  },
  {
   "cell_type": "code",
   "execution_count": 9,
   "outputs": [],
   "source": [
    "def compute_zscore_strategy_simple(df_full, df_rtn, factors_selected, num_equities, market_rtn, fees=None):\n",
    "    df_full['zscore'] = df_full[factors_selected].groupby(level=0).apply(lambda x: zscore(x).mean(axis=1)).values\n",
    "    return compute_univariate_strategy(df_full, df_rtn, 'zscore', num_equities, market_rtn, fees)\n",
    "\n",
    "def compute_zscore_strategy_weighted(df_full, df_rtn, factors_selected, num_equities, market_rtn, fees=None):\n",
    "    zs_factors = df[factors_selected].groupby(level=0, group_keys=False).apply(lambda x: zscore(x))\n",
    "\n",
    "    zs_weight = zs_factors.groupby(level=0).rolling(window_date_size, min_periods=1, method=\"table\"\n",
    "                                                    ).apply(compute_window_corr_avg, raw=True, engine=\"numba\").values\n",
    "\n",
    "    zs_weight = 1 - abs(zs_weight) + 0.000001 # si somma un piccolo valore per le prime date in cui i pesi sono 0\n",
    "    df_full['zscore'] = np.average(zs_factors.values, axis=1, weights=zs_weight)\n",
    "    return compute_univariate_strategy(df_full, df_rtn, 'zscore', num_equities, market_rtn, fees)"
   ],
   "metadata": {
    "collapsed": false,
    "ExecuteTime": {
     "end_time": "2023-07-12T07:47:20.647756900Z",
     "start_time": "2023-07-12T07:47:20.554764300Z"
    }
   }
  },
  {
   "cell_type": "code",
   "execution_count": 10,
   "outputs": [],
   "source": [
    "def compute_sequential_screening(df_full, df_rtn, filter_factor, filter_n_equities, market_rtn, fees=None):\n",
    "    df_filtered = df_full.reset_index()\n",
    "    for n_equities, factor in zip(filter_n_equities[:-1], filter_factor[:-1]):\n",
    "        eq_filter = select_best_equities_from_factor(df_filtered.set_index(['equity', 'date']), df_rtn, factor, n_equities)[0]\n",
    "        df_filtered = pd.concat([df_filtered.loc[(df_filtered['date'] == date) & (df_filtered['equity'].isin(equities.values))\n",
    "                                 ] for date, equities in eq_filter.iterrows()])\n",
    "    return compute_univariate_strategy(df_filtered.set_index(['equity', 'date']), df_rtn, filter_factor[-1], filter_n_equities[-1], market_rtn, fees)"
   ],
   "metadata": {
    "collapsed": false,
    "ExecuteTime": {
     "end_time": "2023-07-12T07:47:20.648757600Z",
     "start_time": "2023-07-12T07:47:20.574762Z"
    }
   }
  },
  {
   "cell_type": "markdown",
   "source": [
    "# Applicazione delle strategie univariate su più fattori"
   ],
   "metadata": {
    "collapsed": false
   }
  },
  {
   "cell_type": "code",
   "execution_count": 11,
   "outputs": [
    {
     "data": {
      "text/plain": "array(['RSI_14D', 'PX_TO_BOOK_RATIO', 'VOLATILITY_30D', 'OPERATING_ROIC'],\n      dtype=object)"
     },
     "execution_count": 11,
     "metadata": {},
     "output_type": "execute_result"
    }
   ],
   "source": [
    "# Calcolo equities e information ratio per ogni factor scelto\n",
    "testing_factors = ['PE_RATIO', 'EBITDA_MARGIN', 'PX_TO_BOOK_RATIO', 'NORMALIZED_ACCRUALS_CF_METHOD', 'RSI_14D', 'VOLATILITY_30D', 'CUR_MKT_CAP', 'OPERATING_ROIC']\n",
    "\n",
    "strs_ratio = pd.Series(index=testing_factors, name='info_ratio',\n",
    "                       data=[compute_univariate_strategy(df, df_log_rtn, factor, 10, benchmark_rtn, fees=0.001)[2]\n",
    "                             for factor in testing_factors])\n",
    "\n",
    "best_factors = strs_ratio.sort_values(ascending=False).head(4).index.values\n",
    "best_factors"
   ],
   "metadata": {
    "collapsed": false,
    "ExecuteTime": {
     "end_time": "2023-07-12T07:47:26.070766300Z",
     "start_time": "2023-07-12T07:47:20.980765300Z"
    }
   }
  },
  {
   "cell_type": "code",
   "execution_count": 12,
   "outputs": [
    {
     "data": {
      "text/plain": "(equity_pos        0                  1                   2                  3  \\\n info           name       rtn     name       rtn      name       rtn     name   \n date                                                                            \n 2003-02-28   COX FP -1.947431   PIC BB  0.016407  RAP1V FH -0.025723   ANZ GR   \n 2003-03-31  HEIA NA  0.025024   PIC BB -0.073943    TFI FP -0.017136   ANZ GR   \n 2003-04-30   ANZ GR  0.000000   BOL FP  0.119561    TFI FP  0.186861   SAN FP   \n 2003-05-30   MDN GR  0.178949  MOBB BB  0.148097    PIC BB -0.005543   OHB GR   \n 2003-06-30   SPA BB -0.054435   MDN GR -0.057481    ANZ GR -0.038004   PIC BB   \n ...             ...       ...      ...       ...       ...       ...      ...   \n 2011-11-30    PC IM  0.088898   SZU GR  0.102842    DLG IM -0.008255   WET GR   \n 2011-12-30   SZU GR  0.045651   OLE SM -0.001000    VID SM  0.031757    PC IM   \n 2012-01-31   OLE SM  0.067441   DLG IM  0.197577    PRC FP  0.013514   TCH FP   \n 2012-02-29   BVB GR  0.084512    PC IM  0.100824    OLE SM -0.033152   DUE GR   \n 2012-03-30    PC IM  0.131611   DUE GR  0.025798    EAD FP  0.117703  SCUN GR   \n \n equity_pos                  4                  5                 6            \\\n info             rtn     name       rtn     name       rtn    name       rtn   \n date                                                                           \n 2003-02-28 -0.051380  HEIA NA -0.012982  HEIO NA -0.022252  SAZ GR  0.029085   \n 2003-03-31 -0.071459  HEIO NA  0.016286  MOBB BB  0.149039  REN NA -0.032958   \n 2003-04-30  0.147717   PIC BB  0.051005   PUM GR  0.142869  SAP GR  0.277755   \n 2003-05-30  0.276648   SPA BB  0.072784   SAZ GR  0.158154  RHK GR  0.195738   \n 2003-06-30 -0.022469  HEIA NA  0.010380   SAZ GR  0.007254  SAP GR  0.072157   \n ...              ...      ...       ...      ...       ...     ...       ...   \n 2011-11-30  0.026344   KUL GR  0.062873   TPL GR  0.064252  BVB GR -0.014822   \n 2011-12-30 -0.072624   BVB GR -0.120353   DLG IM -0.137917  WET GR -0.040822   \n 2012-01-31  0.673672    PC IM  0.083289   BVB GR  0.235280  VID SM -0.021740   \n 2012-02-29  0.171709   TCH FP -0.046165   VID SM -0.007722  DLG IM  0.156992   \n 2012-03-30  0.071138   VID SM  0.079276  FLUX BB  0.132486  DLG IM  0.050896   \n \n equity_pos        7                  8                   9            \n info           name       rtn     name       rtn      name       rtn  \n date                                                                  \n 2003-02-28   SAN FP  0.018722   MUK GR -0.028002    MDN GR -0.141901  \n 2003-03-31   SAN FP -0.073364   SPA BB  0.127427  RAP1V FH -0.020714  \n 2003-04-30   SPA BB  0.108214   LPK GR  0.911343    LEI GR  0.221920  \n 2003-05-30   TFI FP -0.001193   PUM GR  0.052304    LPK GR -0.049855  \n 2003-06-30   BZU IM -0.068229   TNG FP  0.560568    OLG GR  0.102310  \n ...             ...       ...      ...       ...       ...       ...  \n 2011-11-30  LCA1 GR  0.049928   BOS GR -0.017832    DUE GR  0.063681  \n 2011-12-30   TPL GR  0.016402  JUVE IM  0.300687    KUL GR  0.060625  \n 2012-01-31  LCA1 GR  0.212322   RMS FP  0.141625    DUE GR  0.135936  \n 2012-02-29   RMS FP  0.052600   PNL NA  0.368726   SCUN GR  0.163420  \n 2012-03-30   BVB GR -0.036594   BOS GR  0.190371    OLE SM -0.045985  \n \n [110 rows x 20 columns],\n             strategy_rtn  strategy_alpha\n date                                    \n 2003-02-28     -0.216546       -0.162268\n 2003-03-31      0.002820        0.028569\n 2003-04-30      0.216725        0.106576\n 2003-05-30      0.102608        0.064381\n 2003-06-30      0.051205        0.003285\n ...                  ...             ...\n 2011-11-30      0.041791        0.097112\n 2011-12-30      0.008241        0.016768\n 2012-01-31      0.173892        0.102668\n 2012-02-29      0.101174        0.054815\n 2012-03-30      0.071670        0.066757\n \n [110 rows x 2 columns],\n 1.1692117245216025,\n equity      2HR GR  AAD GR  AAH GR AALB NA  ABE SM ABE1 GR  ABG SM  ABI BB  \\\n date                                                                         \n 2003-02-28  not in  not in  not in  not in  not in  not in  not in  not in   \n 2003-03-31  not in  not in  not in  not in  not in  not in  not in  not in   \n 2003-04-30  not in  not in  not in  not in  not in  not in  not in  not in   \n 2003-05-30  not in  not in  not in  not in  not in  not in  not in  not in   \n 2003-06-30  not in  not in  not in  not in  not in  not in  not in  not in   \n ...            ...     ...     ...     ...     ...     ...     ...     ...   \n 2011-11-30  not in  not in  not in  not in  not in  not in  not in  not in   \n 2011-12-30  not in  not in  not in  not in  not in  not in  not in  not in   \n 2012-01-31  not in  not in  not in  not in  not in  not in  not in  not in   \n 2012-02-29  not in  not in  not in  not in  not in  not in  not in  not in   \n 2012-03-30  not in  not in  not in  not in  not in  not in  not in  not in   \n \n equity       AC FP ACCEL NA  ...  WMF GR  WOM GR WRT1V FH  WSU GR YTY1V FH  \\\n date                         ...                                             \n 2003-02-28  not in   not in  ...  not in  not in   not in  not in   not in   \n 2003-03-31  not in   not in  ...  not in  not in   not in  not in   not in   \n 2003-04-30  not in   not in  ...  not in  not in   not in  not in   not in   \n 2003-05-30  not in   not in  ...  not in  not in   not in  not in   not in   \n 2003-06-30  not in   not in  ...  not in  not in   not in  not in   not in   \n ...            ...      ...  ...     ...     ...      ...     ...      ...   \n 2011-11-30  not in   not in  ...  not in  not in   not in  not in   not in   \n 2011-12-30  not in   not in  ...  not in  not in   not in  not in   not in   \n 2012-01-31  not in   not in  ...  not in  not in   not in  not in   not in   \n 2012-02-29  not in   not in  ...  not in  not in   not in  not in   not in   \n 2012-03-30  not in   not in  ...  not in  not in   not in  not in   not in   \n \n equity      ZAR GR   ZC FP  ZEL SM ZIL2 GR  ZOT SM  \n date                                                \n 2003-02-28  not in  not in  not in  not in  not in  \n 2003-03-31  not in  not in  not in  not in  not in  \n 2003-04-30  not in  not in  not in  not in  not in  \n 2003-05-30  not in  not in  not in  not in  not in  \n 2003-06-30  not in  not in  not in  not in  not in  \n ...            ...     ...     ...     ...     ...  \n 2011-11-30  not in  not in  not in  not in  not in  \n 2011-12-30  not in  not in  not in  not in  not in  \n 2012-01-31  not in  not in  not in  not in  not in  \n 2012-02-29  not in  not in  not in  not in  not in  \n 2012-03-30  not in  not in  not in  not in  not in  \n \n [110 rows x 603 columns])"
     },
     "execution_count": 12,
     "metadata": {},
     "output_type": "execute_result"
    }
   ],
   "source": [
    "zscore_strategy_simple = compute_zscore_strategy_simple(df, df_log_rtn, best_factors, 10, benchmark_rtn, fees=0.001)\n",
    "zscore_strategy_simple"
   ],
   "metadata": {
    "collapsed": false,
    "ExecuteTime": {
     "end_time": "2023-07-12T07:47:27.524762200Z",
     "start_time": "2023-07-12T07:47:26.024766400Z"
    }
   }
  },
  {
   "cell_type": "markdown",
   "source": [
    "# Sequential screening"
   ],
   "metadata": {
    "collapsed": false
   }
  },
  {
   "cell_type": "code",
   "execution_count": 13,
   "outputs": [
    {
     "data": {
      "text/plain": "(equity_pos      0                  1                 2                  3   \\\n info          name       rtn     name       rtn    name       rtn     name   \n date                                                                         \n 2003-05-30   EC FP  0.031229   SAP GR  0.037930  PUM GR  0.051252   RAA GR   \n 2003-06-30   EC FP -0.160343   SAP GR  0.073231  RAA GR -0.089612   MDN GR   \n 2003-07-31   EC FP -0.023250   SAP GR  0.021958  PUM GR  0.158754   RAA GR   \n 2003-08-29   EC FP  0.137022   SAP GR  0.040327  PUM GR  0.018546   RAA GR   \n 2003-09-30  ZOT SM -0.000332   SAP GR -0.041280  RAA GR -0.012579   EVD GR   \n ...            ...       ...      ...       ...     ...       ...      ...   \n 2011-11-30  EUR FP -0.171787  LCA1 GR  0.050979  EVS BB  0.043758   BOS GR   \n 2011-12-30  EUR FP -0.038001   BOS GR -0.120377  OEL GR  0.002701   ASM NA   \n 2012-01-31  EUR FP  0.131769  LCA1 GR  0.212322  BOS GR  0.152467   RMS FP   \n 2012-02-29  EVS BB  0.072787   AAD GR  0.101425  NSU GR  0.082925   BOS GR   \n 2012-03-30  EUR FP -0.042432   AAD GR  0.044471  BOS GR  0.191563  UTDI GR   \n \n equity_pos                 4             ...        25                  26  \\\n info             rtn     name       rtn  ...      name       rtn      name   \n date                                     ...                                 \n 2003-05-30  0.027959   MDN GR  0.178949  ...    RHK GR  0.195738  AMEAS FH   \n 2003-06-30 -0.057481   SPA BB -0.055381  ...    IXX GR  0.001179     MN IM   \n 2003-07-31  0.179714   MDN GR -0.103133  ...     ES IM  0.062055    KAE GR   \n 2003-08-29  0.043430   MDN GR  0.069012  ...  NRE1V FH  0.113329    ADS GR   \n 2003-09-30  0.150604  MELE BB -0.006725  ...    ADS GR -0.017458     BB FP   \n ...              ...      ...       ...  ...       ...       ...       ...   \n 2011-11-30 -0.017832   LSS FP -0.069399  ...    IFX GR -0.063873    ZAR GR   \n 2011-12-30  0.125031  GWI1 GR  0.026875  ...    WDI GR  0.008699   GSC1 GR   \n 2012-01-31  0.141625   ASM NA  0.104811  ...    UMI BB  0.109134    LEO GR   \n 2012-02-29  0.100698   RMS FP  0.052600  ...  VAC1V FH  0.007129    LVL FP   \n 2012-03-30 -0.023372   IXX GR  0.162230  ...    SOW GR -0.015723   DRW3 GR   \n \n equity_pos                  27                  28                 29  \\\n info             rtn      name       rtn      name       rtn     name   \n date                                                                    \n 2003-05-30  0.000843    OHB GR  0.276648     MN IM  0.008537  HEN3 GR   \n 2003-06-30 -0.015699    CEV GR  0.224036    LSS FP -0.001000   DRI GR   \n 2003-07-31  0.083598    FUR NA  0.130141  NRE1V FH  0.004454   IND IM   \n 2003-08-29  0.020180    BZU IM  0.219642    OHB GR  0.021967   LUX IM   \n 2003-09-30 -0.025268   RAND NA -0.000185    ATO FP  0.260295   RHK GR   \n ...              ...       ...       ...       ...       ...      ...   \n 2011-11-30 -0.093849    EUZ GR -0.116947    REC IM -0.102568   GFT FP   \n 2011-12-30  0.006459  VAC1V FH -0.174209    KWS GR  0.051880   UMI BB   \n 2012-01-31  0.286588     SK FP  0.087442    BVB GR  0.234045   G1A GR   \n 2012-02-29  0.171657   DRW3 GR  0.193378    UMI BB  0.094043   LEO GR   \n 2012-03-30  0.016930  MEO1V FH -0.107346    UMI BB  0.056141   LEO GR   \n \n equity_pos            \n info             rtn  \n date                  \n 2003-05-30 -0.052044  \n 2003-06-30  0.458881  \n 2003-07-31 -0.033628  \n 2003-08-29  0.030064  \n 2003-09-30  0.009336  \n ...              ...  \n 2011-11-30  0.166481  \n 2011-12-30 -0.000686  \n 2012-01-31  0.115598  \n 2012-02-29  0.094939  \n 2012-03-30  0.034693  \n \n [107 rows x 60 columns],\n             strategy_rtn  strategy_alpha\n date                                    \n 2003-05-30      0.059040        0.020813\n 2003-06-30      0.041543       -0.006377\n 2003-07-31      0.088662        0.042479\n 2003-08-29      0.060256        0.006720\n 2003-09-30      0.023742        0.023204\n ...                  ...             ...\n 2011-11-30     -0.031247        0.024075\n 2011-12-30     -0.019160       -0.010633\n 2012-01-31      0.124394        0.053171\n 2012-02-29      0.089612        0.043252\n 2012-03-30      0.048656        0.043743\n \n [107 rows x 2 columns],\n 0.965925294177922,\n equity       2HR GR   AAD GR  AAH GR AALB NA  ABG SM  ABI BB   AC FP ACCEL NA  \\\n date                                                                            \n 2003-05-30   not in   not in  not in  not in  not in  not in  not in   not in   \n 2003-06-30   not in   not in  not in  not in  not in  not in  not in   not in   \n 2003-07-31   not in   not in  not in  not in  not in  not in  not in    added   \n 2003-08-29   not in   not in  not in  not in  not in  not in  not in  removed   \n 2003-09-30   not in   not in  not in  not in  not in  not in  not in   not in   \n ...             ...      ...     ...     ...     ...     ...     ...      ...   \n 2011-11-30       in  removed  not in  not in  not in  not in  not in   not in   \n 2011-12-30  removed   not in  not in  not in  not in  not in  not in   not in   \n 2012-01-31   not in   not in  not in  not in  not in  not in  not in   not in   \n 2012-02-29   not in    added  not in  not in  not in  not in  not in   not in   \n 2012-03-30   not in       in  not in  not in  not in  not in  not in   not in   \n \n equity      ACO IM ACOMO NA  ...  WMF GR  WOM GR WRT1V FH  WSU GR YTY1V FH  \\\n date                         ...                                             \n 2003-05-30  not in    added  ...  not in  not in   not in  not in   not in   \n 2003-06-30  not in       in  ...  not in  not in   not in  not in   not in   \n 2003-07-31  not in       in  ...  not in  not in   not in  not in    added   \n 2003-08-29  not in       in  ...  not in  not in   not in  not in  removed   \n 2003-09-30  not in       in  ...  not in  not in   not in  not in   not in   \n ...            ...      ...  ...     ...     ...      ...     ...      ...   \n 2011-11-30  not in   not in  ...  not in  not in   not in  not in   not in   \n 2011-12-30  not in   not in  ...  not in  not in   not in  not in   not in   \n 2012-01-31  not in   not in  ...  not in  not in   not in  not in   not in   \n 2012-02-29  not in   not in  ...  not in  not in   not in  not in   not in   \n 2012-03-30  not in   not in  ...  not in  not in   not in  not in   not in   \n \n equity       ZAR GR   ZC FP  ZEL SM ZIL2 GR  ZOT SM  \n date                                                 \n 2003-05-30   not in  not in  not in  not in  not in  \n 2003-06-30   not in  not in  not in  not in  not in  \n 2003-07-31   not in  not in  not in  not in  not in  \n 2003-08-29   not in  not in  not in  not in  not in  \n 2003-09-30   not in  not in  not in  not in   added  \n ...             ...     ...     ...     ...     ...  \n 2011-11-30    added  not in  not in  not in  not in  \n 2011-12-30  removed  not in  not in  not in  not in  \n 2012-01-31    added  not in  not in  not in  not in  \n 2012-02-29  removed  not in  not in  not in  not in  \n 2012-03-30   not in  not in  not in  not in  not in  \n \n [107 rows x 496 columns])"
     },
     "execution_count": 13,
     "metadata": {},
     "output_type": "execute_result"
    }
   ],
   "source": [
    "seq_strategy = compute_sequential_screening(df, df_log_rtn, best_factors, [400, 200, 100, 30], benchmark_rtn, fees=0.001)\n",
    "seq_strategy"
   ],
   "metadata": {
    "collapsed": false,
    "ExecuteTime": {
     "end_time": "2023-07-12T07:47:30.302758Z",
     "start_time": "2023-07-12T07:47:27.526763900Z"
    }
   }
  },
  {
   "cell_type": "markdown",
   "source": [
    "# Simultanous screening weighted"
   ],
   "metadata": {
    "collapsed": false
   }
  },
  {
   "cell_type": "code",
   "execution_count": 14,
   "outputs": [
    {
     "name": "stderr",
     "output_type": "stream",
     "text": [
      "F:\\anaconda\\envs\\FMA\\lib\\site-packages\\pandas\\core\\window\\numba_.py:230: NumbaExperimentalFeatureWarning: \u001B[1m\u001B[1m\u001B[1m\u001B[1m\u001B[1m\u001B[1m\u001B[1mUse of isinstance() detected. This is an experimental feature.\u001B[0m\u001B[0m\u001B[0m\u001B[0m\u001B[0m\u001B[0m\u001B[0m\n",
      "  sub_result = numba_func(window, *args)\n",
      "F:\\anaconda\\envs\\FMA\\lib\\site-packages\\pandas\\core\\window\\numba_.py:234: NumbaExperimentalFeatureWarning: \u001B[1m\u001B[1m\u001B[1m\u001B[1mUse of isinstance() detected. This is an experimental feature.\u001B[0m\u001B[0m\u001B[0m\u001B[0m\n",
      "  result = np.where(min_periods_mask, result, np.nan)\n"
     ]
    },
    {
     "data": {
      "text/plain": "(equity_pos        0                  1                   2                  3  \\\n info           name       rtn     name       rtn      name       rtn     name   \n date                                                                            \n 2003-02-28   COX FP -1.947431   PIC BB  0.016407  RAP1V FH -0.025723   ANZ GR   \n 2003-03-31  HEIA NA  0.025024   PIC BB -0.073943    TFI FP -0.017136   ANZ GR   \n 2003-04-30   ANZ GR  0.000000   BOL FP  0.119561    TFI FP  0.186861   SAN FP   \n 2003-05-30   MDN GR  0.178949  MOBB BB  0.148097    PIC BB -0.005543   OHB GR   \n 2003-06-30   SPA BB -0.054435   MDN GR -0.057481    ANZ GR -0.038004   PIC BB   \n ...             ...       ...      ...       ...       ...       ...      ...   \n 2011-11-30    PC IM  0.088898   DLG IM -0.008255    KUL GR  0.062873   SZU GR   \n 2011-12-30   SZU GR  0.045651    PC IM -0.072624    DLG IM -0.137917   WET GR   \n 2012-01-31   DLG IM  0.197577    PC IM  0.083289    TCH FP  0.673672   PRC FP   \n 2012-02-29    PC IM  0.100824   PNL NA  0.368726    DUE GR  0.171709   DLG IM   \n 2012-03-30    PC IM  0.131611   DUE GR  0.025798    EAD FP  0.118822  SCUN GR   \n \n equity_pos                  4                  5                  6            \\\n info             rtn     name       rtn     name       rtn     name       rtn   \n date                                                                            \n 2003-02-28 -0.051380  HEIA NA -0.012982  HEIO NA -0.022252   SAZ GR  0.029085   \n 2003-03-31 -0.071459  HEIO NA  0.016286  MOBB BB  0.149039   REN NA -0.032958   \n 2003-04-30  0.147717   PIC BB  0.051005   PUM GR  0.142869   SAP GR  0.277755   \n 2003-05-30  0.276648   SPA BB  0.072784   SAZ GR  0.158154   RHK GR  0.195738   \n 2003-06-30 -0.022469  HEIA NA  0.010380   SAZ GR  0.007254   SAP GR  0.072157   \n ...              ...      ...       ...      ...       ...      ...       ...   \n 2011-11-30  0.102842   WET GR  0.026344   BOS GR -0.017832    FM IM -0.087104   \n 2011-12-30 -0.040822   KUL GR  0.060625  JUVE IM  0.300687   TPL GR  0.016402   \n 2012-01-31  0.013514  LCA1 GR  0.212322   PVA SM  0.021605   BVB GR  0.235280   \n 2012-02-29  0.156992   BVB GR  0.084512   TCH FP -0.046165  SCUN GR  0.163420   \n 2012-03-30  0.071138   DLG IM  0.050896  FLUX BB  0.132486   BOS GR  0.190371   \n \n equity_pos       7                  8                   9            \n info          name       rtn     name       rtn      name       rtn  \n date                                                                 \n 2003-02-28  SAN FP  0.018722   MUK GR -0.028002    MDN GR -0.141901  \n 2003-03-31  SAN FP -0.073364   SPA BB  0.127427  RAP1V FH -0.020714  \n 2003-04-30  SPA BB  0.108214   LPK GR  0.911343    LEI GR  0.221920  \n 2003-05-30  TFI FP -0.001193   PUM GR  0.052304    LPK GR -0.049855  \n 2003-06-30  BZU IM -0.068229   TNG FP  0.560568    OLG GR  0.102310  \n ...            ...       ...      ...       ...       ...       ...  \n 2011-11-30  PVA SM  0.044818  LCA1 GR  0.049928    TPL GR  0.064252  \n 2011-12-30  KIN BB -0.032026   BVB GR -0.121232    DUE GR  0.004451  \n 2012-01-31  RMS FP  0.141625   DWB GR  0.031133    DUE GR  0.137073  \n 2012-02-29  RMS FP  0.052600   RUK GR  0.158836    EAD FP  0.058831  \n 2012-03-30  CAI IM  0.075612   NXU GR  0.030787    BVB GR -0.036594  \n \n [110 rows x 20 columns],\n             strategy_rtn  strategy_alpha\n date                                    \n 2003-02-28     -0.216546       -0.162268\n 2003-03-31      0.002820        0.028569\n 2003-04-30      0.216725        0.106576\n 2003-05-30      0.102608        0.064381\n 2003-06-30      0.051205        0.003285\n ...                  ...             ...\n 2011-11-30      0.032676        0.087998\n 2011-12-30      0.002319        0.010847\n 2012-01-31      0.174709        0.103486\n 2012-02-29      0.127029        0.080669\n 2012-03-30      0.079093        0.074180\n \n [110 rows x 2 columns],\n 1.125734287907128,\n equity      2HR GR  AAD GR  AAH GR AALB NA  ABE SM ABE1 GR  ABG SM  ABI BB  \\\n date                                                                         \n 2003-02-28  not in  not in  not in  not in  not in  not in  not in  not in   \n 2003-03-31  not in  not in  not in  not in  not in  not in  not in  not in   \n 2003-04-30  not in  not in  not in  not in  not in  not in  not in  not in   \n 2003-05-30  not in  not in  not in  not in  not in  not in  not in  not in   \n 2003-06-30  not in  not in  not in  not in  not in  not in  not in  not in   \n ...            ...     ...     ...     ...     ...     ...     ...     ...   \n 2011-11-30  not in  not in  not in  not in  not in  not in  not in  not in   \n 2011-12-30  not in  not in  not in  not in  not in  not in  not in  not in   \n 2012-01-31  not in  not in  not in  not in  not in  not in  not in  not in   \n 2012-02-29  not in  not in  not in  not in  not in  not in  not in  not in   \n 2012-03-30  not in  not in  not in  not in  not in  not in  not in  not in   \n \n equity       AC FP ACCEL NA  ...  WMF GR  WOM GR WRT1V FH  WSU GR YTY1V FH  \\\n date                         ...                                             \n 2003-02-28  not in   not in  ...  not in  not in   not in  not in   not in   \n 2003-03-31  not in   not in  ...  not in  not in   not in  not in   not in   \n 2003-04-30  not in   not in  ...  not in  not in   not in  not in   not in   \n 2003-05-30  not in   not in  ...  not in  not in   not in  not in   not in   \n 2003-06-30  not in   not in  ...  not in  not in   not in  not in   not in   \n ...            ...      ...  ...     ...     ...      ...     ...      ...   \n 2011-11-30  not in   not in  ...  not in  not in   not in  not in   not in   \n 2011-12-30  not in   not in  ...  not in  not in   not in  not in   not in   \n 2012-01-31  not in   not in  ...  not in  not in   not in  not in   not in   \n 2012-02-29  not in   not in  ...  not in  not in   not in  not in   not in   \n 2012-03-30  not in   not in  ...  not in  not in   not in  not in   not in   \n \n equity      ZAR GR   ZC FP  ZEL SM ZIL2 GR  ZOT SM  \n date                                                \n 2003-02-28  not in  not in  not in  not in  not in  \n 2003-03-31  not in  not in  not in  not in  not in  \n 2003-04-30  not in  not in  not in  not in  not in  \n 2003-05-30  not in  not in  not in  not in  not in  \n 2003-06-30  not in  not in  not in  not in  not in  \n ...            ...     ...     ...     ...     ...  \n 2011-11-30  not in  not in  not in  not in  not in  \n 2011-12-30  not in  not in  not in  not in  not in  \n 2012-01-31  not in  not in  not in  not in  not in  \n 2012-02-29  not in  not in  not in  not in  not in  \n 2012-03-30  not in  not in  not in  not in  not in  \n \n [110 rows x 603 columns])"
     },
     "execution_count": 14,
     "metadata": {},
     "output_type": "execute_result"
    }
   ],
   "source": [
    "zscore_strategy_weighted = compute_zscore_strategy_weighted(df, df_log_rtn, best_factors, 10, benchmark_rtn, fees=0.001)\n",
    "# zscore_strategy_weighted = compute_zscore_strategy_weighted(df, df_log_rtn, best_factors, 10, benchmark_rtn, fees=0.001)\n",
    "zscore_strategy_weighted"
   ],
   "metadata": {
    "collapsed": false,
    "ExecuteTime": {
     "end_time": "2023-07-12T07:47:48.531921800Z",
     "start_time": "2023-07-12T07:47:30.308761400Z"
    }
   }
  },
  {
   "cell_type": "code",
   "execution_count": 46,
   "outputs": [],
   "source": [
    "def evaluate_strategy(strategy_result, market_rtn, risk_free_rate):\n",
    "    rtn, alpha = strategy_result[1]['strategy_rtn'], strategy_result[1]['strategy_alpha']\n",
    "\n",
    "    rtn_mean = rtn.mean()\n",
    "    std = rtn.std()\n",
    "    downside_std = np.sqrt(np.sum((rtn[rtn < 0] - rtn.mean())**2) / (len(rtn) - 1))\n",
    "\n",
    "    alpha = alpha.mean()\n",
    "    risk_adjusted = rtn_mean / std\n",
    "    sharpe_ratio = (rtn - risk_free_rate).mean() / std\n",
    "    beta = market_rtn.cov(rtn) / market_rtn.var()\n",
    "    treynor_ratio = (rtn - risk_free_rate).mean()  / beta\n",
    "    sortino_ratio = (rtn - risk_free_rate).mean() / downside_std\n",
    "\n",
    "    stats = pd.Series(index=['mean', 'std', 'downside_std', 'alpha', 'risk_adjusted', 'sharpe_ratio', 'beta', 'treynor_ratio', 'sortino_ratio'],\n",
    "                     data=[rtn_mean, std, downside_std, alpha, risk_adjusted, sharpe_ratio, beta, treynor_ratio, sortino_ratio], name='stats')\n",
    "\n",
    "    rtn_com = rtn.cumsum()\n",
    "\n",
    "    return stats, rtn_com\n"
   ],
   "metadata": {
    "collapsed": false,
    "ExecuteTime": {
     "end_time": "2023-07-12T08:17:12.312846900Z",
     "start_time": "2023-07-12T08:17:12.298818800Z"
    }
   }
  },
  {
   "cell_type": "code",
   "execution_count": 47,
   "outputs": [
    {
     "data": {
      "text/plain": "(mean             0.069052\n std              0.078234\n downside_std     0.051462\n alpha            0.062446\n risk_adjusted    0.882640\n sharpe_ratio     0.367165\n beta             1.054241\n treynor_ratio    0.027247\n sortino_ratio    0.558173\n Name: stats, dtype: float64,\n date\n 2003-02-28      -0.216546\n 2003-03-31      -0.214336\n 2003-04-30      -0.044064\n 2003-05-30       0.054023\n 2003-06-30       0.107995\n                  ...     \n 2011-11-30     802.045773\n 2011-12-30     803.908296\n 2012-01-31     944.533064\n 2012-02-29    1064.642770\n 2012-03-30    1148.927302\n Name: strategy_rtn, Length: 110, dtype: float64)"
     },
     "execution_count": 47,
     "metadata": {},
     "output_type": "execute_result"
    }
   ],
   "source": [
    "evaluate_strategy(zscore_strategy_weighted, benchmark_rtn, rfr)"
   ],
   "metadata": {
    "collapsed": false,
    "ExecuteTime": {
     "end_time": "2023-07-12T08:17:13.220087500Z",
     "start_time": "2023-07-12T08:17:13.179089500Z"
    }
   }
  },
  {
   "cell_type": "code",
   "execution_count": 44,
   "outputs": [],
   "source": [
    "rtn = zscore_strategy_weighted[1]['strategy_rtn']"
   ],
   "metadata": {
    "collapsed": false,
    "ExecuteTime": {
     "end_time": "2023-07-12T08:16:09.002523400Z",
     "start_time": "2023-07-12T08:16:08.963245800Z"
    }
   }
  },
  {
   "cell_type": "code",
   "execution_count": 50,
   "outputs": [
    {
     "data": {
      "text/plain": "date\n2003-02-28   -0.216546\n2003-03-31   -0.213726\n2003-04-30    0.002999\n2003-05-30    0.105607\n2003-06-30    0.156812\n                ...   \n2011-11-30    7.212577\n2011-12-30    7.214896\n2012-01-31    7.389605\n2012-02-29    7.516634\n2012-03-30    7.595727\nName: strategy_rtn, Length: 110, dtype: float64"
     },
     "execution_count": 50,
     "metadata": {},
     "output_type": "execute_result"
    }
   ],
   "source": [
    "pd.DataFrame(index=[])"
   ],
   "metadata": {
    "collapsed": false,
    "ExecuteTime": {
     "end_time": "2023-07-12T08:29:53.089757200Z",
     "start_time": "2023-07-12T08:29:53.063552400Z"
    }
   }
  },
  {
   "cell_type": "code",
   "execution_count": null,
   "outputs": [],
   "source": [],
   "metadata": {
    "collapsed": false
   }
  }
 ],
 "metadata": {
  "kernelspec": {
   "display_name": "Python 3",
   "language": "python",
   "name": "python3"
  },
  "language_info": {
   "codemirror_mode": {
    "name": "ipython",
    "version": 2
   },
   "file_extension": ".py",
   "mimetype": "text/x-python",
   "name": "python",
   "nbconvert_exporter": "python",
   "pygments_lexer": "ipython2",
   "version": "2.7.6"
  }
 },
 "nbformat": 4,
 "nbformat_minor": 0
}
