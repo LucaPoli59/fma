{
 "cells": [
  {
   "cell_type": "code",
   "execution_count": 67,
   "metadata": {
    "collapsed": true,
    "ExecuteTime": {
     "end_time": "2024-01-29T17:17:07.710715600Z",
     "start_time": "2024-01-29T17:17:07.645714600Z"
    }
   },
   "outputs": [],
   "source": [
    "import pandas as pd\n",
    "import numba\n",
    "import numpy as np\n",
    "from scipy.stats import zscore\n",
    "import pandas_datareader as web\n",
    "import os\n",
    "import pickle\n",
    "from constants import DATA_PATH, OUTPUT_PATH"
   ]
  },
  {
   "cell_type": "code",
   "execution_count": 68,
   "outputs": [],
   "source": [
    "df = pd.read_csv(os.path.join(DATA_PATH, 'data.csv')).set_index(['equity', 'date'])\n",
    "\n",
    "px_tmp = df['PX_LAST'].values\n",
    "df = df.groupby(level=0).shift(3)\n",
    "df['PX_LAST'] = px_tmp"
   ],
   "metadata": {
    "collapsed": false,
    "ExecuteTime": {
     "end_time": "2024-01-29T17:17:08.189372100Z",
     "start_time": "2024-01-29T17:17:07.716713600Z"
    }
   }
  },
  {
   "cell_type": "code",
   "execution_count": 69,
   "outputs": [],
   "source": [
    "rfr = web.get_data_fred(\"IRLTLT01EZM156N\", df.index.get_level_values('date').min(), df.index.get_level_values('date').max()).div(100)\n",
    "rfr = pd.Series(index=df.index.get_level_values('date').unique()[1:], data=rfr.values[:, 0], name='risk_free_rate')"
   ],
   "metadata": {
    "collapsed": false,
    "ExecuteTime": {
     "end_time": "2024-01-29T17:17:08.563683900Z",
     "start_time": "2024-01-29T17:17:08.192373300Z"
    }
   }
  },
  {
   "cell_type": "code",
   "execution_count": 70,
   "outputs": [],
   "source": [
    "df_prices = df['PX_LAST'].unstack(level=0).replace(0, np.nan)\n",
    "df_log_rtn = df_prices.apply(lambda x: np.log(x / x.shift(1))).dropna(how='all')\n",
    "benchmark_rtn = df_log_rtn.mean(skipna=True, axis='columns')"
   ],
   "metadata": {
    "collapsed": false,
    "ExecuteTime": {
     "end_time": "2024-01-29T17:17:08.783470800Z",
     "start_time": "2024-01-29T17:17:08.568685700Z"
    }
   }
  },
  {
   "cell_type": "code",
   "outputs": [],
   "source": [
    "def transform_factor(series, factor_type, price_series):\n",
    "    highest_values_factors = ['5YR_AVG_RETURN_ON_EQUITY', 'BEST_EPS', 'CUR_MKT_CAP', 'EBITDA_MARGIN', 'EBITDA_MARGIN_3YR_AVG', 'EQY_DPS_NET_5YR_GROWTH', 'NORMALIZED_ROE', 'OPERATING_ROIC', 'T12M_DIL_EPS_CONT_OPS', 'TRAIL_12M_EBITDA_PER_SHARE', 'TRAIL_12M_SALES_PER_SH', \"EQY_REC_CONS\"]\n",
    "\n",
    "    lowest_values_factors = ['10_YEAR_MOVING_AVERAGE_PE', 'CURRENT_EV_TO_12M_SALES', 'CURRENT_EV_TO_T12M_EBITDA', 'FIVE_YEAR_AVG_EV_TO_T12_EBITDA', 'FIVE_YR_AVG_PRICE_EARNINGS', 'NET_DEBT_PER_SHARE', 'NORMALIZED_ACCRUALS_BS_METHOD', 'NORMALIZED_ACCRUALS_CF_METHOD', 'PE_RATIO', 'PX_TO_BOOK_RATIO', 'PX_TO_TANG_BV_PER_SH', 'T12M_DIL_PE_CONT_OPS', 'T12M_DVD_PAYOUT_RATIO', 'TANG_BOOK_VAL_PER_SH', 'VOLATILITY_180D', 'VOLATILITY_30D', 'VOLATILITY_90D', \"WACC_COST_EQUITY\"]\n",
    "    \n",
    "    if factor_type in highest_values_factors: # default is highest values are better\n",
    "        return series\n",
    "    elif factor_type in lowest_values_factors: # lowest values are better\n",
    "        return -series\n",
    "    elif factor_type in ['RSI_14D', 'RSI_30D', 'RSI_9D']:  # We use RSI to find undervalued stocks (close or less than 30)\n",
    "        return 30 - series\n",
    "    elif factor_type in ['MOV_AVG_10D', 'MOV_AVG_20D', 'MOV_AVG_30D', 'MOV_AVG_40D', 'MOV_AVG_50D', 'MOV_AVG_5D']: \n",
    "        return price_series - series # We use Moving Averages as support for the price, so we buy when we are close or under them\n",
    "    raise Exception(\"Factor type \" + factor_type + \" not recognized\")"
   ],
   "metadata": {
    "collapsed": false,
    "ExecuteTime": {
     "end_time": "2024-01-29T17:17:08.799470800Z",
     "start_time": "2024-01-29T17:17:08.784471100Z"
    }
   },
   "execution_count": 71
  },
  {
   "cell_type": "code",
   "execution_count": 72,
   "outputs": [],
   "source": [
    "def select_best_equities_from_factor(df_full, df_rnt, factor_selected, num_equities):\n",
    "    factor_values = df_full[factor_selected].unstack(level=0).iloc[1:]\n",
    "    equities =  factor_values.apply(\n",
    "        lambda fact_val: fact_val.loc[~df_rnt.loc[fact_val.name, fact_val.index].isna()\n",
    "        ].sort_values(ascending=False).head(num_equities).index.values,\n",
    "        axis='columns', result_type='expand')\n",
    "    equities.columns = [str(i) + \"_name\" for i in range(len(equities.columns))]\n",
    "    return equities, factor_values\n",
    "\n",
    "def compute_return_from_equities(df_rtn, equities):\n",
    "    equities_rtn = equities.apply(lambda row: df_rtn.loc[row.name, row.values].values, axis='columns', result_type='expand')\n",
    "    equities_rtn.columns = [str(i) + \"_rtn\" for i in range(len(equities_rtn.columns))]\n",
    "    equities_rtn.columns.name = 'equity_rtn'\n",
    "    return equities_rtn\n",
    "\n",
    "def extract_portfolio_state(equities, factor_values):\n",
    "    equities_sparse = pd.DataFrame(index=factor_values.index, columns=factor_values.columns, data=0)\n",
    "    for date in equities_sparse.index:\n",
    "        equities_sparse.loc[date, equities.loc[date].values] = 1\n",
    "    equities_sparse = (2 * equities_sparse - equities_sparse.shift(1, fill_value=0)).dropna()\n",
    "    return equities_sparse.applymap(lambda x: 0.33 if x == 0 else 0.66 if x == 1 else 1 if x == 2 else 0)\n",
    "\n",
    "def apply_fees(equities_rtn, equities_names, port_state, fees):\n",
    "    return equities_rtn.apply(\n",
    "        lambda rtn_row: rtn_row -\n",
    "                        (fees * (port_state.loc[rtn_row.name, equities_names.loc[rtn_row.name]] == 1)\n",
    "                         * (1 + rtn_row).values).values,\n",
    "        axis='columns')\n",
    "\n",
    "def compute_univariate_strategy(df_full, df_rtn, factor_selected, num_equities, market_rtn, fees=None):\n",
    "    equities_names, factor_values = select_best_equities_from_factor(df_full, df_rtn, factor_selected, num_equities)\n",
    "    equities_rtn = compute_return_from_equities(df_rtn, equities_names)\n",
    "    port_state = extract_portfolio_state(equities_names, factor_values)\n",
    "\n",
    "    if fees is not None:\n",
    "        equities_rtn = apply_fees(equities_rtn, equities_names, port_state, fees)\n",
    "\n",
    "    equities = equities_names.merge(equities_rtn, left_index=True, right_index=True)\n",
    "    equities = equities.iloc[:, np.concatenate([[i, i + num_equities] for i in range(num_equities)])]\n",
    "    equities.columns = pd.MultiIndex.from_product([range(num_equities), ['name', 'rtn']])\n",
    "    equities.columns.names = ['equity_pos', 'info']\n",
    "\n",
    "    ris = equities.apply(lambda row: np.average(row.loc[:, \"rtn\"].values), axis='columns').to_frame(name='strategy_rtn')\n",
    "    ris['strategy_alpha'] = ris['strategy_rtn'] - market_rtn\n",
    "    info_ratio = ris['strategy_alpha'].mean() / ris['strategy_alpha'].std()\n",
    "    return equities, ris, info_ratio, port_state"
   ],
   "metadata": {
    "collapsed": false,
    "ExecuteTime": {
     "end_time": "2024-01-29T17:17:08.831586700Z",
     "start_time": "2024-01-29T17:17:08.800471800Z"
    }
   }
  },
  {
   "cell_type": "code",
   "execution_count": 73,
   "outputs": [],
   "source": [
    "window_date_size = 12\n",
    "\n",
    "@numba.jit(nopython=True)\n",
    "def compute_window_corr_avg(window):\n",
    "    if len(window) == window_date_size:\n",
    "        corr_matrix = np.corrcoef(window, rowvar=False)\n",
    "        corr_matrix_nod_iag = np.extract(~np.eye(corr_matrix.shape[0], dtype=numba.boolean), corr_matrix).reshape(corr_matrix.shape[0], -1)\n",
    "        avg_corr = np.sum(corr_matrix_nod_iag, axis=1) / corr_matrix_nod_iag.shape[1]\n",
    "\n",
    "    else:\n",
    "        avg_corr = np.ones(window.shape[1])\n",
    "    return avg_corr"
   ],
   "metadata": {
    "collapsed": false,
    "ExecuteTime": {
     "end_time": "2024-01-29T17:17:08.848588600Z",
     "start_time": "2024-01-29T17:17:08.836587400Z"
    }
   }
  },
  {
   "cell_type": "code",
   "execution_count": 74,
   "outputs": [],
   "source": [
    "def compute_zscore_strategy_simple(df_full, df_rtn, factors_selected, num_equities, market_rtn, fees=None):\n",
    "    df_full['zscore'] = df_full[factors_selected].groupby(level=0).apply(lambda x: zscore(x, nan_policy='omit').mean(axis=1)).values\n",
    "    return compute_univariate_strategy(df_full, df_rtn, 'zscore', num_equities, market_rtn, fees)\n",
    "\n",
    "def compute_zscore_strategy_weighted(df_full, df_rtn, factors_selected, num_equities, market_rtn, fees=None):\n",
    "    zs_factors = df[factors_selected].groupby(level=0, group_keys=False).apply(lambda x: zscore(x, nan_policy='omit'))\n",
    "\n",
    "    zs_weight = zs_factors.groupby(level=0).rolling(window_date_size, min_periods=1, method=\"table\"\n",
    "                                                    ).apply(compute_window_corr_avg, raw=True, engine=\"numba\").values\n",
    "\n",
    "    zs_weight = 1 - abs(zs_weight) + 0.000001 # si somma un piccolo valore per le prime date in cui i pesi sono 0\n",
    "    df_full['zscore'] = np.average(zs_factors.values, axis=1, weights=zs_weight)\n",
    "    return compute_univariate_strategy(df_full, df_rtn, 'zscore', num_equities, market_rtn, fees)"
   ],
   "metadata": {
    "collapsed": false,
    "ExecuteTime": {
     "end_time": "2024-01-29T17:17:08.873805500Z",
     "start_time": "2024-01-29T17:17:08.848588600Z"
    }
   }
  },
  {
   "cell_type": "code",
   "execution_count": 75,
   "outputs": [],
   "source": [
    "def compute_sequential_screening(df_full, df_rtn, filter_factor, filter_n_equities, market_rtn, fees=None):\n",
    "    df_filtered = df_full.reset_index()\n",
    "    for n_equities, factor_to_use in zip(filter_n_equities[:-1], filter_factor[:-1]):\n",
    "        eq_filter = select_best_equities_from_factor(df_filtered.set_index(['equity', 'date']), df_rtn, factor_to_use, n_equities)[0]\n",
    "        df_filtered = pd.concat([df_filtered.loc[(df_filtered['date'] == date) & (df_filtered['equity'].isin(equities.values))\n",
    "                                 ] for date, equities in eq_filter.iterrows()])\n",
    "    return compute_univariate_strategy(df_filtered.set_index(['equity', 'date']), df_rtn, filter_factor[-1], filter_n_equities[-1], market_rtn, fees)"
   ],
   "metadata": {
    "collapsed": false,
    "ExecuteTime": {
     "end_time": "2024-01-29T17:17:08.886806Z",
     "start_time": "2024-01-29T17:17:08.862724800Z"
    }
   }
  },
  {
   "cell_type": "code",
   "execution_count": 76,
   "outputs": [],
   "source": [
    "def evaluate_strategy(strategy_result, market_rtn, risk_free_rate):\n",
    "    rtn, alpha, info_rate = strategy_result[1]['strategy_rtn'], strategy_result[1]['strategy_alpha'], strategy_result[2]\n",
    "\n",
    "    rtn_mean = rtn.mean()\n",
    "    std = rtn.std()\n",
    "    downside_std = np.sqrt(np.sum((rtn[rtn < 0] - rtn.mean())**2) / (len(rtn) - 1))\n",
    "    rtn_com = rtn.cumsum()\n",
    "    alpha_com = alpha.cumsum()\n",
    "\n",
    "    alpha_mean = alpha.mean()\n",
    "    risk_adjusted = rtn_mean / std\n",
    "    sharpe_ratio = (rtn - risk_free_rate).mean() / std\n",
    "    beta = market_rtn.cov(rtn) / market_rtn.var()\n",
    "    treynor_ratio = (rtn - risk_free_rate).mean()  / beta\n",
    "    sortino_ratio = (rtn - risk_free_rate).mean() / downside_std\n",
    "\n",
    "    stats = pd.Series(index=['info_ratio', 'rtn_avg', 'rtn_std', 'rtn_downside_std', 'rtn_tot', 'alpha_avg', 'alpha_tot', 'rtn_risk_adj', 'sharpe_ratio', 'beta', 'treynor_ratio', 'sortino_ratio'],\n",
    "                     data=[info_rate, rtn_mean, std, downside_std, rtn_com.values[-1], alpha_mean, alpha_com.values[-1], risk_adjusted, sharpe_ratio, beta, treynor_ratio, sortino_ratio], name='stats')\n",
    "\n",
    "    return stats, rtn, rtn_com, alpha, alpha_com\n"
   ],
   "metadata": {
    "collapsed": false,
    "ExecuteTime": {
     "end_time": "2024-01-29T17:17:08.894807700Z",
     "start_time": "2024-01-29T17:17:08.880809200Z"
    }
   }
  },
  {
   "cell_type": "markdown",
   "source": [
    "# Factor transformation"
   ],
   "metadata": {
    "collapsed": false
   }
  },
  {
   "cell_type": "code",
   "outputs": [],
   "source": [
    "df = df.drop(columns=['PX_LAST']).apply(lambda x: transform_factor(x, x.name, df['PX_LAST']))"
   ],
   "metadata": {
    "collapsed": false,
    "ExecuteTime": {
     "end_time": "2024-01-29T17:17:08.955060600Z",
     "start_time": "2024-01-29T17:17:08.898878400Z"
    }
   },
   "execution_count": 77
  },
  {
   "cell_type": "markdown",
   "source": [
    "# Application of univariate strategies on multiple factors"
   ],
   "metadata": {
    "collapsed": false
   }
  },
  {
   "cell_type": "code",
   "outputs": [],
   "source": [
    "commission_fees = 0.002\n",
    "# testing_factors = ['PE_RATIO', 'CURRENT_EV_TO_T12M_EBITDA', 'RSI_14D', 'VOLATILITY_90D', 'VOLATILITY_180D', 'EQY_REC_CONS', 'T12M_DIL_EPS_CONT_OPS', 'TRAIL_12M_EBITDA_PER_SHARE', 'NORMALIZED_ROE', 'CUR_MKT_CAP', 'OPERATING_ROIC', 'TANG_BOOK_VAL_PER_SH']\n",
    "testing_factors = ['RSI_14D', 'PE_RATIO', '5YR_AVG_RETURN_ON_EQUITY', 'BEST_EPS', 'PX_TO_BOOK_RATIO', 'MOV_AVG_50D', 'EBITDA_MARGIN', 'NET_DEBT_PER_SHARE', 'OPERATING_ROIC', 'VOLATILITY_90D']\n",
    "\n",
    "\n",
    "\n",
    "n_factor_to_use = 4\n",
    "seq_window = [400, 200, 100, 30]\n",
    "num_equities_s = seq_window[-1]\n"
   ],
   "metadata": {
    "collapsed": false,
    "ExecuteTime": {
     "end_time": "2024-01-29T17:17:08.972175300Z",
     "start_time": "2024-01-29T17:17:08.959117200Z"
    }
   },
   "execution_count": 78
  },
  {
   "cell_type": "code",
   "execution_count": 79,
   "outputs": [],
   "source": [
    "# Calcolo equities e information ratio per ogni factor scelto\n",
    "strs_res_stats = pd.DataFrame(columns=['info_ratio', 'rtn_avg', 'rtn_std', 'rtn_downside_std', 'rtn_tot', 'alpha_avg', 'alpha_tot', 'rtn_risk_adj', 'sharpe_ratio', 'beta', 'treynor_ratio', 'sortino_ratio'])\n",
    "strs_res_rtn, strs_res_rtn_com, strs_res_rtn_alpha, strs_res_rtn_alpha_com = pd.DataFrame(), pd.DataFrame(), pd.DataFrame(), pd.DataFrame()\n",
    "strs_res_port = {}\n",
    "\n",
    "for factor in testing_factors:\n",
    "    str_res = compute_univariate_strategy(df, df_log_rtn, factor, num_equities_s, benchmark_rtn, fees=commission_fees)\n",
    "    strs_res_port[factor] = str_res[3]\n",
    "    str_res = evaluate_strategy(str_res, benchmark_rtn, rfr)\n",
    "    strs_res_stats.loc[factor] = str_res[0]\n",
    "    strs_res_stats.at[factor, \"factors_used\"] = [factor]\n",
    "\n",
    "    strs_res_rtn[factor] = str_res[1]\n",
    "    strs_res_rtn_com[factor] = str_res[2]\n",
    "    strs_res_rtn_alpha[factor] = str_res[3]\n",
    "    strs_res_rtn_alpha_com[factor] = str_res[4]\n",
    "\n",
    "strs_res_stats.iat[0, -1] = [strs_res_stats.iat[0, -1]]\n",
    "best_factors = strs_res_stats.sort_values(by='info_ratio', ascending=False).head(n_factor_to_use).index.values\n",
    "\n",
    "for factor in testing_factors:\n",
    "    str_res = compute_univariate_strategy(df, df_log_rtn, factor, num_equities_s, benchmark_rtn)\n",
    "    strs_res_port[factor + \"_no-fees\"] = str_res[3]\n",
    "    str_res = evaluate_strategy(str_res, benchmark_rtn, rfr)\n",
    "    strs_res_stats.loc[factor + \"_no-fees\"] = str_res[0]\n",
    "    strs_res_stats.at[factor + \"_no-fees\", \"factors_used\"] = [factor]\n",
    "\n",
    "    strs_res_rtn[factor + \"_no-fees\"] = str_res[1]\n",
    "    strs_res_rtn_com[factor + \"_no-fees\"] = str_res[2]\n",
    "    strs_res_rtn_alpha[factor + \"_no-fees\"] = str_res[3]\n",
    "    strs_res_rtn_alpha_com[factor + \"_no-fees\"] = str_res[4]\n"
   ],
   "metadata": {
    "collapsed": false,
    "ExecuteTime": {
     "end_time": "2024-01-29T17:17:15.993435800Z",
     "start_time": "2024-01-29T17:17:08.980173500Z"
    }
   }
  },
  {
   "cell_type": "markdown",
   "source": [
    "# Application of multivariate strategies"
   ],
   "metadata": {
    "collapsed": false
   }
  },
  {
   "cell_type": "code",
   "execution_count": 80,
   "outputs": [],
   "source": [
    "seq_strategy = compute_sequential_screening(df, df_log_rtn, best_factors[::-1], seq_window, benchmark_rtn, fees=commission_fees)\n",
    "zscore_strategy_simple = compute_zscore_strategy_simple(df, df_log_rtn, best_factors, num_equities_s, benchmark_rtn, fees=commission_fees)\n",
    "zscore_strategy_weighted = compute_zscore_strategy_weighted(df, df_log_rtn, best_factors, num_equities_s, benchmark_rtn, fees=commission_fees)"
   ],
   "metadata": {
    "collapsed": false,
    "ExecuteTime": {
     "end_time": "2024-01-29T17:17:27.516586300Z",
     "start_time": "2024-01-29T17:17:15.995438400Z"
    }
   }
  },
  {
   "cell_type": "markdown",
   "source": [
    "# Elaboration of benchmark statistics"
   ],
   "metadata": {
    "collapsed": false
   }
  },
  {
   "cell_type": "code",
   "execution_count": 81,
   "outputs": [
    {
     "data": {
      "text/plain": "rtn_avg             0.006537\nrtn_std             0.052483\nrtn_downside_std    0.066168\nrtn_tot             0.719063\nrtn_risk_adj        0.124553\nsharpe_ratio       -0.643837\nsortino_ratio      -0.510675\nName: benchmark_stats, dtype: float64"
     },
     "execution_count": 81,
     "metadata": {},
     "output_type": "execute_result"
    }
   ],
   "source": [
    "benchmark_rtn_com = benchmark_rtn.cumsum()\n",
    "benchmark_stats = pd.Series(dtype='float64', name='benchmark_stats')\n",
    "\n",
    "benchmark_stats['rtn_avg'] = benchmark_rtn.mean()\n",
    "benchmark_stats['rtn_std'] = benchmark_rtn.std()\n",
    "benchmark_stats['rtn_downside_std'] = np.sqrt(np.sum((benchmark_rtn[benchmark_rtn < 0] - benchmark_stats['rtn_std'])**2) / (len(benchmark_rtn) - 1))\n",
    "\n",
    "benchmark_stats['rtn_tot'] = benchmark_rtn_com.values[-1]\n",
    "benchmark_stats['rtn_risk_adj'] = benchmark_stats['rtn_avg'] / benchmark_stats['rtn_std']\n",
    "benchmark_stats['sharpe_ratio'] = (benchmark_stats['rtn_avg'] - rfr).mean() / benchmark_stats['rtn_std']\n",
    "# sortino ratio\n",
    "benchmark_stats['sortino_ratio'] = (benchmark_stats['rtn_avg'] - rfr).mean() / benchmark_stats['rtn_downside_std']\n",
    "\n",
    "strs_res_rtn['benchmark'] = benchmark_rtn\n",
    "strs_res_rtn_com['benchmark'] = benchmark_rtn_com\n",
    "\n",
    "benchmark_stats"
   ],
   "metadata": {
    "collapsed": false,
    "ExecuteTime": {
     "end_time": "2024-01-29T17:17:27.576586100Z",
     "start_time": "2024-01-29T17:17:27.530592Z"
    }
   }
  },
  {
   "cell_type": "markdown",
   "source": [
    "# Performance estimation of multivariate strategies "
   ],
   "metadata": {
    "collapsed": false
   }
  },
  {
   "cell_type": "code",
   "execution_count": 82,
   "outputs": [],
   "source": [
    "for strategy, strategy_name, factor_used in zip([seq_strategy, zscore_strategy_simple, zscore_strategy_weighted],\n",
    "                                                [\"sequential\", \"zscore_simple\", \"zscore_weighted\"],\n",
    "                                                [best_factors]*3):\n",
    "    strs_res_port[strategy_name] = strategy[3]\n",
    "    str_res = evaluate_strategy(strategy, benchmark_rtn, rfr)\n",
    "    strs_res_stats.loc[strategy_name] = str_res[0]\n",
    "    strs_res_stats.at[strategy_name, \"factors_used\"] = factor_used\n",
    "\n",
    "    strs_res_rtn[strategy_name] = str_res[1]\n",
    "    strs_res_rtn_com[strategy_name] = str_res[2]\n",
    "    strs_res_rtn_alpha[strategy_name] = str_res[3]\n",
    "    strs_res_rtn_alpha_com[strategy_name] = str_res[4]"
   ],
   "metadata": {
    "collapsed": false,
    "ExecuteTime": {
     "end_time": "2024-01-29T17:17:27.677586800Z",
     "start_time": "2024-01-29T17:17:27.595606200Z"
    }
   }
  },
  {
   "cell_type": "markdown",
   "source": [
    "# Save results for future plotting"
   ],
   "metadata": {
    "collapsed": false
   }
  },
  {
   "cell_type": "code",
   "execution_count": 83,
   "outputs": [],
   "source": [
    "benchmark_stats.to_csv(os.path.join(OUTPUT_PATH, \"benchmark_stats.csv\"))\n",
    "strs_res_stats.to_csv(os.path.join(OUTPUT_PATH, \"strs_res_stats.csv\"))\n",
    "\n",
    "strs_res_rtn.to_csv(os.path.join(OUTPUT_PATH, \"rtn.csv\"))\n",
    "strs_res_rtn_com.to_csv(os.path.join(OUTPUT_PATH, \"rtn_com.csv\"))\n",
    "strs_res_rtn_alpha.to_csv(os.path.join(OUTPUT_PATH, \"alpha.csv\"))\n",
    "strs_res_rtn_alpha_com.to_csv(os.path.join(OUTPUT_PATH, \"alpha_com.csv\"))\n",
    "pd.Series(index=best_factors, data=seq_window[::-1], name=\"Sequential window size\").to_csv(os.path.join(OUTPUT_PATH, \"multivariate_input.csv\"))\n",
    "\n",
    "with open(os.path.join(OUTPUT_PATH, \"ports.pkl\"), \"wb\") as f:\n",
    "    pickle.dump(strs_res_port, f)"
   ],
   "metadata": {
    "collapsed": false,
    "ExecuteTime": {
     "end_time": "2024-01-29T17:17:28.054723500Z",
     "start_time": "2024-01-29T17:17:27.677586800Z"
    }
   }
  },
  {
   "cell_type": "code",
   "outputs": [],
   "source": [],
   "metadata": {
    "collapsed": false,
    "ExecuteTime": {
     "end_time": "2024-01-29T17:17:28.070723Z",
     "start_time": "2024-01-29T17:17:28.056723Z"
    }
   },
   "execution_count": 83
  }
 ],
 "metadata": {
  "kernelspec": {
   "display_name": "Python 3",
   "language": "python",
   "name": "python3"
  },
  "language_info": {
   "codemirror_mode": {
    "name": "ipython",
    "version": 2
   },
   "file_extension": ".py",
   "mimetype": "text/x-python",
   "name": "python",
   "nbconvert_exporter": "python",
   "pygments_lexer": "ipython2",
   "version": "2.7.6"
  }
 },
 "nbformat": 4,
 "nbformat_minor": 0
}
