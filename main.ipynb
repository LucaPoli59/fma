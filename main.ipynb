{
 "cells": [
  {
   "cell_type": "code",
   "execution_count": 24,
   "metadata": {
    "ExecuteTime": {
     "end_time": "2023-07-05T14:26:03.668003Z",
     "start_time": "2023-07-05T14:26:03.616999500Z"
    }
   },
   "outputs": [],
   "source": [
    "import pandas as pd\n",
    "import numpy as np\n",
    "from scipy.stats import zscore\n",
    "\n",
    "import warnings\n",
    "warnings.filterwarnings(\"ignore\")"
   ]
  },
  {
   "attachments": {},
   "cell_type": "markdown",
   "metadata": {},
   "source": [
    "# Functions"
   ]
  },
  {
   "attachments": {},
   "cell_type": "markdown",
   "metadata": {
    "collapsed": false
   },
   "source": [
    "**Function** \\\n",
    "get_factor: for each date, selected the best equities by the factor chosen \\\n",
    "**Attributes** \\\n",
    "df: original dataset \\\n",
    "factor_name: name of factor \\\n",
    "number_of_equities: number of equities to select"
   ]
  },
  {
   "cell_type": "code",
   "execution_count": 25,
   "metadata": {
    "collapsed": false,
    "ExecuteTime": {
     "end_time": "2023-07-05T14:26:03.747997700Z",
     "start_time": "2023-07-05T14:26:03.629997100Z"
    }
   },
   "outputs": [],
   "source": [
    "def get_factor(df, factor_name, number_of_equities):   \n",
    "    temp_dict = {}\n",
    "\n",
    "    # Get all dates in order\n",
    "    dates = list(set(df['date']))\n",
    "\n",
    "    # Get the top 10 equities for each date\n",
    "    for date in dates:\n",
    "        temp_dict[date] =  df.loc[df['date'] == date].sort_values(by=['date',factor_name], ascending=False)['equity'].head(number_of_equities).values\n",
    "\n",
    "    # Create a dataframe with the top 10 equities for each date\n",
    "    df_factor_chosen = pd.DataFrame.from_dict(temp_dict, orient='index').sort_index()\n",
    "\n",
    "    return df_factor_chosen"
   ]
  },
  {
   "attachments": {},
   "cell_type": "markdown",
   "metadata": {
    "collapsed": false
   },
   "source": [
    "df_returns: dataframe with date and price for each equity"
   ]
  },
  {
   "cell_type": "code",
   "execution_count": 26,
   "metadata": {
    "collapsed": false,
    "ExecuteTime": {
     "end_time": "2023-07-05T14:26:03.760995900Z",
     "start_time": "2023-07-05T14:26:03.644003300Z"
    }
   },
   "outputs": [],
   "source": [
    "def df_returns(df):\n",
    "    # Select only equities, date and price\n",
    "    df_returns = df[['equity','date','PX_LAST']]\n",
    "    # Sort by equity and date\n",
    "    df_returns.sort_values(by=['equity','date'], inplace=True)\n",
    "    # Put the column price as a value of the pivot table\n",
    "    df_returns = df_returns.pivot(index='date', columns='equity', values='PX_LAST')\n",
    "    return df_returns"
   ]
  },
  {
   "attachments": {},
   "cell_type": "markdown",
   "metadata": {
    "collapsed": false
   },
   "source": [
    "**Function** \\\n",
    "returns_of_factor: add a column into the df with the returns of each row (date) \\\n",
    "\n",
    "**Attributes** \\\n",
    "df_factor_chosen: df with the best n equities for each date by a factor choosen before \\\n",
    "df_log_returns: "
   ]
  },
  {
   "cell_type": "code",
   "execution_count": 27,
   "metadata": {
    "collapsed": false,
    "ExecuteTime": {
     "end_time": "2023-07-05T14:26:03.766998200Z",
     "start_time": "2023-07-05T14:26:03.660999400Z"
    }
   },
   "outputs": [],
   "source": [
    "def returns_without_fees(df_factor_chosen, df_log_returns):\n",
    "    sum_row_returns = 0\n",
    "    list_sum_row_returns = []\n",
    "    for index, row in df_factor_chosen.iterrows():\n",
    "        for equity in row:\n",
    "            sum_row_returns += np.nansum(df_log_returns.loc[index][equity])\n",
    "        list_sum_row_returns.append(round(sum_row_returns,2))\n",
    "        sum_row_returns = 0\n",
    "\n",
    "    df_factor_chosen['returns'] = list_sum_row_returns\n",
    "    return df_factor_chosen"
   ]
  },
  {
   "cell_type": "code",
   "execution_count": 28,
   "metadata": {
    "ExecuteTime": {
     "end_time": "2023-07-05T14:26:03.767997700Z",
     "start_time": "2023-07-05T14:26:03.679004100Z"
    }
   },
   "outputs": [],
   "source": [
    "def returns_with_fees(df_factor_chosen, df_log_returns, commission_fee):\n",
    "    sum_row_returns = 0\n",
    "    list_sum_row_returns = []\n",
    "    for index, row in df_factor_chosen.iterrows():\n",
    "        for equity in row:           \n",
    "            rtn_before_commission = np.nansum(df_log_returns.loc[index][equity])\n",
    "            #print(rtn_before_commission)\n",
    "            rtn_after_commission = rtn_before_commission - commission_fee * (1 + rtn_before_commission)\n",
    "            #print(rtn_after_commission)\n",
    "            sum_row_returns += rtn_after_commission\n",
    "\n",
    "        list_sum_row_returns.append(round(sum_row_returns,2))\n",
    "        sum_row_returns = 0\n",
    "\n",
    "    df_factor_chosen['returns'] = list_sum_row_returns\n",
    "    return df_factor_chosen"
   ]
  },
  {
   "attachments": {},
   "cell_type": "markdown",
   "metadata": {},
   "source": [
    "**Function** \\\n",
    "get_information_ratio: returns the information ratio of the chosen factor \\\n",
    "**Attributes** \\\n",
    "df_factor_chosen_returns: df given by the function returns_of_factor \\\n",
    "benchmark_returns: "
   ]
  },
  {
   "cell_type": "code",
   "execution_count": 29,
   "metadata": {
    "collapsed": false,
    "ExecuteTime": {
     "end_time": "2023-07-05T14:26:03.767997700Z",
     "start_time": "2023-07-05T14:26:03.691001500Z"
    }
   },
   "outputs": [],
   "source": [
    "def get_information_ratio(df_factor_chosen_returns, benchmark_returns):\n",
    "    df_factor_chosen_returns['alpha'] = df_factor_chosen_returns['returns'] - benchmark_returns\n",
    "    information_ratio = df_factor_chosen_returns['alpha'].mean() / df_factor_chosen_returns['alpha'].std()\n",
    "    \n",
    "    return information_ratio"
   ]
  },
  {
   "attachments": {},
   "cell_type": "markdown",
   "metadata": {},
   "source": [
    "**Function** \\\n",
    "get_df_information_ratio"
   ]
  },
  {
   "cell_type": "code",
   "execution_count": 30,
   "metadata": {
    "ExecuteTime": {
     "end_time": "2023-07-05T14:26:03.768996600Z",
     "start_time": "2023-07-05T14:26:03.708Z"
    }
   },
   "outputs": [],
   "source": [
    "def get_df_information_ratio(df, factors_name, number_of_equities, commission_fee, df_log_returns, benchmark_returns):\n",
    "    temp_dict = {}\n",
    "\n",
    "    for factor_name in factors_name:\n",
    "        df_factor = get_factor(df, factor_name, number_of_equities)\n",
    "        df_factor_returns = returns_with_fees(df_factor, df_log_returns, commission_fee).iloc[1:,:]\n",
    "        information_ratio = get_information_ratio(df_factor_returns, benchmark_returns)\n",
    "\n",
    "        temp_dict[factor_name] = [information_ratio]\n",
    "\n",
    "    df_information_ratio = pd.DataFrame.from_dict(temp_dict, orient='index', columns=['information_ratio']).sort_values(by='information_ratio', ascending=False)\n",
    "    \n",
    "    return df_information_ratio"
   ]
  },
  {
   "attachments": {},
   "cell_type": "markdown",
   "metadata": {},
   "source": [
    "# MAIN PREVIEW\n",
    "\n",
    "**Run all functions above**"
   ]
  },
  {
   "cell_type": "code",
   "execution_count": 31,
   "metadata": {
    "ExecuteTime": {
     "end_time": "2023-07-05T14:26:05.341025600Z",
     "start_time": "2023-07-05T14:26:03.723004900Z"
    }
   },
   "outputs": [],
   "source": [
    "# Read the data\n",
    "df = pd.read_csv('data/data.csv').set_index(['equity', 'date'])\n",
    "df = df.drop(df.groupby(level=0).filter(lambda equity: (equity.isna().sum(axis=1) == len(equity.columns)).any()).index)\n",
    "df = df.drop(df.groupby(level=0).filter(lambda equity: equity['PX_LAST'].eq(0).any()).index).reset_index()"
   ]
  },
  {
   "cell_type": "code",
   "execution_count": 32,
   "metadata": {
    "ExecuteTime": {
     "end_time": "2023-07-05T14:26:05.602164700Z",
     "start_time": "2023-07-05T14:26:05.348997200Z"
    }
   },
   "outputs": [],
   "source": [
    "# Get the returns\n",
    "df_returns = df_returns(df)\n",
    "\n",
    "# Get the log returns\n",
    "df_log_returns = df_returns[df_returns.columns].apply(lambda x: np.log(x / x.shift(1)))\n",
    "\n",
    "# Get the benchmark of returns\n",
    "benchmark_returns = df_log_returns.dropna(how='all').mean(skipna=True, axis='columns')"
   ]
  },
  {
   "cell_type": "code",
   "execution_count": 33,
   "outputs": [
    {
     "data": {
      "text/plain": "                               information_ratio\nRSI_14D                                 1.963077\nPX_TO_BOOK_RATIO                        0.325439\nVOLATILITY_30D                          0.223620\nOPERATING_ROIC                          0.205135\nEBITDA_MARGIN                           0.136751\nPE_RATIO                                0.123410\nCUR_MKT_CAP                             0.114912\nNORMALIZED_ACCRUALS_CF_METHOD           0.069455",
      "text/html": "<div>\n<style scoped>\n    .dataframe tbody tr th:only-of-type {\n        vertical-align: middle;\n    }\n\n    .dataframe tbody tr th {\n        vertical-align: top;\n    }\n\n    .dataframe thead th {\n        text-align: right;\n    }\n</style>\n<table border=\"1\" class=\"dataframe\">\n  <thead>\n    <tr style=\"text-align: right;\">\n      <th></th>\n      <th>information_ratio</th>\n    </tr>\n  </thead>\n  <tbody>\n    <tr>\n      <th>RSI_14D</th>\n      <td>1.963077</td>\n    </tr>\n    <tr>\n      <th>PX_TO_BOOK_RATIO</th>\n      <td>0.325439</td>\n    </tr>\n    <tr>\n      <th>VOLATILITY_30D</th>\n      <td>0.223620</td>\n    </tr>\n    <tr>\n      <th>OPERATING_ROIC</th>\n      <td>0.205135</td>\n    </tr>\n    <tr>\n      <th>EBITDA_MARGIN</th>\n      <td>0.136751</td>\n    </tr>\n    <tr>\n      <th>PE_RATIO</th>\n      <td>0.123410</td>\n    </tr>\n    <tr>\n      <th>CUR_MKT_CAP</th>\n      <td>0.114912</td>\n    </tr>\n    <tr>\n      <th>NORMALIZED_ACCRUALS_CF_METHOD</th>\n      <td>0.069455</td>\n    </tr>\n  </tbody>\n</table>\n</div>"
     },
     "execution_count": 33,
     "metadata": {},
     "output_type": "execute_result"
    }
   ],
   "source": [],
   "metadata": {
    "collapsed": false,
    "ExecuteTime": {
     "end_time": "2023-07-05T14:26:05.616158100Z",
     "start_time": "2023-07-05T14:26:05.603158700Z"
    }
   }
  },
  {
   "cell_type": "code",
   "execution_count": 34,
   "metadata": {
    "ExecuteTime": {
     "end_time": "2023-07-05T14:26:05.631188400Z",
     "start_time": "2023-07-05T14:26:05.614161300Z"
    }
   },
   "outputs": [],
   "source": [
    "# Set variables\n",
    "factors_name = ['PE_RATIO', 'EBITDA_MARGIN', 'PX_TO_BOOK_RATIO', 'NORMALIZED_ACCRUALS_CF_METHOD', 'RSI_14D', 'VOLATILITY_30D', 'CUR_MKT_CAP', 'OPERATING_ROIC']\n",
    "number_of_equities = 10\n",
    "commission_fee = 0.002"
   ]
  },
  {
   "cell_type": "code",
   "execution_count": 35,
   "metadata": {
    "ExecuteTime": {
     "end_time": "2023-07-05T14:26:12.851158Z",
     "start_time": "2023-07-05T14:26:05.629161Z"
    }
   },
   "outputs": [],
   "source": [
    "df_information_ratio = get_df_information_ratio(df, factors_name, number_of_equities, commission_fee, df_log_returns, benchmark_returns)\n",
    "\n",
    "# estrazione dei 4 factor con information ratio più alto\n",
    "factors_to_use = df_information_ratio.head(4).index.values\n",
    "\n",
    "# aggiungo la colonna zscore aggregata per i fattori scelti\n",
    "df['zscore'] = df.set_index(['equity', 'date'])[factors_to_use].groupby(level=0).apply(lambda x: zscore(x.loc[:, factors_to_use]).mean(axis=1)).values"
   ]
  },
  {
   "cell_type": "code",
   "execution_count": 38,
   "outputs": [
    {
     "data": {
      "text/plain": "                               information_ratio\nRSI_14D                                 1.895153\nPX_TO_BOOK_RATIO                        0.371597\nVOLATILITY_30D                          0.231156\nOPERATING_ROIC                          0.149181\nPE_RATIO                                0.128226\nEBITDA_MARGIN                           0.105261\nNORMALIZED_ACCRUALS_CF_METHOD           0.083320\nCUR_MKT_CAP                             0.080905",
      "text/html": "<div>\n<style scoped>\n    .dataframe tbody tr th:only-of-type {\n        vertical-align: middle;\n    }\n\n    .dataframe tbody tr th {\n        vertical-align: top;\n    }\n\n    .dataframe thead th {\n        text-align: right;\n    }\n</style>\n<table border=\"1\" class=\"dataframe\">\n  <thead>\n    <tr style=\"text-align: right;\">\n      <th></th>\n      <th>information_ratio</th>\n    </tr>\n  </thead>\n  <tbody>\n    <tr>\n      <th>RSI_14D</th>\n      <td>1.895153</td>\n    </tr>\n    <tr>\n      <th>PX_TO_BOOK_RATIO</th>\n      <td>0.371597</td>\n    </tr>\n    <tr>\n      <th>VOLATILITY_30D</th>\n      <td>0.231156</td>\n    </tr>\n    <tr>\n      <th>OPERATING_ROIC</th>\n      <td>0.149181</td>\n    </tr>\n    <tr>\n      <th>PE_RATIO</th>\n      <td>0.128226</td>\n    </tr>\n    <tr>\n      <th>EBITDA_MARGIN</th>\n      <td>0.105261</td>\n    </tr>\n    <tr>\n      <th>NORMALIZED_ACCRUALS_CF_METHOD</th>\n      <td>0.083320</td>\n    </tr>\n    <tr>\n      <th>CUR_MKT_CAP</th>\n      <td>0.080905</td>\n    </tr>\n  </tbody>\n</table>\n</div>"
     },
     "execution_count": 38,
     "metadata": {},
     "output_type": "execute_result"
    }
   ],
   "source": [
    "df_information_ratio"
   ],
   "metadata": {
    "collapsed": false,
    "ExecuteTime": {
     "end_time": "2023-07-05T14:30:07.839370900Z",
     "start_time": "2023-07-05T14:30:07.812211300Z"
    }
   }
  },
  {
   "cell_type": "code",
   "execution_count": 36,
   "metadata": {
    "ExecuteTime": {
     "end_time": "2023-07-05T14:26:13.572156600Z",
     "start_time": "2023-07-05T14:26:12.853160100Z"
    }
   },
   "outputs": [
    {
     "data": {
      "text/plain": "        information_ratio\nzscore           0.872233",
      "text/html": "<div>\n<style scoped>\n    .dataframe tbody tr th:only-of-type {\n        vertical-align: middle;\n    }\n\n    .dataframe tbody tr th {\n        vertical-align: top;\n    }\n\n    .dataframe thead th {\n        text-align: right;\n    }\n</style>\n<table border=\"1\" class=\"dataframe\">\n  <thead>\n    <tr style=\"text-align: right;\">\n      <th></th>\n      <th>information_ratio</th>\n    </tr>\n  </thead>\n  <tbody>\n    <tr>\n      <th>zscore</th>\n      <td>0.872233</td>\n    </tr>\n  </tbody>\n</table>\n</div>"
     },
     "execution_count": 36,
     "metadata": {},
     "output_type": "execute_result"
    }
   ],
   "source": [
    "df_zscore_information_ratio = get_df_information_ratio(df, ['zscore'], number_of_equities, commission_fee, df_log_returns, benchmark_returns)\n",
    "df_zscore_information_ratio"
   ]
  },
  {
   "cell_type": "code",
   "execution_count": 44,
   "outputs": [
    {
     "data": {
      "text/plain": "0.1491814050625087"
     },
     "execution_count": 44,
     "metadata": {},
     "output_type": "execute_result"
    }
   ],
   "source": [
    "filter_n_equities = [300, 150, 100]\n",
    "\n",
    "\n",
    "df_filtered = df.copy()\n",
    "for n_equities, factor in zip(filter_n_equities, factors_to_use[:-1]):\n",
    "    eq_filter = get_factor(df_filtered, factor, n_equities)\n",
    "    df_filtered = pd.concat([df_filtered.loc[(df_filtered['date'] == date) & (df_filtered['equity'].isin(equities.values))\n",
    "                             ] for date, equities in eq_filter.iterrows()])\n",
    "\n",
    "\n",
    "filtered_df_factor = get_factor(df, factors_to_use[-1], number_of_equities)\n",
    "filtered_returns = returns_with_fees(filtered_df_factor, df_log_returns, commission_fee).iloc[1:,:]\n",
    "filtered_info_ratio = get_information_ratio(filtered_returns, benchmark_returns)\n",
    "filtered_info_ratio"
   ],
   "metadata": {
    "collapsed": false,
    "ExecuteTime": {
     "end_time": "2023-07-05T14:38:16.247723100Z",
     "start_time": "2023-07-05T14:38:12.743898200Z"
    }
   }
  },
  {
   "cell_type": "code",
   "execution_count": 46,
   "outputs": [
    {
     "data": {
      "text/plain": "                 0       1        2        3        4       5         6  \\\n2003-01-31   EC FP  PUM GR   SAP GR   MDN GR   SPA BB  SAN FP  NOK1V FH   \n2003-02-28   EC FP  PUM GR   SAP GR   MDN GR   SPA BB  SAN FP  NOK1V FH   \n2003-03-31   EC FP  SAP GR   PUM GR   RAA GR   SPA BB  SAN FP    MDN GR   \n2003-04-30   EC FP  SAP GR   PUM GR   RAA GR   SPA BB  SAN FP    MDN GR   \n2003-05-30  ZOT SM   EC FP   SAP GR   PUM GR   RAA GR  SPA BB    SAN FP   \n...            ...     ...      ...      ...      ...     ...       ...   \n2011-11-30  EUR FP  ZOT SM  LCA1 GR  BBED NA   AAD GR  EVS BB   MOBB BB   \n2011-12-30  EUR FP  ZOT SM   EVS BB  LCA1 GR  BBED NA  AAD GR    CAI IM   \n2012-01-31  EUR FP  ZOT SM   EVS BB  LCA1 GR  BBED NA  AAD GR    CAI IM   \n2012-02-29  EUR FP  ZOT SM   EVS BB  LCA1 GR  BBED NA  AAD GR    CAI IM   \n2012-03-30  EUR FP  ZOT SM   EVS BB  LCA1 GR  BBED NA  AAD GR    CAI IM   \n\n                   7         8         9  returns  \n2003-01-31    ITX SM    SNG GR  EXACT NA    -0.02  \n2003-02-28    ITX SM    SNG GR  EXACT NA    -0.85  \n2003-03-31  NOK1V FH  VAC1V FH    ITX SM    -0.02  \n2003-04-30  NOK1V FH  VAC1V FH    ITX SM     1.29  \n2003-05-30    MDN GR  NOK1V FH  VAC1V FH     0.57  \n...              ...       ...       ...      ...  \n2011-11-30    RAA GR   ASML NA    BOS GR    -0.12  \n2011-12-30    NSU GR   MOBB BB  FSC1V FH    -0.16  \n2012-01-31    NSU GR   MOBB BB  FSC1V FH     0.54  \n2012-02-29    NSU GR   MOBB BB  FSC1V FH     0.30  \n2012-03-30    NSU GR   MOBB BB  FSC1V FH    -0.03  \n\n[111 rows x 11 columns]",
      "text/html": "<div>\n<style scoped>\n    .dataframe tbody tr th:only-of-type {\n        vertical-align: middle;\n    }\n\n    .dataframe tbody tr th {\n        vertical-align: top;\n    }\n\n    .dataframe thead th {\n        text-align: right;\n    }\n</style>\n<table border=\"1\" class=\"dataframe\">\n  <thead>\n    <tr style=\"text-align: right;\">\n      <th></th>\n      <th>0</th>\n      <th>1</th>\n      <th>2</th>\n      <th>3</th>\n      <th>4</th>\n      <th>5</th>\n      <th>6</th>\n      <th>7</th>\n      <th>8</th>\n      <th>9</th>\n      <th>returns</th>\n    </tr>\n  </thead>\n  <tbody>\n    <tr>\n      <th>2003-01-31</th>\n      <td>EC FP</td>\n      <td>PUM GR</td>\n      <td>SAP GR</td>\n      <td>MDN GR</td>\n      <td>SPA BB</td>\n      <td>SAN FP</td>\n      <td>NOK1V FH</td>\n      <td>ITX SM</td>\n      <td>SNG GR</td>\n      <td>EXACT NA</td>\n      <td>-0.02</td>\n    </tr>\n    <tr>\n      <th>2003-02-28</th>\n      <td>EC FP</td>\n      <td>PUM GR</td>\n      <td>SAP GR</td>\n      <td>MDN GR</td>\n      <td>SPA BB</td>\n      <td>SAN FP</td>\n      <td>NOK1V FH</td>\n      <td>ITX SM</td>\n      <td>SNG GR</td>\n      <td>EXACT NA</td>\n      <td>-0.85</td>\n    </tr>\n    <tr>\n      <th>2003-03-31</th>\n      <td>EC FP</td>\n      <td>SAP GR</td>\n      <td>PUM GR</td>\n      <td>RAA GR</td>\n      <td>SPA BB</td>\n      <td>SAN FP</td>\n      <td>MDN GR</td>\n      <td>NOK1V FH</td>\n      <td>VAC1V FH</td>\n      <td>ITX SM</td>\n      <td>-0.02</td>\n    </tr>\n    <tr>\n      <th>2003-04-30</th>\n      <td>EC FP</td>\n      <td>SAP GR</td>\n      <td>PUM GR</td>\n      <td>RAA GR</td>\n      <td>SPA BB</td>\n      <td>SAN FP</td>\n      <td>MDN GR</td>\n      <td>NOK1V FH</td>\n      <td>VAC1V FH</td>\n      <td>ITX SM</td>\n      <td>1.29</td>\n    </tr>\n    <tr>\n      <th>2003-05-30</th>\n      <td>ZOT SM</td>\n      <td>EC FP</td>\n      <td>SAP GR</td>\n      <td>PUM GR</td>\n      <td>RAA GR</td>\n      <td>SPA BB</td>\n      <td>SAN FP</td>\n      <td>MDN GR</td>\n      <td>NOK1V FH</td>\n      <td>VAC1V FH</td>\n      <td>0.57</td>\n    </tr>\n    <tr>\n      <th>...</th>\n      <td>...</td>\n      <td>...</td>\n      <td>...</td>\n      <td>...</td>\n      <td>...</td>\n      <td>...</td>\n      <td>...</td>\n      <td>...</td>\n      <td>...</td>\n      <td>...</td>\n      <td>...</td>\n    </tr>\n    <tr>\n      <th>2011-11-30</th>\n      <td>EUR FP</td>\n      <td>ZOT SM</td>\n      <td>LCA1 GR</td>\n      <td>BBED NA</td>\n      <td>AAD GR</td>\n      <td>EVS BB</td>\n      <td>MOBB BB</td>\n      <td>RAA GR</td>\n      <td>ASML NA</td>\n      <td>BOS GR</td>\n      <td>-0.12</td>\n    </tr>\n    <tr>\n      <th>2011-12-30</th>\n      <td>EUR FP</td>\n      <td>ZOT SM</td>\n      <td>EVS BB</td>\n      <td>LCA1 GR</td>\n      <td>BBED NA</td>\n      <td>AAD GR</td>\n      <td>CAI IM</td>\n      <td>NSU GR</td>\n      <td>MOBB BB</td>\n      <td>FSC1V FH</td>\n      <td>-0.16</td>\n    </tr>\n    <tr>\n      <th>2012-01-31</th>\n      <td>EUR FP</td>\n      <td>ZOT SM</td>\n      <td>EVS BB</td>\n      <td>LCA1 GR</td>\n      <td>BBED NA</td>\n      <td>AAD GR</td>\n      <td>CAI IM</td>\n      <td>NSU GR</td>\n      <td>MOBB BB</td>\n      <td>FSC1V FH</td>\n      <td>0.54</td>\n    </tr>\n    <tr>\n      <th>2012-02-29</th>\n      <td>EUR FP</td>\n      <td>ZOT SM</td>\n      <td>EVS BB</td>\n      <td>LCA1 GR</td>\n      <td>BBED NA</td>\n      <td>AAD GR</td>\n      <td>CAI IM</td>\n      <td>NSU GR</td>\n      <td>MOBB BB</td>\n      <td>FSC1V FH</td>\n      <td>0.30</td>\n    </tr>\n    <tr>\n      <th>2012-03-30</th>\n      <td>EUR FP</td>\n      <td>ZOT SM</td>\n      <td>EVS BB</td>\n      <td>LCA1 GR</td>\n      <td>BBED NA</td>\n      <td>AAD GR</td>\n      <td>CAI IM</td>\n      <td>NSU GR</td>\n      <td>MOBB BB</td>\n      <td>FSC1V FH</td>\n      <td>-0.03</td>\n    </tr>\n  </tbody>\n</table>\n<p>111 rows × 11 columns</p>\n</div>"
     },
     "execution_count": 46,
     "metadata": {},
     "output_type": "execute_result"
    }
   ],
   "source": [
    "filtered_info_ratio"
   ],
   "metadata": {
    "collapsed": false,
    "ExecuteTime": {
     "end_time": "2023-07-05T14:38:52.226930500Z",
     "start_time": "2023-07-05T14:38:52.196926100Z"
    }
   }
  },
  {
   "cell_type": "code",
   "execution_count": null,
   "outputs": [],
   "source": [],
   "metadata": {
    "collapsed": false
   }
  }
 ],
 "metadata": {
  "kernelspec": {
   "display_name": "base",
   "language": "python",
   "name": "python3"
  },
  "language_info": {
   "codemirror_mode": {
    "name": "ipython",
    "version": 3
   },
   "file_extension": ".py",
   "mimetype": "text/x-python",
   "name": "python",
   "nbconvert_exporter": "python",
   "pygments_lexer": "ipython3",
   "version": "3.10.11"
  },
  "orig_nbformat": 4
 },
 "nbformat": 4,
 "nbformat_minor": 2
}
