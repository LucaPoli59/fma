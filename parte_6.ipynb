{
 "cells": [
  {
   "cell_type": "code",
   "execution_count": 54,
   "metadata": {
    "ExecuteTime": {
     "end_time": "2023-07-05T13:40:44.119847400Z",
     "start_time": "2023-07-05T13:40:43.948849300Z"
    }
   },
   "outputs": [],
   "source": [
    "import pandas as pd\n",
    "import numpy as np\n",
    "from scipy.stats import zscore\n",
    "import warnings\n",
    "from sklearn.linear_model import LinearRegression\n",
    "import matplotlib.pyplot as plt\n",
    "\n",
    "warnings.filterwarnings(\"ignore\")"
   ]
  },
  {
   "cell_type": "code",
   "execution_count": 55,
   "outputs": [],
   "source": [
    "df = pd.read_csv('data/data.csv').set_index(['equity', 'date'])\n",
    "df = df.drop(df.groupby(level=0).filter(lambda equity: (equity.isna().sum(axis=1) == len(equity.columns)).any()).index)\n",
    "df = df.drop(df.groupby(level=0).filter(lambda equity: equity['PX_LAST'].eq(0).any()).index).reset_index()"
   ],
   "metadata": {
    "collapsed": false,
    "ExecuteTime": {
     "end_time": "2023-07-05T13:40:45.362845100Z",
     "start_time": "2023-07-05T13:40:43.970849800Z"
    }
   }
  },
  {
   "cell_type": "markdown",
   "source": [
    "df_factor_chosen: for every date, selected the best equities by the factor chosen \\\n",
    "column_to_order: name of factor \\\n",
    "number_of_equities: number of equities to select"
   ],
   "metadata": {
    "collapsed": false
   }
  },
  {
   "cell_type": "code",
   "execution_count": 56,
   "outputs": [],
   "source": [
    "df_returns = df[['equity','date','PX_LAST']]\n",
    "df_returns.sort_values(by=['equity','date'], inplace=True)\n",
    "df_returns = df_returns.pivot(index='date', columns='equity', values='PX_LAST')"
   ],
   "metadata": {
    "collapsed": false,
    "ExecuteTime": {
     "end_time": "2023-07-05T13:40:45.410849700Z",
     "start_time": "2023-07-05T13:40:45.362845100Z"
    }
   }
  },
  {
   "cell_type": "code",
   "execution_count": 57,
   "outputs": [],
   "source": [
    "df_log_returns = df_returns[df_returns.columns].apply(lambda x: np.log(x / x.shift(1)))\n",
    "benchmark_rtn = df_log_returns.dropna(how='all').mean(skipna=True, axis='columns')"
   ],
   "metadata": {
    "collapsed": false,
    "ExecuteTime": {
     "end_time": "2023-07-05T13:40:45.600173100Z",
     "start_time": "2023-07-05T13:40:45.414851300Z"
    }
   }
  },
  {
   "cell_type": "code",
   "execution_count": 58,
   "outputs": [],
   "source": [
    "def select_equities(dataframe, factor, number_of_equities, df_rtn, bench_rtn):\n",
    "    temp_dict = {}\n",
    "    dates = list(set(dataframe['date']))\n",
    "    for date in dates:\n",
    "        temp_dict[date] =  dataframe.loc[dataframe['date'] == date].sort_values(by=['date',factor], ascending=False)['equity'].head(number_of_equities).values\n",
    "\n",
    "    df_factor_chosen = pd.DataFrame.from_dict(temp_dict, orient='index').sort_index()\n",
    "\n",
    "    df_factor_chosen_returns = df_factor_chosen.copy()\n",
    "    sum_row_returns = 0\n",
    "    list_sum_row_returns = []\n",
    "    for index, row in df_factor_chosen.iterrows():\n",
    "        for equity in row:\n",
    "            sum_row_returns += np.nansum(df_rtn.loc[index][equity])\n",
    "        list_sum_row_returns.append(round(sum_row_returns,2))\n",
    "        sum_row_returns = 0\n",
    "\n",
    "    df_factor_chosen_returns['returns'] = list_sum_row_returns\n",
    "    df_factor_chosen_returns = df_factor_chosen_returns.iloc[1:,:]\n",
    "\n",
    "    df_factor_chosen_returns['alpha'] = df_factor_chosen_returns['returns'] - bench_rtn\n",
    "    information_ratio = df_factor_chosen_returns['alpha'].mean() / df_factor_chosen_returns['alpha'].std()\n",
    "\n",
    "    return df_factor_chosen_returns, information_ratio"
   ],
   "metadata": {
    "collapsed": false,
    "ExecuteTime": {
     "end_time": "2023-07-05T13:40:45.616172600Z",
     "start_time": "2023-07-05T13:40:45.607170700Z"
    }
   }
  },
  {
   "cell_type": "markdown",
   "source": [
    "df_returns: for each equity, the date and the price"
   ],
   "metadata": {
    "collapsed": false
   }
  },
  {
   "cell_type": "markdown",
   "source": [
    "df_log_returns: log returns for each equity by doing log( price(t) / price(t+1) )"
   ],
   "metadata": {
    "collapsed": false
   }
  },
  {
   "cell_type": "markdown",
   "source": [
    "df_factor_chosen_returns: adding a column with returns for each date looking at the price of every equity selected."
   ],
   "metadata": {
    "collapsed": false
   }
  },
  {
   "cell_type": "code",
   "execution_count": 59,
   "outputs": [
    {
     "data": {
      "text/plain": "PE_RATIO                         0.160940\nEBITDA_MARGIN                    0.158318\nPX_TO_BOOK_RATIO                 0.408200\nNORMALIZED_ACCRUALS_CF_METHOD    0.118331\nRSI_14D                          1.943153\nVOLATILITY_30D                   0.246033\nCUR_MKT_CAP                      0.133747\nOPERATING_ROIC                   0.191919\nName: information_ratio, dtype: float64"
     },
     "execution_count": 59,
     "metadata": {},
     "output_type": "execute_result"
    }
   ],
   "source": [
    "# Calcolo equities e information ratio per ogni factor scelto\n",
    "s_info_ratio = pd.Series(index=[['PE_RATIO', 'EBITDA_MARGIN', 'PX_TO_BOOK_RATIO', 'NORMALIZED_ACCRUALS_CF_METHOD', 'RSI_14D', 'VOLATILITY_30D', 'CUR_MKT_CAP', 'OPERATING_ROIC']], name='information_ratio')\n",
    "equities_selected = {}\n",
    "\n",
    "for factor in s_info_ratio.index:\n",
    "    df_factor_chosen, information_ratio = select_equities(df, factor[0], 10, df_log_returns, benchmark_rtn)\n",
    "    s_info_ratio.loc[factor[0]] = information_ratio\n",
    "    equities_selected[factor[0]] = df_factor_chosen\n",
    "\n",
    "s_info_ratio"
   ],
   "metadata": {
    "collapsed": false,
    "ExecuteTime": {
     "end_time": "2023-07-05T13:40:51.336170500Z",
     "start_time": "2023-07-05T13:40:45.620173800Z"
    }
   }
  },
  {
   "cell_type": "code",
   "execution_count": 84,
   "outputs": [
    {
     "data": {
      "text/plain": "array(['NORMALIZED_ACCRUALS_CF_METHOD', 'CUR_MKT_CAP', 'EBITDA_MARGIN',\n       'PE_RATIO'], dtype=object)"
     },
     "execution_count": 84,
     "metadata": {},
     "output_type": "execute_result"
    }
   ],
   "source": [
    "# estrazione dei 4 factor con information ratio più alto\n",
    "factor_to_use = s_info_ratio.sort_values(ascending=True).head(4).index.get_level_values(0).values\n",
    "factor_to_use"
   ],
   "metadata": {
    "collapsed": false,
    "ExecuteTime": {
     "end_time": "2023-07-05T13:54:03.710838Z",
     "start_time": "2023-07-05T13:54:03.698833800Z"
    }
   }
  },
  {
   "cell_type": "code",
   "execution_count": 85,
   "outputs": [],
   "source": [
    "filter_n_equities = [300, 150, 100]"
   ],
   "metadata": {
    "collapsed": false,
    "ExecuteTime": {
     "end_time": "2023-07-05T13:54:18.058495600Z",
     "start_time": "2023-07-05T13:54:18.042499500Z"
    }
   }
  },
  {
   "cell_type": "markdown",
   "source": [
    "Metodo 1: Utilizzo zscore come fattore per la strategia"
   ],
   "metadata": {
    "collapsed": false
   }
  },
  {
   "cell_type": "code",
   "execution_count": 76,
   "outputs": [],
   "source": [
    "df_filtered = df.copy()\n",
    "for n_equities, factor in zip(filter_n_equities, factor_to_use[:-1]):\n",
    "    eq_filter = select_equities(df_filtered, factor, n_equities, df_log_returns, benchmark_rtn)[0]\n",
    "    df_filtered = pd.concat([df_filtered.loc[(df_filtered['date'] == date) & (df_filtered['equity'].isin(equities.values))\n",
    "                             ] for date, equities in eq_filter.iterrows()])"
   ],
   "metadata": {
    "collapsed": false,
    "ExecuteTime": {
     "end_time": "2023-07-05T13:50:33.250657500Z",
     "start_time": "2023-07-05T13:50:26.159874Z"
    }
   }
  },
  {
   "cell_type": "code",
   "execution_count": 82,
   "outputs": [
    {
     "data": {
      "text/plain": "0.5195538859027905"
     },
     "execution_count": 82,
     "metadata": {},
     "output_type": "execute_result"
    }
   ],
   "source": [
    "sim_equities, sim_info_ratio = select_equities(df_filtered, factor_to_use[-1], 10, df_log_returns, benchmark_rtn)\n",
    "sim_info_ratio"
   ],
   "metadata": {
    "collapsed": false,
    "ExecuteTime": {
     "end_time": "2023-07-05T13:53:47.104596300Z",
     "start_time": "2023-07-05T13:53:46.798594300Z"
    }
   }
  }
 ],
 "metadata": {
  "kernelspec": {
   "display_name": "base",
   "language": "python",
   "name": "python3"
  },
  "language_info": {
   "codemirror_mode": {
    "name": "ipython",
    "version": 3
   },
   "file_extension": ".py",
   "mimetype": "text/x-python",
   "name": "python",
   "nbconvert_exporter": "python",
   "pygments_lexer": "ipython3",
   "version": "3.9.12"
  },
  "orig_nbformat": 4
 },
 "nbformat": 4,
 "nbformat_minor": 2
}
