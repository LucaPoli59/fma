{
 "cells": [
  {
   "cell_type": "code",
   "execution_count": 1,
   "metadata": {
    "ExecuteTime": {
     "end_time": "2023-07-05T11:19:12.274358Z",
     "start_time": "2023-07-05T11:19:10.450085600Z"
    }
   },
   "outputs": [],
   "source": [
    "import pandas as pd\n",
    "import numpy as np\n",
    "from scipy.stats import zscore\n",
    "import warnings\n",
    "from sklearn.linear_model import LinearRegression\n",
    "import matplotlib.pyplot as plt\n",
    "\n",
    "warnings.filterwarnings(\"ignore\")"
   ]
  },
  {
   "cell_type": "code",
   "execution_count": 2,
   "outputs": [],
   "source": [
    "df = pd.read_csv('data/data.csv').set_index(['equity', 'date'])\n",
    "df = df.drop(df.groupby(level=0).filter(lambda equity: (equity.isna().sum(axis=1) == len(equity.columns)).any()).index)\n",
    "df = df.drop(df.groupby(level=0).filter(lambda equity: equity['PX_LAST'].eq(0).any()).index).reset_index()"
   ],
   "metadata": {
    "collapsed": false,
    "ExecuteTime": {
     "end_time": "2023-07-05T11:19:14.216355900Z",
     "start_time": "2023-07-05T11:19:12.280357600Z"
    }
   }
  },
  {
   "cell_type": "markdown",
   "source": [
    "df_factor_chosen: for every date, selected the best equities by the factor chosen \\\n",
    "column_to_order: name of factor \\\n",
    "number_of_equities: number of equities to select"
   ],
   "metadata": {
    "collapsed": false
   }
  },
  {
   "cell_type": "code",
   "execution_count": 3,
   "outputs": [],
   "source": [
    "df_returns = df[['equity','date','PX_LAST']]\n",
    "df_returns.sort_values(by=['equity','date'], inplace=True)\n",
    "df_returns = df_returns.pivot(index='date', columns='equity', values='PX_LAST')"
   ],
   "metadata": {
    "collapsed": false,
    "ExecuteTime": {
     "end_time": "2023-07-05T11:19:14.323355Z",
     "start_time": "2023-07-05T11:19:14.219356800Z"
    }
   }
  },
  {
   "cell_type": "code",
   "execution_count": 4,
   "outputs": [],
   "source": [
    "df_log_returns = df_returns[df_returns.columns].apply(lambda x: np.log(x / x.shift(1)))\n",
    "benchmark_rtn = df_log_returns.dropna(how='all').mean(skipna=True, axis='columns')"
   ],
   "metadata": {
    "collapsed": false,
    "ExecuteTime": {
     "end_time": "2023-07-05T11:19:14.640362300Z",
     "start_time": "2023-07-05T11:19:14.326358400Z"
    }
   }
  },
  {
   "cell_type": "code",
   "execution_count": 5,
   "outputs": [],
   "source": [
    "def select_equities(dataframe, factor, number_of_equities, df_rtn, bench_rtn):\n",
    "    temp_dict = {}\n",
    "    dates = list(set(dataframe['date']))\n",
    "    for date in dates:\n",
    "        temp_dict[date] =  dataframe.loc[dataframe['date'] == date].sort_values(by=['date',factor], ascending=False)['equity'].head(number_of_equities).values\n",
    "\n",
    "    df_factor_chosen = pd.DataFrame.from_dict(temp_dict, orient='index').sort_index()\n",
    "\n",
    "    df_factor_chosen_returns = df_factor_chosen.copy()\n",
    "    sum_row_returns = 0\n",
    "    list_sum_row_returns = []\n",
    "    for index, row in df_factor_chosen.iterrows():\n",
    "        for equity in row:\n",
    "            sum_row_returns += np.nansum(df_rtn.loc[index][equity])\n",
    "        list_sum_row_returns.append(round(sum_row_returns,2))\n",
    "        sum_row_returns = 0\n",
    "\n",
    "    df_factor_chosen_returns['returns'] = list_sum_row_returns\n",
    "    df_factor_chosen_returns = df_factor_chosen_returns.iloc[1:,:]\n",
    "\n",
    "    df_factor_chosen_returns['alpha'] = df_factor_chosen_returns['returns'] - bench_rtn\n",
    "    information_ratio = df_factor_chosen_returns['alpha'].mean() / df_factor_chosen_returns['alpha'].std()\n",
    "\n",
    "    return df_factor_chosen_returns, information_ratio"
   ],
   "metadata": {
    "collapsed": false,
    "ExecuteTime": {
     "end_time": "2023-07-05T11:19:14.682374900Z",
     "start_time": "2023-07-05T11:19:14.653359300Z"
    }
   }
  },
  {
   "cell_type": "markdown",
   "source": [
    "df_returns: for each equity, the date and the price"
   ],
   "metadata": {
    "collapsed": false
   }
  },
  {
   "cell_type": "markdown",
   "source": [
    "df_log_returns: log returns for each equity by doing log( price(t) / price(t+1) )"
   ],
   "metadata": {
    "collapsed": false
   }
  },
  {
   "cell_type": "markdown",
   "source": [
    "df_factor_chosen_returns: adding a column with returns for each date looking at the price of every equity selected."
   ],
   "metadata": {
    "collapsed": false
   }
  },
  {
   "cell_type": "code",
   "execution_count": 6,
   "outputs": [
    {
     "data": {
      "text/plain": "PE_RATIO                         0.160940\nEBITDA_MARGIN                    0.158318\nPX_TO_BOOK_RATIO                 0.408200\nNORMALIZED_ACCRUALS_CF_METHOD    0.118331\nRSI_14D                          1.943153\nVOLATILITY_30D                   0.246033\nCUR_MKT_CAP                      0.133747\nOPERATING_ROIC                   0.191919\nName: information_ratio, dtype: float64"
     },
     "execution_count": 6,
     "metadata": {},
     "output_type": "execute_result"
    }
   ],
   "source": [
    "# Calcolo equities e information ratio per ogni factor scelto\n",
    "s_info_ratio = pd.Series(index=[['PE_RATIO', 'EBITDA_MARGIN', 'PX_TO_BOOK_RATIO', 'NORMALIZED_ACCRUALS_CF_METHOD', 'RSI_14D', 'VOLATILITY_30D', 'CUR_MKT_CAP', 'OPERATING_ROIC']], name='information_ratio')\n",
    "equities_selected = {}\n",
    "\n",
    "for factor in s_info_ratio.index:\n",
    "    df_factor_chosen, information_ratio = select_equities(df, factor[0], 10, df_log_returns, benchmark_rtn)\n",
    "    s_info_ratio.loc[factor[0]] = information_ratio\n",
    "    equities_selected[factor[0]] = df_factor_chosen\n",
    "\n",
    "s_info_ratio"
   ],
   "metadata": {
    "collapsed": false,
    "ExecuteTime": {
     "end_time": "2023-07-05T11:19:21.785356300Z",
     "start_time": "2023-07-05T11:19:14.675359300Z"
    }
   }
  },
  {
   "cell_type": "code",
   "execution_count": 7,
   "outputs": [
    {
     "data": {
      "text/plain": "array(['RSI_14D', 'PX_TO_BOOK_RATIO', 'VOLATILITY_30D', 'OPERATING_ROIC'],\n      dtype=object)"
     },
     "execution_count": 7,
     "metadata": {},
     "output_type": "execute_result"
    }
   ],
   "source": [
    "# estrazione dei 4 factor con information ratio più alto\n",
    "factor_to_use = s_info_ratio.sort_values(ascending=False).head(4).index.get_level_values(0).values\n",
    "factor_to_use"
   ],
   "metadata": {
    "collapsed": false,
    "ExecuteTime": {
     "end_time": "2023-07-05T11:19:21.830359700Z",
     "start_time": "2023-07-05T11:19:21.789359800Z"
    }
   }
  },
  {
   "cell_type": "code",
   "execution_count": 41,
   "outputs": [],
   "source": [
    "filter_n_equities = [300, 150, 100, 20]"
   ],
   "metadata": {
    "collapsed": false,
    "ExecuteTime": {
     "end_time": "2023-07-05T11:54:30.454150400Z",
     "start_time": "2023-07-05T11:54:30.437124300Z"
    }
   }
  },
  {
   "cell_type": "markdown",
   "source": [
    "Metodo 1: Utilizzo zscore come fattore per la strategia"
   ],
   "metadata": {
    "collapsed": false
   }
  },
  {
   "cell_type": "code",
   "execution_count": 43,
   "outputs": [],
   "source": [
    "df_filtered = df.copy()\n",
    "for n_equities, factor in zip(filter_n_equities, factor_to_use):\n",
    "    eq_filter = select_equities(df, factor, n_equities, df_log_returns, benchmark_rtn)[0]\n",
    "    df_filtered = pd.concat([df_filtered.loc[(df_filtered['date'] == date) & (df_filtered['equity'].isin(equities.values))\n",
    "                             ] for date, equities in eq_filter.iterrows()])"
   ],
   "metadata": {
    "collapsed": false,
    "ExecuteTime": {
     "end_time": "2023-07-05T11:55:39.935351500Z",
     "start_time": "2023-07-05T11:55:32.423339Z"
    }
   }
  },
  {
   "cell_type": "code",
   "execution_count": 46,
   "outputs": [],
   "source": [
    "filter1 = select_equities(df, 'RSI_14D', filter_n_equities[0], df_log_returns, benchmark_rtn)[0]"
   ],
   "metadata": {
    "collapsed": false,
    "ExecuteTime": {
     "end_time": "2023-07-05T11:57:29.672787200Z",
     "start_time": "2023-07-05T11:57:26.819183200Z"
    }
   }
  },
  {
   "cell_type": "code",
   "execution_count": 47,
   "outputs": [
    {
     "data": {
      "text/plain": "                  0        1        2        3        4        5         6  \\\n2003-02-28   OLE SM   PIC BB   VSM GR   SIP BB   KUL GR   OEL GR  HKSAV FH   \n2003-03-31   OLE SM   VSM GR   OEL GR  DRW3 GR   PIC BB   KUL GR    BIJ GR   \n2003-04-30   OLE SM   VSM GR   OEL GR   BIJ GR  DRW3 GR   FPE GR    COP GR   \n2003-05-30   OLE SM   COP GR   OEL GR   VSM GR   BIJ GR  DRW3 GR    UPL SM   \n2003-06-30   OLE SM   OEL GR   BIJ GR   VSM GR   COP GR   KUL GR   DRW3 GR   \n...             ...      ...      ...      ...      ...      ...       ...   \n2011-11-30  LCA1 GR   EEX GR   VPK NA   BUE GR  GWI1 GR   MCM SM    WET GR   \n2011-12-30  LCA1 GR   VPK NA  GWI1 GR   UNA NA    ZC FP   PRC FP   AGTA FP   \n2012-01-31  LCA1 GR   VPK NA  GWI1 GR  AGTA FP   WOM GR   BUE GR     ZC FP   \n2012-02-29  LCA1 GR  GWI1 GR   VPK NA   DUE GR   WOM GR    ZC FP   AGTA FP   \n2012-03-30  LCA1 GR  GWI1 GR   VPK NA    EI FP    ZC FP   KIN BB   LOTB BB   \n\n                   7         8         9  ...      292       293      294  \\\n2003-02-28     SO FP  RAP1V FH    IND IM  ...    BB FP    REP SM   GBF GR   \n2003-03-31  HKSAV FH    ZOT SM    UPL SM  ...   BAS GR    COF IM   AGL IM   \n2003-04-30    PIC BB    UPL SM   GENP FP  ...  PHH2 GR  POY1V FH   LPK GR   \n2003-05-30    FPE GR    SIS IM    ZOT SM  ...   RHK GR    TRG SM    BB FP   \n2003-06-30    SIS IM   ZIL2 GR    FPE GR  ...   SDG FP    MUK GR   MME GR   \n...              ...       ...       ...  ...      ...       ...      ...   \n2011-11-30    SGL GR    KIN BB    UNA NA  ...   FRA GR   ZIL2 GR  SIOE BB   \n2011-12-30    BUE GR    EEX GR    SZU GR  ...   LTO IM    ASY FP   TFA GR   \n2012-01-31    EEX GR    DUE GR    PRC FP  ...    EO FP     ML FP   MED GR   \n2012-02-29     BB FP    WMF GR  ACOMO NA  ...  PTER FP    EXE FP   LSS FP   \n2012-03-30    DUE GR    EAD FP   FLUX BB  ...    CU FP     ML FP   TPL GR   \n\n                 295       296       297     298     299 returns      alpha  \n2003-02-28    NHH SM   CRN3 GR    NEO FP  SDG FP  PUB FP   -5.35  -5.295722  \n2003-03-31    CUN SM   GWI1 GR    CEN FP  ITX SM  SDG FP   -2.37  -2.344251  \n2003-04-30    STF FP    CFG SM     AF FP  REC IM  PSM GR   28.67  28.559852  \n2003-05-30     IP IM    VPK NA    UMI BB  IPG IM  BEN FP   14.07  14.031772  \n2003-06-30    RAA GR    EAD FP    PSM GR  SPR GR  SGO FP   13.92  13.872080  \n...              ...       ...       ...     ...     ...     ...        ...  \n2011-11-30    RES BB     EC FP    FUR NA  ENG IM  LPE FP   -4.89  -4.834679  \n2011-12-30  UNIT4 NA     EC FP  ILK2S FH  DIE BB  JEN GR    2.26   2.268528  \n2012-01-31  BAS1V FH   HEIA NA    ZAR GR  ZOT SM  GND FP   22.88  22.808777  \n2012-02-29    REN NA  ACCEL NA   AKZA NA  DOU GR  H4G GR   20.55  20.503640  \n2012-03-30   ZIL2 GR  KRA1V FH    SGL GR  TFF FP   DG FP    9.39   9.385087  \n\n[110 rows x 302 columns]",
      "text/html": "<div>\n<style scoped>\n    .dataframe tbody tr th:only-of-type {\n        vertical-align: middle;\n    }\n\n    .dataframe tbody tr th {\n        vertical-align: top;\n    }\n\n    .dataframe thead th {\n        text-align: right;\n    }\n</style>\n<table border=\"1\" class=\"dataframe\">\n  <thead>\n    <tr style=\"text-align: right;\">\n      <th></th>\n      <th>0</th>\n      <th>1</th>\n      <th>2</th>\n      <th>3</th>\n      <th>4</th>\n      <th>5</th>\n      <th>6</th>\n      <th>7</th>\n      <th>8</th>\n      <th>9</th>\n      <th>...</th>\n      <th>292</th>\n      <th>293</th>\n      <th>294</th>\n      <th>295</th>\n      <th>296</th>\n      <th>297</th>\n      <th>298</th>\n      <th>299</th>\n      <th>returns</th>\n      <th>alpha</th>\n    </tr>\n  </thead>\n  <tbody>\n    <tr>\n      <th>2003-02-28</th>\n      <td>OLE SM</td>\n      <td>PIC BB</td>\n      <td>VSM GR</td>\n      <td>SIP BB</td>\n      <td>KUL GR</td>\n      <td>OEL GR</td>\n      <td>HKSAV FH</td>\n      <td>SO FP</td>\n      <td>RAP1V FH</td>\n      <td>IND IM</td>\n      <td>...</td>\n      <td>BB FP</td>\n      <td>REP SM</td>\n      <td>GBF GR</td>\n      <td>NHH SM</td>\n      <td>CRN3 GR</td>\n      <td>NEO FP</td>\n      <td>SDG FP</td>\n      <td>PUB FP</td>\n      <td>-5.35</td>\n      <td>-5.295722</td>\n    </tr>\n    <tr>\n      <th>2003-03-31</th>\n      <td>OLE SM</td>\n      <td>VSM GR</td>\n      <td>OEL GR</td>\n      <td>DRW3 GR</td>\n      <td>PIC BB</td>\n      <td>KUL GR</td>\n      <td>BIJ GR</td>\n      <td>HKSAV FH</td>\n      <td>ZOT SM</td>\n      <td>UPL SM</td>\n      <td>...</td>\n      <td>BAS GR</td>\n      <td>COF IM</td>\n      <td>AGL IM</td>\n      <td>CUN SM</td>\n      <td>GWI1 GR</td>\n      <td>CEN FP</td>\n      <td>ITX SM</td>\n      <td>SDG FP</td>\n      <td>-2.37</td>\n      <td>-2.344251</td>\n    </tr>\n    <tr>\n      <th>2003-04-30</th>\n      <td>OLE SM</td>\n      <td>VSM GR</td>\n      <td>OEL GR</td>\n      <td>BIJ GR</td>\n      <td>DRW3 GR</td>\n      <td>FPE GR</td>\n      <td>COP GR</td>\n      <td>PIC BB</td>\n      <td>UPL SM</td>\n      <td>GENP FP</td>\n      <td>...</td>\n      <td>PHH2 GR</td>\n      <td>POY1V FH</td>\n      <td>LPK GR</td>\n      <td>STF FP</td>\n      <td>CFG SM</td>\n      <td>AF FP</td>\n      <td>REC IM</td>\n      <td>PSM GR</td>\n      <td>28.67</td>\n      <td>28.559852</td>\n    </tr>\n    <tr>\n      <th>2003-05-30</th>\n      <td>OLE SM</td>\n      <td>COP GR</td>\n      <td>OEL GR</td>\n      <td>VSM GR</td>\n      <td>BIJ GR</td>\n      <td>DRW3 GR</td>\n      <td>UPL SM</td>\n      <td>FPE GR</td>\n      <td>SIS IM</td>\n      <td>ZOT SM</td>\n      <td>...</td>\n      <td>RHK GR</td>\n      <td>TRG SM</td>\n      <td>BB FP</td>\n      <td>IP IM</td>\n      <td>VPK NA</td>\n      <td>UMI BB</td>\n      <td>IPG IM</td>\n      <td>BEN FP</td>\n      <td>14.07</td>\n      <td>14.031772</td>\n    </tr>\n    <tr>\n      <th>2003-06-30</th>\n      <td>OLE SM</td>\n      <td>OEL GR</td>\n      <td>BIJ GR</td>\n      <td>VSM GR</td>\n      <td>COP GR</td>\n      <td>KUL GR</td>\n      <td>DRW3 GR</td>\n      <td>SIS IM</td>\n      <td>ZIL2 GR</td>\n      <td>FPE GR</td>\n      <td>...</td>\n      <td>SDG FP</td>\n      <td>MUK GR</td>\n      <td>MME GR</td>\n      <td>RAA GR</td>\n      <td>EAD FP</td>\n      <td>PSM GR</td>\n      <td>SPR GR</td>\n      <td>SGO FP</td>\n      <td>13.92</td>\n      <td>13.872080</td>\n    </tr>\n    <tr>\n      <th>...</th>\n      <td>...</td>\n      <td>...</td>\n      <td>...</td>\n      <td>...</td>\n      <td>...</td>\n      <td>...</td>\n      <td>...</td>\n      <td>...</td>\n      <td>...</td>\n      <td>...</td>\n      <td>...</td>\n      <td>...</td>\n      <td>...</td>\n      <td>...</td>\n      <td>...</td>\n      <td>...</td>\n      <td>...</td>\n      <td>...</td>\n      <td>...</td>\n      <td>...</td>\n      <td>...</td>\n    </tr>\n    <tr>\n      <th>2011-11-30</th>\n      <td>LCA1 GR</td>\n      <td>EEX GR</td>\n      <td>VPK NA</td>\n      <td>BUE GR</td>\n      <td>GWI1 GR</td>\n      <td>MCM SM</td>\n      <td>WET GR</td>\n      <td>SGL GR</td>\n      <td>KIN BB</td>\n      <td>UNA NA</td>\n      <td>...</td>\n      <td>FRA GR</td>\n      <td>ZIL2 GR</td>\n      <td>SIOE BB</td>\n      <td>RES BB</td>\n      <td>EC FP</td>\n      <td>FUR NA</td>\n      <td>ENG IM</td>\n      <td>LPE FP</td>\n      <td>-4.89</td>\n      <td>-4.834679</td>\n    </tr>\n    <tr>\n      <th>2011-12-30</th>\n      <td>LCA1 GR</td>\n      <td>VPK NA</td>\n      <td>GWI1 GR</td>\n      <td>UNA NA</td>\n      <td>ZC FP</td>\n      <td>PRC FP</td>\n      <td>AGTA FP</td>\n      <td>BUE GR</td>\n      <td>EEX GR</td>\n      <td>SZU GR</td>\n      <td>...</td>\n      <td>LTO IM</td>\n      <td>ASY FP</td>\n      <td>TFA GR</td>\n      <td>UNIT4 NA</td>\n      <td>EC FP</td>\n      <td>ILK2S FH</td>\n      <td>DIE BB</td>\n      <td>JEN GR</td>\n      <td>2.26</td>\n      <td>2.268528</td>\n    </tr>\n    <tr>\n      <th>2012-01-31</th>\n      <td>LCA1 GR</td>\n      <td>VPK NA</td>\n      <td>GWI1 GR</td>\n      <td>AGTA FP</td>\n      <td>WOM GR</td>\n      <td>BUE GR</td>\n      <td>ZC FP</td>\n      <td>EEX GR</td>\n      <td>DUE GR</td>\n      <td>PRC FP</td>\n      <td>...</td>\n      <td>EO FP</td>\n      <td>ML FP</td>\n      <td>MED GR</td>\n      <td>BAS1V FH</td>\n      <td>HEIA NA</td>\n      <td>ZAR GR</td>\n      <td>ZOT SM</td>\n      <td>GND FP</td>\n      <td>22.88</td>\n      <td>22.808777</td>\n    </tr>\n    <tr>\n      <th>2012-02-29</th>\n      <td>LCA1 GR</td>\n      <td>GWI1 GR</td>\n      <td>VPK NA</td>\n      <td>DUE GR</td>\n      <td>WOM GR</td>\n      <td>ZC FP</td>\n      <td>AGTA FP</td>\n      <td>BB FP</td>\n      <td>WMF GR</td>\n      <td>ACOMO NA</td>\n      <td>...</td>\n      <td>PTER FP</td>\n      <td>EXE FP</td>\n      <td>LSS FP</td>\n      <td>REN NA</td>\n      <td>ACCEL NA</td>\n      <td>AKZA NA</td>\n      <td>DOU GR</td>\n      <td>H4G GR</td>\n      <td>20.55</td>\n      <td>20.503640</td>\n    </tr>\n    <tr>\n      <th>2012-03-30</th>\n      <td>LCA1 GR</td>\n      <td>GWI1 GR</td>\n      <td>VPK NA</td>\n      <td>EI FP</td>\n      <td>ZC FP</td>\n      <td>KIN BB</td>\n      <td>LOTB BB</td>\n      <td>DUE GR</td>\n      <td>EAD FP</td>\n      <td>FLUX BB</td>\n      <td>...</td>\n      <td>CU FP</td>\n      <td>ML FP</td>\n      <td>TPL GR</td>\n      <td>ZIL2 GR</td>\n      <td>KRA1V FH</td>\n      <td>SGL GR</td>\n      <td>TFF FP</td>\n      <td>DG FP</td>\n      <td>9.39</td>\n      <td>9.385087</td>\n    </tr>\n  </tbody>\n</table>\n<p>110 rows × 302 columns</p>\n</div>"
     },
     "execution_count": 47,
     "metadata": {},
     "output_type": "execute_result"
    }
   ],
   "source": [
    "filter1"
   ],
   "metadata": {
    "collapsed": false,
    "ExecuteTime": {
     "end_time": "2023-07-05T11:57:29.717268700Z",
     "start_time": "2023-07-05T11:57:29.674790600Z"
    }
   }
  },
  {
   "cell_type": "code",
   "execution_count": 51,
   "outputs": [],
   "source": [
    "df_filtered = pd.concat([df.loc[(df['date'] == date) & (df['equity'].isin(equities.values))] for date, equities in filter1.iterrows()]).set_index(['equity', 'date']).sort_index().reset_index()"
   ],
   "metadata": {
    "collapsed": false,
    "ExecuteTime": {
     "end_time": "2023-07-05T11:58:05.061141400Z",
     "start_time": "2023-07-05T11:58:04.271705500Z"
    }
   }
  },
  {
   "cell_type": "code",
   "execution_count": 53,
   "outputs": [
    {
     "data": {
      "text/plain": "                  0        1        2        3        4        5        6  \\\n2003-03-31   OLE SM   VSM GR   OEL GR  DRW3 GR   PIC BB   KUL GR   BIJ GR   \n2003-04-30   OLE SM   VSM GR   OEL GR   BIJ GR  DRW3 GR   FPE GR   COP GR   \n2003-05-30   OLE SM   COP GR   OEL GR   VSM GR   BIJ GR  DRW3 GR   UPL SM   \n2003-06-30   OLE SM   OEL GR   BIJ GR   VSM GR   COP GR   KUL GR  DRW3 GR   \n2003-07-31   OLE SM   OEL GR   FPE GR   KUL GR   VSM GR   BIJ GR   SIS IM   \n...             ...      ...      ...      ...      ...      ...      ...   \n2011-11-30  LCA1 GR   EEX GR   VPK NA   BUE GR  GWI1 GR   MCM SM   WET GR   \n2011-12-30  LCA1 GR   VPK NA  GWI1 GR   UNA NA    ZC FP   PRC FP  AGTA FP   \n2012-01-31  LCA1 GR   VPK NA  GWI1 GR  AGTA FP   WOM GR   BUE GR    ZC FP   \n2012-02-29  LCA1 GR  GWI1 GR   VPK NA   DUE GR   WOM GR    ZC FP  AGTA FP   \n2012-03-30  LCA1 GR  GWI1 GR   VPK NA    EI FP    ZC FP   KIN BB  LOTB BB   \n\n                   7        8         9  ...       142       143       144  \\\n2003-03-31  HKSAV FH   ZOT SM    UPL SM  ...    GEM IM    COM FP    LSS FP   \n2003-04-30    PIC BB   UPL SM   GENP FP  ...  KESBV FH    KRN GR     SO IM   \n2003-05-30    FPE GR   SIS IM    ZOT SM  ...  KESBV FH  RMR1V FH   VRAP FP   \n2003-06-30    SIS IM  ZIL2 GR    FPE GR  ...    NEO FP  ACOMO NA    VAN BB   \n2003-07-31   DRW3 GR  COBH BB    ZOT SM  ...    EVS BB     ES FP    IDR SM   \n...              ...      ...       ...  ...       ...       ...       ...   \n2011-11-30    SGL GR   KIN BB    UNA NA  ...   VIB3 GR    CDI FP    BAS GR   \n2011-12-30    BUE GR   EEX GR    SZU GR  ...    AEI GR    SSH GR  HUH1V FH   \n2012-01-31    EEX GR   DUE GR    PRC FP  ...   MELE BB    BEI GR  ASU1V FH   \n2012-02-29     BB FP   WMF GR  ACOMO NA  ...     EC FP   ZIL2 GR   ABE1 GR   \n2012-03-30    DUE GR   EAD FP   FLUX BB  ...    TTK GR    MXH GR    BAR BB   \n\n                 145       146       147      148       149 returns      alpha  \n2003-03-31    ANZ GR     NK FP  ECONB BB  PINF IM    NRO FP    0.44   0.465749  \n2003-04-30  LEM1S FH    RCH GR    KWS GR   EXE FP    ADS GR   12.53  12.419852  \n2003-05-30   TESB BB    BOI FP    RAA GR   WMF GR    RBT FP    8.29   8.251772  \n2003-06-30     SO IM  UNR1V FH    FAE SM   IMA IM   THEP FP    7.65   7.602080  \n2003-07-31    CDI FP     ZC FP  ALPHY FP    VK FP   SAMS FP    9.91   9.863816  \n...              ...       ...       ...      ...       ...     ...        ...  \n2011-11-30    MCL IM    SIM GR    PVA SM   BUR FP   ABE1 GR    0.84   0.895321  \n2011-12-30    SBT FP     OR FP    BC8 GR   UMI BB  WRT1V FH    3.16   3.168528  \n2012-01-31    MXH GR   TNFN FP    COK GR   FII FP    BRE IM   11.14  11.068777  \n2012-02-29   HEIA NA    JXR FP    MXH GR   CON GR    BVB GR   11.03  10.983640  \n2012-03-30   ABE1 GR    RAA GR    DWB GR   RBT FP    CON GR    6.99   6.985087  \n\n[109 rows x 152 columns]",
      "text/html": "<div>\n<style scoped>\n    .dataframe tbody tr th:only-of-type {\n        vertical-align: middle;\n    }\n\n    .dataframe tbody tr th {\n        vertical-align: top;\n    }\n\n    .dataframe thead th {\n        text-align: right;\n    }\n</style>\n<table border=\"1\" class=\"dataframe\">\n  <thead>\n    <tr style=\"text-align: right;\">\n      <th></th>\n      <th>0</th>\n      <th>1</th>\n      <th>2</th>\n      <th>3</th>\n      <th>4</th>\n      <th>5</th>\n      <th>6</th>\n      <th>7</th>\n      <th>8</th>\n      <th>9</th>\n      <th>...</th>\n      <th>142</th>\n      <th>143</th>\n      <th>144</th>\n      <th>145</th>\n      <th>146</th>\n      <th>147</th>\n      <th>148</th>\n      <th>149</th>\n      <th>returns</th>\n      <th>alpha</th>\n    </tr>\n  </thead>\n  <tbody>\n    <tr>\n      <th>2003-03-31</th>\n      <td>OLE SM</td>\n      <td>VSM GR</td>\n      <td>OEL GR</td>\n      <td>DRW3 GR</td>\n      <td>PIC BB</td>\n      <td>KUL GR</td>\n      <td>BIJ GR</td>\n      <td>HKSAV FH</td>\n      <td>ZOT SM</td>\n      <td>UPL SM</td>\n      <td>...</td>\n      <td>GEM IM</td>\n      <td>COM FP</td>\n      <td>LSS FP</td>\n      <td>ANZ GR</td>\n      <td>NK FP</td>\n      <td>ECONB BB</td>\n      <td>PINF IM</td>\n      <td>NRO FP</td>\n      <td>0.44</td>\n      <td>0.465749</td>\n    </tr>\n    <tr>\n      <th>2003-04-30</th>\n      <td>OLE SM</td>\n      <td>VSM GR</td>\n      <td>OEL GR</td>\n      <td>BIJ GR</td>\n      <td>DRW3 GR</td>\n      <td>FPE GR</td>\n      <td>COP GR</td>\n      <td>PIC BB</td>\n      <td>UPL SM</td>\n      <td>GENP FP</td>\n      <td>...</td>\n      <td>KESBV FH</td>\n      <td>KRN GR</td>\n      <td>SO IM</td>\n      <td>LEM1S FH</td>\n      <td>RCH GR</td>\n      <td>KWS GR</td>\n      <td>EXE FP</td>\n      <td>ADS GR</td>\n      <td>12.53</td>\n      <td>12.419852</td>\n    </tr>\n    <tr>\n      <th>2003-05-30</th>\n      <td>OLE SM</td>\n      <td>COP GR</td>\n      <td>OEL GR</td>\n      <td>VSM GR</td>\n      <td>BIJ GR</td>\n      <td>DRW3 GR</td>\n      <td>UPL SM</td>\n      <td>FPE GR</td>\n      <td>SIS IM</td>\n      <td>ZOT SM</td>\n      <td>...</td>\n      <td>KESBV FH</td>\n      <td>RMR1V FH</td>\n      <td>VRAP FP</td>\n      <td>TESB BB</td>\n      <td>BOI FP</td>\n      <td>RAA GR</td>\n      <td>WMF GR</td>\n      <td>RBT FP</td>\n      <td>8.29</td>\n      <td>8.251772</td>\n    </tr>\n    <tr>\n      <th>2003-06-30</th>\n      <td>OLE SM</td>\n      <td>OEL GR</td>\n      <td>BIJ GR</td>\n      <td>VSM GR</td>\n      <td>COP GR</td>\n      <td>KUL GR</td>\n      <td>DRW3 GR</td>\n      <td>SIS IM</td>\n      <td>ZIL2 GR</td>\n      <td>FPE GR</td>\n      <td>...</td>\n      <td>NEO FP</td>\n      <td>ACOMO NA</td>\n      <td>VAN BB</td>\n      <td>SO IM</td>\n      <td>UNR1V FH</td>\n      <td>FAE SM</td>\n      <td>IMA IM</td>\n      <td>THEP FP</td>\n      <td>7.65</td>\n      <td>7.602080</td>\n    </tr>\n    <tr>\n      <th>2003-07-31</th>\n      <td>OLE SM</td>\n      <td>OEL GR</td>\n      <td>FPE GR</td>\n      <td>KUL GR</td>\n      <td>VSM GR</td>\n      <td>BIJ GR</td>\n      <td>SIS IM</td>\n      <td>DRW3 GR</td>\n      <td>COBH BB</td>\n      <td>ZOT SM</td>\n      <td>...</td>\n      <td>EVS BB</td>\n      <td>ES FP</td>\n      <td>IDR SM</td>\n      <td>CDI FP</td>\n      <td>ZC FP</td>\n      <td>ALPHY FP</td>\n      <td>VK FP</td>\n      <td>SAMS FP</td>\n      <td>9.91</td>\n      <td>9.863816</td>\n    </tr>\n    <tr>\n      <th>...</th>\n      <td>...</td>\n      <td>...</td>\n      <td>...</td>\n      <td>...</td>\n      <td>...</td>\n      <td>...</td>\n      <td>...</td>\n      <td>...</td>\n      <td>...</td>\n      <td>...</td>\n      <td>...</td>\n      <td>...</td>\n      <td>...</td>\n      <td>...</td>\n      <td>...</td>\n      <td>...</td>\n      <td>...</td>\n      <td>...</td>\n      <td>...</td>\n      <td>...</td>\n      <td>...</td>\n    </tr>\n    <tr>\n      <th>2011-11-30</th>\n      <td>LCA1 GR</td>\n      <td>EEX GR</td>\n      <td>VPK NA</td>\n      <td>BUE GR</td>\n      <td>GWI1 GR</td>\n      <td>MCM SM</td>\n      <td>WET GR</td>\n      <td>SGL GR</td>\n      <td>KIN BB</td>\n      <td>UNA NA</td>\n      <td>...</td>\n      <td>VIB3 GR</td>\n      <td>CDI FP</td>\n      <td>BAS GR</td>\n      <td>MCL IM</td>\n      <td>SIM GR</td>\n      <td>PVA SM</td>\n      <td>BUR FP</td>\n      <td>ABE1 GR</td>\n      <td>0.84</td>\n      <td>0.895321</td>\n    </tr>\n    <tr>\n      <th>2011-12-30</th>\n      <td>LCA1 GR</td>\n      <td>VPK NA</td>\n      <td>GWI1 GR</td>\n      <td>UNA NA</td>\n      <td>ZC FP</td>\n      <td>PRC FP</td>\n      <td>AGTA FP</td>\n      <td>BUE GR</td>\n      <td>EEX GR</td>\n      <td>SZU GR</td>\n      <td>...</td>\n      <td>AEI GR</td>\n      <td>SSH GR</td>\n      <td>HUH1V FH</td>\n      <td>SBT FP</td>\n      <td>OR FP</td>\n      <td>BC8 GR</td>\n      <td>UMI BB</td>\n      <td>WRT1V FH</td>\n      <td>3.16</td>\n      <td>3.168528</td>\n    </tr>\n    <tr>\n      <th>2012-01-31</th>\n      <td>LCA1 GR</td>\n      <td>VPK NA</td>\n      <td>GWI1 GR</td>\n      <td>AGTA FP</td>\n      <td>WOM GR</td>\n      <td>BUE GR</td>\n      <td>ZC FP</td>\n      <td>EEX GR</td>\n      <td>DUE GR</td>\n      <td>PRC FP</td>\n      <td>...</td>\n      <td>MELE BB</td>\n      <td>BEI GR</td>\n      <td>ASU1V FH</td>\n      <td>MXH GR</td>\n      <td>TNFN FP</td>\n      <td>COK GR</td>\n      <td>FII FP</td>\n      <td>BRE IM</td>\n      <td>11.14</td>\n      <td>11.068777</td>\n    </tr>\n    <tr>\n      <th>2012-02-29</th>\n      <td>LCA1 GR</td>\n      <td>GWI1 GR</td>\n      <td>VPK NA</td>\n      <td>DUE GR</td>\n      <td>WOM GR</td>\n      <td>ZC FP</td>\n      <td>AGTA FP</td>\n      <td>BB FP</td>\n      <td>WMF GR</td>\n      <td>ACOMO NA</td>\n      <td>...</td>\n      <td>EC FP</td>\n      <td>ZIL2 GR</td>\n      <td>ABE1 GR</td>\n      <td>HEIA NA</td>\n      <td>JXR FP</td>\n      <td>MXH GR</td>\n      <td>CON GR</td>\n      <td>BVB GR</td>\n      <td>11.03</td>\n      <td>10.983640</td>\n    </tr>\n    <tr>\n      <th>2012-03-30</th>\n      <td>LCA1 GR</td>\n      <td>GWI1 GR</td>\n      <td>VPK NA</td>\n      <td>EI FP</td>\n      <td>ZC FP</td>\n      <td>KIN BB</td>\n      <td>LOTB BB</td>\n      <td>DUE GR</td>\n      <td>EAD FP</td>\n      <td>FLUX BB</td>\n      <td>...</td>\n      <td>TTK GR</td>\n      <td>MXH GR</td>\n      <td>BAR BB</td>\n      <td>ABE1 GR</td>\n      <td>RAA GR</td>\n      <td>DWB GR</td>\n      <td>RBT FP</td>\n      <td>CON GR</td>\n      <td>6.99</td>\n      <td>6.985087</td>\n    </tr>\n  </tbody>\n</table>\n<p>109 rows × 152 columns</p>\n</div>"
     },
     "execution_count": 53,
     "metadata": {},
     "output_type": "execute_result"
    }
   ],
   "source": [
    "select_equities(df_filtered, 'RSI_14D', filter_n_equities[1], df_log_returns, benchmark_rtn)[0]"
   ],
   "metadata": {
    "collapsed": false,
    "ExecuteTime": {
     "end_time": "2023-07-05T11:58:25.368879Z",
     "start_time": "2023-07-05T11:58:23.639064Z"
    }
   }
  },
  {
   "cell_type": "code",
   "execution_count": null,
   "outputs": [],
   "source": [],
   "metadata": {
    "collapsed": false
   }
  },
  {
   "cell_type": "markdown",
   "source": [
    "nota per luca: puoi risolvere il punto 5 usando come peso per ogni fattore nello zscore come il valore della correlazione MEDIA del fattore con gli altri fattori"
   ],
   "metadata": {
    "collapsed": false
   }
  },
  {
   "cell_type": "markdown",
   "source": [],
   "metadata": {
    "collapsed": false
   }
  }
 ],
 "metadata": {
  "kernelspec": {
   "display_name": "base",
   "language": "python",
   "name": "python3"
  },
  "language_info": {
   "codemirror_mode": {
    "name": "ipython",
    "version": 3
   },
   "file_extension": ".py",
   "mimetype": "text/x-python",
   "name": "python",
   "nbconvert_exporter": "python",
   "pygments_lexer": "ipython3",
   "version": "3.9.12"
  },
  "orig_nbformat": 4
 },
 "nbformat": 4,
 "nbformat_minor": 2
}
