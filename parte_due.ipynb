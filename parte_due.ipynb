{
 "cells": [
  {
   "cell_type": "code",
   "execution_count": null,
   "metadata": {},
   "outputs": [],
   "source": [
    "import pandas as pd\n",
    "import numpy as np\n",
    "\n",
    "import warnings\n",
    "warnings.filterwarnings(\"ignore\")"
   ]
  },
  {
   "cell_type": "markdown",
   "metadata": {
    "collapsed": false
   },
   "source": [
    "df_factor_chosen_returns: adding a column with returns for each date looking at the price of every equity selected."
   ]
  },
  {
   "cell_type": "code",
   "execution_count": null,
   "metadata": {
    "collapsed": false
   },
   "outputs": [],
   "source": [
    "df_factor_chosen_returns = df_factor_chosen.copy()\n",
    "commission_fee = 0.002\n",
    "sum_row_returns = 0\n",
    "list_sum_row_returns = []\n",
    "for index, row in df_factor_chosen.iterrows():\n",
    "    for equity in row:\n",
    "        # sum_row_returns += np.nansum(df_log_returns.loc[index][equity])\n",
    "        \n",
    "        rtn_before_commission = np.nansum(df_log_returns.loc[index][equity])\n",
    "        print(rtn_before_commission)\n",
    "        rtn_after_commission = rtn_before_commission - commission_fee * (1 + rtn_before_commission)\n",
    "        print(rtn_after_commission)\n",
    "        sum_row_returns += rtn_after_commission\n",
    "\n",
    "    list_sum_row_returns.append(round(sum_row_returns,2))\n",
    "    sum_row_returns = 0\n",
    "\n",
    "df_factor_chosen_returns['returns'] = list_sum_row_returns\n",
    "df_factor_chosen_returns = df_factor_chosen_returns.iloc[1:,:]"
   ]
  },
  {
   "cell_type": "code",
   "execution_count": 95,
   "metadata": {
    "ExecuteTime": {
     "end_time": "2023-06-21T11:10:28.593927400Z",
     "start_time": "2023-06-21T11:10:28.534141300Z"
    },
    "collapsed": false
   },
   "outputs": [
    {
     "data": {
      "text/html": [
       "<div>\n",
       "<style scoped>\n",
       "    .dataframe tbody tr th:only-of-type {\n",
       "        vertical-align: middle;\n",
       "    }\n",
       "\n",
       "    .dataframe tbody tr th {\n",
       "        vertical-align: top;\n",
       "    }\n",
       "\n",
       "    .dataframe thead th {\n",
       "        text-align: right;\n",
       "    }\n",
       "</style>\n",
       "<table border=\"1\" class=\"dataframe\">\n",
       "  <thead>\n",
       "    <tr style=\"text-align: right;\">\n",
       "      <th></th>\n",
       "      <th>stock1</th>\n",
       "      <th>stock2</th>\n",
       "      <th>stock3</th>\n",
       "      <th>rtn medio</th>\n",
       "      <th>stock3_after_commission</th>\n",
       "    </tr>\n",
       "  </thead>\n",
       "  <tbody>\n",
       "    <tr>\n",
       "      <th>d1</th>\n",
       "      <td>0.15</td>\n",
       "      <td>0.1</td>\n",
       "      <td>0.3</td>\n",
       "      <td>0.183</td>\n",
       "      <td>0.2994</td>\n",
       "    </tr>\n",
       "    <tr>\n",
       "      <th>d2</th>\n",
       "      <td>-0.10</td>\n",
       "      <td>0.2</td>\n",
       "      <td>0.5</td>\n",
       "      <td>0.200</td>\n",
       "      <td>0.4990</td>\n",
       "    </tr>\n",
       "    <tr>\n",
       "      <th>d3</th>\n",
       "      <td>-0.30</td>\n",
       "      <td>0.2</td>\n",
       "      <td>0.1</td>\n",
       "      <td>0.000</td>\n",
       "      <td>0.0998</td>\n",
       "    </tr>\n",
       "  </tbody>\n",
       "</table>\n",
       "</div>"
      ],
      "text/plain": [
       "    stock1  stock2  stock3  rtn medio  stock3_after_commission\n",
       "d1    0.15     0.1     0.3      0.183                   0.2994\n",
       "d2   -0.10     0.2     0.5      0.200                   0.4990\n",
       "d3   -0.30     0.2     0.1      0.000                   0.0998"
      ]
     },
     "execution_count": 95,
     "metadata": {},
     "output_type": "execute_result"
    }
   ],
   "source": [
    "# commission_fee = 0.002\n",
    "# tmp = pd.DataFrame([[0.15, 0.1, 0.3], [-0.1, 0.2, 0.5], [-0.3, 0.2, 0.1]], index=['d1', 'd2', 'd3'], columns=['stock1', 'stock2', 'stock3'])\n",
    "# tmp['rtn medio'] = round(tmp.sum(axis=1) / 3, 3)\n",
    "# tmp['stock3_after_commission'] = tmp['stock3'] - commission_fee * (1 + tmp['stock3']) # rtn_after_commission = rtn_before_commission - commission_fee * (1 + rtn_before_commission)\n",
    "# tmp"
   ]
  },
  {
   "cell_type": "code",
   "execution_count": null,
   "metadata": {
    "collapsed": false
   },
   "outputs": [],
   "source": [
    "df_factor_chosen_returns['alpha'] = df_factor_chosen_returns['returns'] - benchmark_rtn\n",
    "information_ratio = df_factor_chosen_returns['alpha'].mean() / df_factor_chosen_returns['alpha'].std()\n",
    "information_ratio"
   ]
  }
 ],
 "metadata": {
  "kernelspec": {
   "display_name": "base",
   "language": "python",
   "name": "python3"
  },
  "language_info": {
   "codemirror_mode": {
    "name": "ipython",
    "version": 3
   },
   "file_extension": ".py",
   "mimetype": "text/x-python",
   "name": "python",
   "nbconvert_exporter": "python",
   "pygments_lexer": "ipython3",
   "version": "3.9.12"
  },
  "orig_nbformat": 4
 },
 "nbformat": 4,
 "nbformat_minor": 2
}
