{
 "cells": [
  {
   "cell_type": "code",
   "execution_count": 2,
   "metadata": {
    "ExecuteTime": {
     "end_time": "2023-07-05T09:33:33.482053700Z",
     "start_time": "2023-07-05T09:33:32.172055700Z"
    }
   },
   "outputs": [],
   "source": [
    "import pandas as pd\n",
    "import numpy as np\n",
    "from scipy.stats import zscore\n",
    "import warnings\n",
    "\n",
    "warnings.filterwarnings(\"ignore\")"
   ]
  },
  {
   "cell_type": "code",
   "execution_count": 3,
   "outputs": [],
   "source": [
    "df = pd.read_csv('data/data.csv').set_index(['equity', 'date'])\n",
    "df = df.drop(df.groupby(level=0).filter(lambda equity: (equity.isna().sum(axis=1) == len(equity.columns)).any()).index)\n",
    "df = df.drop(df.groupby(level=0).filter(lambda equity: equity['PX_LAST'].eq(0).any()).index).reset_index()"
   ],
   "metadata": {
    "collapsed": false,
    "ExecuteTime": {
     "end_time": "2023-07-05T09:33:34.968052500Z",
     "start_time": "2023-07-05T09:33:33.479059Z"
    }
   }
  },
  {
   "cell_type": "markdown",
   "source": [
    "df_factor_chosen: for every date, selected the best equities by the factor chosen \\\n",
    "column_to_order: name of factor \\\n",
    "number_of_equities: number of equities to select"
   ],
   "metadata": {
    "collapsed": false
   }
  },
  {
   "cell_type": "code",
   "execution_count": 4,
   "outputs": [],
   "source": [
    "df_returns = df[['equity','date','PX_LAST']]\n",
    "df_returns.sort_values(by=['equity','date'], inplace=True)\n",
    "df_returns = df_returns.pivot(index='date', columns='equity', values='PX_LAST')"
   ],
   "metadata": {
    "collapsed": false,
    "ExecuteTime": {
     "end_time": "2023-07-05T09:33:35.027228300Z",
     "start_time": "2023-07-05T09:33:34.970055800Z"
    }
   }
  },
  {
   "cell_type": "code",
   "execution_count": 5,
   "outputs": [],
   "source": [
    "df_log_returns = df_returns[df_returns.columns].apply(lambda x: np.log(x / x.shift(1)))\n",
    "benchmark_rtn = df_log_returns.dropna(how='all').mean(skipna=True, axis='columns')"
   ],
   "metadata": {
    "collapsed": false,
    "ExecuteTime": {
     "end_time": "2023-07-05T09:33:35.234227100Z",
     "start_time": "2023-07-05T09:33:35.032233Z"
    }
   }
  },
  {
   "cell_type": "code",
   "execution_count": 6,
   "outputs": [],
   "source": [
    "def select_equities(dataframe, factor, number_of_equities, df_rtn, bench_rtn):\n",
    "    temp_dict = {}\n",
    "    dates = list(set(dataframe['date']))\n",
    "    for date in dates:\n",
    "        temp_dict[date] =  dataframe.loc[dataframe['date'] == date].sort_values(by=['date',factor], ascending=False)['equity'].head(number_of_equities).values\n",
    "\n",
    "    df_factor_chosen = pd.DataFrame.from_dict(temp_dict, orient='index').sort_index()\n",
    "\n",
    "    df_factor_chosen_returns = df_factor_chosen.copy()\n",
    "    sum_row_returns = 0\n",
    "    list_sum_row_returns = []\n",
    "    for index, row in df_factor_chosen.iterrows():\n",
    "        for equity in row:\n",
    "            sum_row_returns += np.nansum(df_rtn.loc[index][equity])\n",
    "        list_sum_row_returns.append(round(sum_row_returns,2))\n",
    "        sum_row_returns = 0\n",
    "\n",
    "    df_factor_chosen_returns['returns'] = list_sum_row_returns\n",
    "    df_factor_chosen_returns = df_factor_chosen_returns.iloc[1:,:]\n",
    "\n",
    "    df_factor_chosen_returns['alpha'] = df_factor_chosen_returns['returns'] - bench_rtn\n",
    "    information_ratio = df_factor_chosen_returns['alpha'].mean() / df_factor_chosen_returns['alpha'].std()\n",
    "\n",
    "    return df_factor_chosen_returns, information_ratio"
   ],
   "metadata": {
    "collapsed": false,
    "ExecuteTime": {
     "end_time": "2023-07-05T09:33:35.249230600Z",
     "start_time": "2023-07-05T09:33:35.237229500Z"
    }
   }
  },
  {
   "cell_type": "markdown",
   "source": [
    "df_returns: for each equity, the date and the price"
   ],
   "metadata": {
    "collapsed": false
   }
  },
  {
   "cell_type": "markdown",
   "source": [
    "df_log_returns: log returns for each equity by doing log( price(t) / price(t+1) )"
   ],
   "metadata": {
    "collapsed": false
   }
  },
  {
   "cell_type": "markdown",
   "source": [
    "df_factor_chosen_returns: adding a column with returns for each date looking at the price of every equity selected."
   ],
   "metadata": {
    "collapsed": false
   }
  },
  {
   "cell_type": "code",
   "execution_count": 7,
   "outputs": [
    {
     "data": {
      "text/plain": "PE_RATIO                         0.160940\nEBITDA_MARGIN                    0.158318\nPX_TO_BOOK_RATIO                 0.408200\nNORMALIZED_ACCRUALS_CF_METHOD    0.118331\nRSI_14D                          1.943153\nVOLATILITY_30D                   0.246033\nCUR_MKT_CAP                      0.133747\nOPERATING_ROIC                   0.191919\nName: information_ratio, dtype: float64"
     },
     "execution_count": 7,
     "metadata": {},
     "output_type": "execute_result"
    }
   ],
   "source": [
    "# Calcolo equities e information ratio per ogni factor scelto\n",
    "s_info_ratio = pd.Series(index=[['PE_RATIO', 'EBITDA_MARGIN', 'PX_TO_BOOK_RATIO', 'NORMALIZED_ACCRUALS_CF_METHOD', 'RSI_14D', 'VOLATILITY_30D', 'CUR_MKT_CAP', 'OPERATING_ROIC']], name='information_ratio')\n",
    "equities_selected = {}\n",
    "\n",
    "for factor in s_info_ratio.index:\n",
    "    df_factor_chosen, information_ratio = select_equities(df, factor[0], 10, df_log_returns, benchmark_rtn)\n",
    "    s_info_ratio.loc[factor[0]] = information_ratio\n",
    "    equities_selected[factor[0]] = df_factor_chosen\n",
    "\n",
    "s_info_ratio"
   ],
   "metadata": {
    "collapsed": false,
    "ExecuteTime": {
     "end_time": "2023-07-05T09:33:41.120199700Z",
     "start_time": "2023-07-05T09:33:35.260228Z"
    }
   }
  },
  {
   "cell_type": "code",
   "execution_count": 8,
   "outputs": [],
   "source": [
    "# estrazione dei 4 factor con information ratio più alto\n",
    "factor_to_use = s_info_ratio.sort_values(ascending=False).head(4).index.get_level_values(0).values"
   ],
   "metadata": {
    "collapsed": false,
    "ExecuteTime": {
     "end_time": "2023-07-05T09:33:41.165228200Z",
     "start_time": "2023-07-05T09:33:41.122199900Z"
    }
   }
  },
  {
   "cell_type": "code",
   "execution_count": 9,
   "outputs": [
    {
     "data": {
      "text/plain": "array(['RSI_14D', 'PX_TO_BOOK_RATIO', 'VOLATILITY_30D', 'OPERATING_ROIC'],\n      dtype=object)"
     },
     "execution_count": 9,
     "metadata": {},
     "output_type": "execute_result"
    }
   ],
   "source": [
    "factor_to_use"
   ],
   "metadata": {
    "collapsed": false,
    "ExecuteTime": {
     "end_time": "2023-07-05T09:33:41.167209400Z",
     "start_time": "2023-07-05T09:33:41.140199600Z"
    }
   }
  },
  {
   "cell_type": "code",
   "execution_count": 17,
   "outputs": [],
   "source": [
    "\n",
    "# aggiungo la colonna zscore aggregata per i fattori scelti\n",
    "df['zscore'] = df.set_index(['equity', 'date'])[factor_to_use].groupby(level=0).apply(lambda x: zscore(x.loc[:, factor_to_use]).mean(axis=1)).values"
   ],
   "metadata": {
    "collapsed": false,
    "ExecuteTime": {
     "end_time": "2023-07-05T09:36:07.572756900Z",
     "start_time": "2023-07-05T09:36:05.858520900Z"
    }
   }
  },
  {
   "cell_type": "code",
   "execution_count": 18,
   "outputs": [],
   "source": [
    "zscore_equities, zscore_info_ratio = select_equities(df, 'zscore', 10, df_log_returns, benchmark_rtn)"
   ],
   "metadata": {
    "collapsed": false,
    "ExecuteTime": {
     "end_time": "2023-07-05T09:36:23.636087800Z",
     "start_time": "2023-07-05T09:36:22.716090800Z"
    }
   }
  },
  {
   "cell_type": "code",
   "execution_count": 19,
   "outputs": [
    {
     "data": {
      "text/plain": "0.8978267783676801"
     },
     "execution_count": 19,
     "metadata": {},
     "output_type": "execute_result"
    }
   ],
   "source": [
    "zscore_info_ratio"
   ],
   "metadata": {
    "collapsed": false,
    "ExecuteTime": {
     "end_time": "2023-07-05T09:36:26.444261800Z",
     "start_time": "2023-07-05T09:36:26.423261500Z"
    }
   }
  },
  {
   "cell_type": "code",
   "execution_count": null,
   "outputs": [],
   "source": [],
   "metadata": {
    "collapsed": false
   }
  }
 ],
 "metadata": {
  "kernelspec": {
   "display_name": "base",
   "language": "python",
   "name": "python3"
  },
  "language_info": {
   "codemirror_mode": {
    "name": "ipython",
    "version": 3
   },
   "file_extension": ".py",
   "mimetype": "text/x-python",
   "name": "python",
   "nbconvert_exporter": "python",
   "pygments_lexer": "ipython3",
   "version": "3.9.12"
  },
  "orig_nbformat": 4
 },
 "nbformat": 4,
 "nbformat_minor": 2
}
