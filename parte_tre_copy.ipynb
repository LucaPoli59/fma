{
 "cells": [
  {
   "cell_type": "code",
   "execution_count": 2,
   "metadata": {
    "ExecuteTime": {
     "end_time": "2023-07-05T09:33:33.482053700Z",
     "start_time": "2023-07-05T09:33:32.172055700Z"
    }
   },
   "outputs": [],
   "source": [
    "import pandas as pd\n",
    "import numpy as np\n",
    "from scipy.stats import zscore\n",
    "import warnings\n",
    "from sklearn.linear_model import LinearRegression\n",
    "\n",
    "warnings.filterwarnings(\"ignore\")"
   ]
  },
  {
   "cell_type": "code",
   "execution_count": 3,
   "outputs": [],
   "source": [
    "df = pd.read_csv('data/data.csv').set_index(['equity', 'date'])\n",
    "df = df.drop(df.groupby(level=0).filter(lambda equity: (equity.isna().sum(axis=1) == len(equity.columns)).any()).index)\n",
    "df = df.drop(df.groupby(level=0).filter(lambda equity: equity['PX_LAST'].eq(0).any()).index).reset_index()"
   ],
   "metadata": {
    "collapsed": false,
    "ExecuteTime": {
     "end_time": "2023-07-05T09:33:34.968052500Z",
     "start_time": "2023-07-05T09:33:33.479059Z"
    }
   }
  },
  {
   "cell_type": "markdown",
   "source": [
    "df_factor_chosen: for every date, selected the best equities by the factor chosen \\\n",
    "column_to_order: name of factor \\\n",
    "number_of_equities: number of equities to select"
   ],
   "metadata": {
    "collapsed": false
   }
  },
  {
   "cell_type": "code",
   "execution_count": 4,
   "outputs": [],
   "source": [
    "df_returns = df[['equity','date','PX_LAST']]\n",
    "df_returns.sort_values(by=['equity','date'], inplace=True)\n",
    "df_returns = df_returns.pivot(index='date', columns='equity', values='PX_LAST')"
   ],
   "metadata": {
    "collapsed": false,
    "ExecuteTime": {
     "end_time": "2023-07-05T09:33:35.027228300Z",
     "start_time": "2023-07-05T09:33:34.970055800Z"
    }
   }
  },
  {
   "cell_type": "code",
   "execution_count": 5,
   "outputs": [],
   "source": [
    "df_log_returns = df_returns[df_returns.columns].apply(lambda x: np.log(x / x.shift(1)))\n",
    "benchmark_rtn = df_log_returns.dropna(how='all').mean(skipna=True, axis='columns')"
   ],
   "metadata": {
    "collapsed": false,
    "ExecuteTime": {
     "end_time": "2023-07-05T09:33:35.234227100Z",
     "start_time": "2023-07-05T09:33:35.032233Z"
    }
   }
  },
  {
   "cell_type": "code",
   "execution_count": 6,
   "outputs": [],
   "source": [
    "def select_equities(dataframe, factor, number_of_equities, df_rtn, bench_rtn):\n",
    "    temp_dict = {}\n",
    "    dates = list(set(dataframe['date']))\n",
    "    for date in dates:\n",
    "        temp_dict[date] =  dataframe.loc[dataframe['date'] == date].sort_values(by=['date',factor], ascending=False)['equity'].head(number_of_equities).values\n",
    "\n",
    "    df_factor_chosen = pd.DataFrame.from_dict(temp_dict, orient='index').sort_index()\n",
    "\n",
    "    df_factor_chosen_returns = df_factor_chosen.copy()\n",
    "    sum_row_returns = 0\n",
    "    list_sum_row_returns = []\n",
    "    for index, row in df_factor_chosen.iterrows():\n",
    "        for equity in row:\n",
    "            sum_row_returns += np.nansum(df_rtn.loc[index][equity])\n",
    "        list_sum_row_returns.append(round(sum_row_returns,2))\n",
    "        sum_row_returns = 0\n",
    "\n",
    "    df_factor_chosen_returns['returns'] = list_sum_row_returns\n",
    "    df_factor_chosen_returns = df_factor_chosen_returns.iloc[1:,:]\n",
    "\n",
    "    df_factor_chosen_returns['alpha'] = df_factor_chosen_returns['returns'] - bench_rtn\n",
    "    information_ratio = df_factor_chosen_returns['alpha'].mean() / df_factor_chosen_returns['alpha'].std()\n",
    "\n",
    "    return df_factor_chosen_returns, information_ratio"
   ],
   "metadata": {
    "collapsed": false,
    "ExecuteTime": {
     "end_time": "2023-07-05T09:33:35.249230600Z",
     "start_time": "2023-07-05T09:33:35.237229500Z"
    }
   }
  },
  {
   "cell_type": "markdown",
   "source": [
    "df_returns: for each equity, the date and the price"
   ],
   "metadata": {
    "collapsed": false
   }
  },
  {
   "cell_type": "markdown",
   "source": [
    "df_log_returns: log returns for each equity by doing log( price(t) / price(t+1) )"
   ],
   "metadata": {
    "collapsed": false
   }
  },
  {
   "cell_type": "markdown",
   "source": [
    "df_factor_chosen_returns: adding a column with returns for each date looking at the price of every equity selected."
   ],
   "metadata": {
    "collapsed": false
   }
  },
  {
   "cell_type": "code",
   "execution_count": 7,
   "outputs": [
    {
     "data": {
      "text/plain": "PE_RATIO                         0.160940\nEBITDA_MARGIN                    0.158318\nPX_TO_BOOK_RATIO                 0.408200\nNORMALIZED_ACCRUALS_CF_METHOD    0.118331\nRSI_14D                          1.943153\nVOLATILITY_30D                   0.246033\nCUR_MKT_CAP                      0.133747\nOPERATING_ROIC                   0.191919\nName: information_ratio, dtype: float64"
     },
     "execution_count": 7,
     "metadata": {},
     "output_type": "execute_result"
    }
   ],
   "source": [
    "# Calcolo equities e information ratio per ogni factor scelto\n",
    "s_info_ratio = pd.Series(index=[['PE_RATIO', 'EBITDA_MARGIN', 'PX_TO_BOOK_RATIO', 'NORMALIZED_ACCRUALS_CF_METHOD', 'RSI_14D', 'VOLATILITY_30D', 'CUR_MKT_CAP', 'OPERATING_ROIC']], name='information_ratio')\n",
    "equities_selected = {}\n",
    "\n",
    "for factor in s_info_ratio.index:\n",
    "    df_factor_chosen, information_ratio = select_equities(df, factor[0], 10, df_log_returns, benchmark_rtn)\n",
    "    s_info_ratio.loc[factor[0]] = information_ratio\n",
    "    equities_selected[factor[0]] = df_factor_chosen\n",
    "\n",
    "s_info_ratio"
   ],
   "metadata": {
    "collapsed": false,
    "ExecuteTime": {
     "end_time": "2023-07-05T09:33:41.120199700Z",
     "start_time": "2023-07-05T09:33:35.260228Z"
    }
   }
  },
  {
   "cell_type": "code",
   "execution_count": 8,
   "outputs": [],
   "source": [
    "# estrazione dei 4 factor con information ratio più alto\n",
    "factor_to_use = s_info_ratio.sort_values(ascending=False).head(4).index.get_level_values(0).values"
   ],
   "metadata": {
    "collapsed": false,
    "ExecuteTime": {
     "end_time": "2023-07-05T09:33:41.165228200Z",
     "start_time": "2023-07-05T09:33:41.122199900Z"
    }
   }
  },
  {
   "cell_type": "code",
   "execution_count": 9,
   "outputs": [
    {
     "data": {
      "text/plain": "array(['RSI_14D', 'PX_TO_BOOK_RATIO', 'VOLATILITY_30D', 'OPERATING_ROIC'],\n      dtype=object)"
     },
     "execution_count": 9,
     "metadata": {},
     "output_type": "execute_result"
    }
   ],
   "source": [
    "factor_to_use"
   ],
   "metadata": {
    "collapsed": false,
    "ExecuteTime": {
     "end_time": "2023-07-05T09:33:41.167209400Z",
     "start_time": "2023-07-05T09:33:41.140199600Z"
    }
   }
  },
  {
   "cell_type": "code",
   "execution_count": 17,
   "outputs": [],
   "source": [
    "\n",
    "# aggiungo la colonna zscore aggregata per i fattori scelti\n",
    "df['zscore'] = df.set_index(['equity', 'date'])[factor_to_use].groupby(level=0).apply(lambda x: zscore(x.loc[:, factor_to_use]).mean(axis=1)).values"
   ],
   "metadata": {
    "collapsed": false,
    "ExecuteTime": {
     "end_time": "2023-07-05T09:36:07.572756900Z",
     "start_time": "2023-07-05T09:36:05.858520900Z"
    }
   }
  },
  {
   "cell_type": "code",
   "execution_count": 18,
   "outputs": [],
   "source": [
    "zscore_equities, zscore_info_ratio = select_equities(df, 'zscore', 10, df_log_returns, benchmark_rtn)"
   ],
   "metadata": {
    "collapsed": false,
    "ExecuteTime": {
     "end_time": "2023-07-05T09:36:23.636087800Z",
     "start_time": "2023-07-05T09:36:22.716090800Z"
    }
   }
  },
  {
   "cell_type": "code",
   "execution_count": 21,
   "outputs": [
    {
     "data": {
      "text/plain": "       equity        date  10_YEAR_MOVING_AVERAGE_PE  \\\n0      2HR GR  2003-01-31                        0.0   \n1      2HR GR  2003-02-28                        0.0   \n2      2HR GR  2003-03-31                        0.0   \n3      2HR GR  2003-04-30                        0.0   \n4      2HR GR  2003-05-30                        0.0   \n...       ...         ...                        ...   \n66928  ZOT SM  2011-11-30                        0.0   \n66929  ZOT SM  2011-12-30                        0.0   \n66930  ZOT SM  2012-01-31                        0.0   \n66931  ZOT SM  2012-02-29                        0.0   \n66932  ZOT SM  2012-03-30                        0.0   \n\n       5YR_AVG_RETURN_ON_EQUITY  BEST_EPS  CURRENT_EV_TO_12M_SALES  \\\n0                        0.0000     0.000                   0.5451   \n1                        0.0000     0.000                   0.5510   \n2                        0.0000     0.000                   0.5524   \n3                        0.0000     0.000                   0.5673   \n4                        0.0000     0.000                   0.5712   \n...                         ...       ...                      ...   \n66928                   96.5949     0.539                   4.6261   \n66929                   96.5949     0.547                   4.6888   \n66930                   96.5949     0.537                   4.8232   \n66931                   96.5949     0.538                   4.4738   \n66932                   96.5949     0.531                   4.2901   \n\n       CURRENT_EV_TO_T12M_EBITDA  CUR_MKT_CAP  EBITDA_MARGIN  \\\n0                         4.9943     109.5236        10.9136   \n1                         5.0486     110.6586        10.9136   \n2                         5.2982     106.8754        10.4260   \n3                         5.4410     109.7128        10.4260   \n4                         5.4791     110.4694        10.4260   \n...                          ...          ...            ...   \n66928                    13.1037    3837.7349        35.3037   \n66929                    13.2813    3889.1003        35.3037   \n66930                    13.6619    3999.1689        35.3037   \n66931                    12.6723    3712.9900        35.3037   \n66932                    12.1520    3562.5625        35.3037   \n\n       EBITDA_MARGIN_3YR_AVG  ...  T12M_DIL_PE_CONT_OPS  \\\n0                     0.0000  ...               15.9232   \n1                     0.0000  ...               16.0882   \n2                     0.0000  ...               27.7478   \n3                     0.0000  ...               28.4844   \n4                     0.0000  ...               28.6809   \n...                      ...  ...                   ...   \n66928                36.1603  ...                0.0000   \n66929                36.1603  ...                0.0000   \n66930                36.1603  ...                0.0000   \n66931                36.1603  ...                0.0000   \n66932                36.1603  ...                0.0000   \n\n       T12M_DVD_PAYOUT_RATIO  TANG_BOOK_VAL_PER_SH  \\\n0                     0.0000                1.7176   \n1                     0.0000                1.7176   \n2                     0.0000                1.7189   \n3                     0.0000                1.7189   \n4                     0.0000                1.7189   \n...                      ...                   ...   \n66928                24.0383                0.1661   \n66929                24.0383                0.1661   \n66930                24.0383                0.1661   \n66931                24.0383                0.1661   \n66932                24.0383                0.1661   \n\n       TRAIL_12M_EBITDA_PER_SHARE  TRAIL_12M_SALES_PER_SH  VOLATILITY_180D  \\\n0                          0.7867                  7.2082           38.383   \n1                          0.7867                  7.2082           39.094   \n2                          0.7478                  7.1729           42.295   \n3                          0.7478                  7.1729           38.535   \n4                          0.7478                  7.1729           33.126   \n...                           ...                     ...              ...   \n66928                      0.7691                  2.1781           27.921   \n66929                      0.7691                  2.1781           28.339   \n66930                      0.7691                  2.1781           28.832   \n66931                      0.7691                  2.1781           28.265   \n66932                      0.7691                  2.1781           28.042   \n\n       VOLATILITY_30D  VOLATILITY_90D  WACC_COST_EQUITY    zscore  \n0              39.529          32.508            6.4849 -1.007338  \n1              43.347          34.569            6.4849 -0.928497  \n2              50.877          40.056            6.3121 -0.585420  \n3              33.101          40.319            6.3121 -0.805814  \n4              15.741          35.860            6.3121 -1.058572  \n...               ...             ...               ...       ...  \n66928          30.505          33.810           11.8730 -0.399425  \n66929          29.731          31.522           11.8730 -0.399029  \n66930          19.503          27.909           11.8730 -0.598322  \n66931          21.408          24.781           11.8730 -0.649701  \n66932          17.621          23.232           11.8730 -0.786102  \n\n[66933 rows x 43 columns]",
      "text/html": "<div>\n<style scoped>\n    .dataframe tbody tr th:only-of-type {\n        vertical-align: middle;\n    }\n\n    .dataframe tbody tr th {\n        vertical-align: top;\n    }\n\n    .dataframe thead th {\n        text-align: right;\n    }\n</style>\n<table border=\"1\" class=\"dataframe\">\n  <thead>\n    <tr style=\"text-align: right;\">\n      <th></th>\n      <th>equity</th>\n      <th>date</th>\n      <th>10_YEAR_MOVING_AVERAGE_PE</th>\n      <th>5YR_AVG_RETURN_ON_EQUITY</th>\n      <th>BEST_EPS</th>\n      <th>CURRENT_EV_TO_12M_SALES</th>\n      <th>CURRENT_EV_TO_T12M_EBITDA</th>\n      <th>CUR_MKT_CAP</th>\n      <th>EBITDA_MARGIN</th>\n      <th>EBITDA_MARGIN_3YR_AVG</th>\n      <th>...</th>\n      <th>T12M_DIL_PE_CONT_OPS</th>\n      <th>T12M_DVD_PAYOUT_RATIO</th>\n      <th>TANG_BOOK_VAL_PER_SH</th>\n      <th>TRAIL_12M_EBITDA_PER_SHARE</th>\n      <th>TRAIL_12M_SALES_PER_SH</th>\n      <th>VOLATILITY_180D</th>\n      <th>VOLATILITY_30D</th>\n      <th>VOLATILITY_90D</th>\n      <th>WACC_COST_EQUITY</th>\n      <th>zscore</th>\n    </tr>\n  </thead>\n  <tbody>\n    <tr>\n      <th>0</th>\n      <td>2HR GR</td>\n      <td>2003-01-31</td>\n      <td>0.0</td>\n      <td>0.0000</td>\n      <td>0.000</td>\n      <td>0.5451</td>\n      <td>4.9943</td>\n      <td>109.5236</td>\n      <td>10.9136</td>\n      <td>0.0000</td>\n      <td>...</td>\n      <td>15.9232</td>\n      <td>0.0000</td>\n      <td>1.7176</td>\n      <td>0.7867</td>\n      <td>7.2082</td>\n      <td>38.383</td>\n      <td>39.529</td>\n      <td>32.508</td>\n      <td>6.4849</td>\n      <td>-1.007338</td>\n    </tr>\n    <tr>\n      <th>1</th>\n      <td>2HR GR</td>\n      <td>2003-02-28</td>\n      <td>0.0</td>\n      <td>0.0000</td>\n      <td>0.000</td>\n      <td>0.5510</td>\n      <td>5.0486</td>\n      <td>110.6586</td>\n      <td>10.9136</td>\n      <td>0.0000</td>\n      <td>...</td>\n      <td>16.0882</td>\n      <td>0.0000</td>\n      <td>1.7176</td>\n      <td>0.7867</td>\n      <td>7.2082</td>\n      <td>39.094</td>\n      <td>43.347</td>\n      <td>34.569</td>\n      <td>6.4849</td>\n      <td>-0.928497</td>\n    </tr>\n    <tr>\n      <th>2</th>\n      <td>2HR GR</td>\n      <td>2003-03-31</td>\n      <td>0.0</td>\n      <td>0.0000</td>\n      <td>0.000</td>\n      <td>0.5524</td>\n      <td>5.2982</td>\n      <td>106.8754</td>\n      <td>10.4260</td>\n      <td>0.0000</td>\n      <td>...</td>\n      <td>27.7478</td>\n      <td>0.0000</td>\n      <td>1.7189</td>\n      <td>0.7478</td>\n      <td>7.1729</td>\n      <td>42.295</td>\n      <td>50.877</td>\n      <td>40.056</td>\n      <td>6.3121</td>\n      <td>-0.585420</td>\n    </tr>\n    <tr>\n      <th>3</th>\n      <td>2HR GR</td>\n      <td>2003-04-30</td>\n      <td>0.0</td>\n      <td>0.0000</td>\n      <td>0.000</td>\n      <td>0.5673</td>\n      <td>5.4410</td>\n      <td>109.7128</td>\n      <td>10.4260</td>\n      <td>0.0000</td>\n      <td>...</td>\n      <td>28.4844</td>\n      <td>0.0000</td>\n      <td>1.7189</td>\n      <td>0.7478</td>\n      <td>7.1729</td>\n      <td>38.535</td>\n      <td>33.101</td>\n      <td>40.319</td>\n      <td>6.3121</td>\n      <td>-0.805814</td>\n    </tr>\n    <tr>\n      <th>4</th>\n      <td>2HR GR</td>\n      <td>2003-05-30</td>\n      <td>0.0</td>\n      <td>0.0000</td>\n      <td>0.000</td>\n      <td>0.5712</td>\n      <td>5.4791</td>\n      <td>110.4694</td>\n      <td>10.4260</td>\n      <td>0.0000</td>\n      <td>...</td>\n      <td>28.6809</td>\n      <td>0.0000</td>\n      <td>1.7189</td>\n      <td>0.7478</td>\n      <td>7.1729</td>\n      <td>33.126</td>\n      <td>15.741</td>\n      <td>35.860</td>\n      <td>6.3121</td>\n      <td>-1.058572</td>\n    </tr>\n    <tr>\n      <th>...</th>\n      <td>...</td>\n      <td>...</td>\n      <td>...</td>\n      <td>...</td>\n      <td>...</td>\n      <td>...</td>\n      <td>...</td>\n      <td>...</td>\n      <td>...</td>\n      <td>...</td>\n      <td>...</td>\n      <td>...</td>\n      <td>...</td>\n      <td>...</td>\n      <td>...</td>\n      <td>...</td>\n      <td>...</td>\n      <td>...</td>\n      <td>...</td>\n      <td>...</td>\n      <td>...</td>\n    </tr>\n    <tr>\n      <th>66928</th>\n      <td>ZOT SM</td>\n      <td>2011-11-30</td>\n      <td>0.0</td>\n      <td>96.5949</td>\n      <td>0.539</td>\n      <td>4.6261</td>\n      <td>13.1037</td>\n      <td>3837.7349</td>\n      <td>35.3037</td>\n      <td>36.1603</td>\n      <td>...</td>\n      <td>0.0000</td>\n      <td>24.0383</td>\n      <td>0.1661</td>\n      <td>0.7691</td>\n      <td>2.1781</td>\n      <td>27.921</td>\n      <td>30.505</td>\n      <td>33.810</td>\n      <td>11.8730</td>\n      <td>-0.399425</td>\n    </tr>\n    <tr>\n      <th>66929</th>\n      <td>ZOT SM</td>\n      <td>2011-12-30</td>\n      <td>0.0</td>\n      <td>96.5949</td>\n      <td>0.547</td>\n      <td>4.6888</td>\n      <td>13.2813</td>\n      <td>3889.1003</td>\n      <td>35.3037</td>\n      <td>36.1603</td>\n      <td>...</td>\n      <td>0.0000</td>\n      <td>24.0383</td>\n      <td>0.1661</td>\n      <td>0.7691</td>\n      <td>2.1781</td>\n      <td>28.339</td>\n      <td>29.731</td>\n      <td>31.522</td>\n      <td>11.8730</td>\n      <td>-0.399029</td>\n    </tr>\n    <tr>\n      <th>66930</th>\n      <td>ZOT SM</td>\n      <td>2012-01-31</td>\n      <td>0.0</td>\n      <td>96.5949</td>\n      <td>0.537</td>\n      <td>4.8232</td>\n      <td>13.6619</td>\n      <td>3999.1689</td>\n      <td>35.3037</td>\n      <td>36.1603</td>\n      <td>...</td>\n      <td>0.0000</td>\n      <td>24.0383</td>\n      <td>0.1661</td>\n      <td>0.7691</td>\n      <td>2.1781</td>\n      <td>28.832</td>\n      <td>19.503</td>\n      <td>27.909</td>\n      <td>11.8730</td>\n      <td>-0.598322</td>\n    </tr>\n    <tr>\n      <th>66931</th>\n      <td>ZOT SM</td>\n      <td>2012-02-29</td>\n      <td>0.0</td>\n      <td>96.5949</td>\n      <td>0.538</td>\n      <td>4.4738</td>\n      <td>12.6723</td>\n      <td>3712.9900</td>\n      <td>35.3037</td>\n      <td>36.1603</td>\n      <td>...</td>\n      <td>0.0000</td>\n      <td>24.0383</td>\n      <td>0.1661</td>\n      <td>0.7691</td>\n      <td>2.1781</td>\n      <td>28.265</td>\n      <td>21.408</td>\n      <td>24.781</td>\n      <td>11.8730</td>\n      <td>-0.649701</td>\n    </tr>\n    <tr>\n      <th>66932</th>\n      <td>ZOT SM</td>\n      <td>2012-03-30</td>\n      <td>0.0</td>\n      <td>96.5949</td>\n      <td>0.531</td>\n      <td>4.2901</td>\n      <td>12.1520</td>\n      <td>3562.5625</td>\n      <td>35.3037</td>\n      <td>36.1603</td>\n      <td>...</td>\n      <td>0.0000</td>\n      <td>24.0383</td>\n      <td>0.1661</td>\n      <td>0.7691</td>\n      <td>2.1781</td>\n      <td>28.042</td>\n      <td>17.621</td>\n      <td>23.232</td>\n      <td>11.8730</td>\n      <td>-0.786102</td>\n    </tr>\n  </tbody>\n</table>\n<p>66933 rows × 43 columns</p>\n</div>"
     },
     "execution_count": 21,
     "metadata": {},
     "output_type": "execute_result"
    }
   ],
   "source": [
    "df"
   ],
   "metadata": {
    "collapsed": false,
    "ExecuteTime": {
     "end_time": "2023-07-05T09:41:19.298516600Z",
     "start_time": "2023-07-05T09:41:19.216497300Z"
    }
   }
  },
  {
   "cell_type": "code",
   "execution_count": 19,
   "outputs": [
    {
     "data": {
      "text/plain": "0.8978267783676801"
     },
     "execution_count": 19,
     "metadata": {},
     "output_type": "execute_result"
    }
   ],
   "source": [
    "zscore_info_ratio"
   ],
   "metadata": {
    "collapsed": false,
    "ExecuteTime": {
     "end_time": "2023-07-05T09:36:26.444261800Z",
     "start_time": "2023-07-05T09:36:26.423261500Z"
    }
   }
  },
  {
   "cell_type": "code",
   "execution_count": 20,
   "outputs": [
    {
     "data": {
      "text/plain": "                  0        1         2        3        4        5       6  \\\n2003-02-28   COX FP   PIC BB  RAP1V FH   ANZ GR  HEIA NA  HEIO NA  SAZ GR   \n2003-03-31  HEIA NA   PIC BB    TFI FP   ANZ GR  HEIO NA  MOBB BB  REN NA   \n2003-04-30   ANZ GR   BOL FP    TFI FP   SAN FP   PIC BB   PUM GR  SAP GR   \n2003-05-30   MDN GR  MOBB BB    PIC BB   OHB GR   SPA BB   SAZ GR  RHK GR   \n2003-06-30   SPA BB   MDN GR    ANZ GR   PIC BB  HEIA NA   SAZ GR  SAP GR   \n...             ...      ...       ...      ...      ...      ...     ...   \n2011-11-30    PC IM   SZU GR    DLG IM   WET GR   KUL GR   TPL GR  BVB GR   \n2011-12-30   SZU GR   OLE SM    VID SM    PC IM   BVB GR   DLG IM  WET GR   \n2012-01-31   OLE SM   DLG IM    PRC FP   TCH FP    PC IM   BVB GR  VID SM   \n2012-02-29   BVB GR    PC IM    OLE SM   DUE GR   TCH FP   VID SM  DLG IM   \n2012-03-30    PC IM   DUE GR    EAD FP  SCUN GR   VID SM  FLUX BB  DLG IM   \n\n                  7        8         9  returns     alpha  \n2003-02-28   SAN FP   MUK GR    MDN GR    -2.16 -2.105722  \n2003-03-31   SAN FP   SPA BB  RAP1V FH     0.03  0.055749  \n2003-04-30   SPA BB   LPK GR    LEI GR     2.17  2.059852  \n2003-05-30   TFI FP   PUM GR    LPK GR     1.03  0.991772  \n2003-06-30   BZU IM   TNG FP    OLG GR     0.52  0.472080  \n...             ...      ...       ...      ...       ...  \n2011-11-30  LCA1 GR   BOS GR    DUE GR     0.42  0.475321  \n2011-12-30   TPL GR  JUVE IM    KUL GR     0.09  0.098528  \n2012-01-31  LCA1 GR   RMS FP    DUE GR     1.75  1.678777  \n2012-02-29   RMS FP   PNL NA   SCUN GR     1.01  0.963640  \n2012-03-30   BVB GR   BOS GR    OLE SM     0.72  0.715087  \n\n[110 rows x 12 columns]",
      "text/html": "<div>\n<style scoped>\n    .dataframe tbody tr th:only-of-type {\n        vertical-align: middle;\n    }\n\n    .dataframe tbody tr th {\n        vertical-align: top;\n    }\n\n    .dataframe thead th {\n        text-align: right;\n    }\n</style>\n<table border=\"1\" class=\"dataframe\">\n  <thead>\n    <tr style=\"text-align: right;\">\n      <th></th>\n      <th>0</th>\n      <th>1</th>\n      <th>2</th>\n      <th>3</th>\n      <th>4</th>\n      <th>5</th>\n      <th>6</th>\n      <th>7</th>\n      <th>8</th>\n      <th>9</th>\n      <th>returns</th>\n      <th>alpha</th>\n    </tr>\n  </thead>\n  <tbody>\n    <tr>\n      <th>2003-02-28</th>\n      <td>COX FP</td>\n      <td>PIC BB</td>\n      <td>RAP1V FH</td>\n      <td>ANZ GR</td>\n      <td>HEIA NA</td>\n      <td>HEIO NA</td>\n      <td>SAZ GR</td>\n      <td>SAN FP</td>\n      <td>MUK GR</td>\n      <td>MDN GR</td>\n      <td>-2.16</td>\n      <td>-2.105722</td>\n    </tr>\n    <tr>\n      <th>2003-03-31</th>\n      <td>HEIA NA</td>\n      <td>PIC BB</td>\n      <td>TFI FP</td>\n      <td>ANZ GR</td>\n      <td>HEIO NA</td>\n      <td>MOBB BB</td>\n      <td>REN NA</td>\n      <td>SAN FP</td>\n      <td>SPA BB</td>\n      <td>RAP1V FH</td>\n      <td>0.03</td>\n      <td>0.055749</td>\n    </tr>\n    <tr>\n      <th>2003-04-30</th>\n      <td>ANZ GR</td>\n      <td>BOL FP</td>\n      <td>TFI FP</td>\n      <td>SAN FP</td>\n      <td>PIC BB</td>\n      <td>PUM GR</td>\n      <td>SAP GR</td>\n      <td>SPA BB</td>\n      <td>LPK GR</td>\n      <td>LEI GR</td>\n      <td>2.17</td>\n      <td>2.059852</td>\n    </tr>\n    <tr>\n      <th>2003-05-30</th>\n      <td>MDN GR</td>\n      <td>MOBB BB</td>\n      <td>PIC BB</td>\n      <td>OHB GR</td>\n      <td>SPA BB</td>\n      <td>SAZ GR</td>\n      <td>RHK GR</td>\n      <td>TFI FP</td>\n      <td>PUM GR</td>\n      <td>LPK GR</td>\n      <td>1.03</td>\n      <td>0.991772</td>\n    </tr>\n    <tr>\n      <th>2003-06-30</th>\n      <td>SPA BB</td>\n      <td>MDN GR</td>\n      <td>ANZ GR</td>\n      <td>PIC BB</td>\n      <td>HEIA NA</td>\n      <td>SAZ GR</td>\n      <td>SAP GR</td>\n      <td>BZU IM</td>\n      <td>TNG FP</td>\n      <td>OLG GR</td>\n      <td>0.52</td>\n      <td>0.472080</td>\n    </tr>\n    <tr>\n      <th>...</th>\n      <td>...</td>\n      <td>...</td>\n      <td>...</td>\n      <td>...</td>\n      <td>...</td>\n      <td>...</td>\n      <td>...</td>\n      <td>...</td>\n      <td>...</td>\n      <td>...</td>\n      <td>...</td>\n      <td>...</td>\n    </tr>\n    <tr>\n      <th>2011-11-30</th>\n      <td>PC IM</td>\n      <td>SZU GR</td>\n      <td>DLG IM</td>\n      <td>WET GR</td>\n      <td>KUL GR</td>\n      <td>TPL GR</td>\n      <td>BVB GR</td>\n      <td>LCA1 GR</td>\n      <td>BOS GR</td>\n      <td>DUE GR</td>\n      <td>0.42</td>\n      <td>0.475321</td>\n    </tr>\n    <tr>\n      <th>2011-12-30</th>\n      <td>SZU GR</td>\n      <td>OLE SM</td>\n      <td>VID SM</td>\n      <td>PC IM</td>\n      <td>BVB GR</td>\n      <td>DLG IM</td>\n      <td>WET GR</td>\n      <td>TPL GR</td>\n      <td>JUVE IM</td>\n      <td>KUL GR</td>\n      <td>0.09</td>\n      <td>0.098528</td>\n    </tr>\n    <tr>\n      <th>2012-01-31</th>\n      <td>OLE SM</td>\n      <td>DLG IM</td>\n      <td>PRC FP</td>\n      <td>TCH FP</td>\n      <td>PC IM</td>\n      <td>BVB GR</td>\n      <td>VID SM</td>\n      <td>LCA1 GR</td>\n      <td>RMS FP</td>\n      <td>DUE GR</td>\n      <td>1.75</td>\n      <td>1.678777</td>\n    </tr>\n    <tr>\n      <th>2012-02-29</th>\n      <td>BVB GR</td>\n      <td>PC IM</td>\n      <td>OLE SM</td>\n      <td>DUE GR</td>\n      <td>TCH FP</td>\n      <td>VID SM</td>\n      <td>DLG IM</td>\n      <td>RMS FP</td>\n      <td>PNL NA</td>\n      <td>SCUN GR</td>\n      <td>1.01</td>\n      <td>0.963640</td>\n    </tr>\n    <tr>\n      <th>2012-03-30</th>\n      <td>PC IM</td>\n      <td>DUE GR</td>\n      <td>EAD FP</td>\n      <td>SCUN GR</td>\n      <td>VID SM</td>\n      <td>FLUX BB</td>\n      <td>DLG IM</td>\n      <td>BVB GR</td>\n      <td>BOS GR</td>\n      <td>OLE SM</td>\n      <td>0.72</td>\n      <td>0.715087</td>\n    </tr>\n  </tbody>\n</table>\n<p>110 rows × 12 columns</p>\n</div>"
     },
     "execution_count": 20,
     "metadata": {},
     "output_type": "execute_result"
    }
   ],
   "source": [
    "zscore_equities"
   ],
   "metadata": {
    "collapsed": false,
    "ExecuteTime": {
     "end_time": "2023-07-05T09:41:08.039779900Z",
     "start_time": "2023-07-05T09:41:07.994752Z"
    }
   }
  },
  {
   "cell_type": "code",
   "execution_count": null,
   "outputs": [],
   "source": [],
   "metadata": {
    "collapsed": false
   }
  }
 ],
 "metadata": {
  "kernelspec": {
   "display_name": "base",
   "language": "python",
   "name": "python3"
  },
  "language_info": {
   "codemirror_mode": {
    "name": "ipython",
    "version": 3
   },
   "file_extension": ".py",
   "mimetype": "text/x-python",
   "name": "python",
   "nbconvert_exporter": "python",
   "pygments_lexer": "ipython3",
   "version": "3.9.12"
  },
  "orig_nbformat": 4
 },
 "nbformat": 4,
 "nbformat_minor": 2
}
