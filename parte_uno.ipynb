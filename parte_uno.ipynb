{
 "cells": [
  {
   "cell_type": "code",
   "execution_count": 8,
   "metadata": {
    "ExecuteTime": {
     "end_time": "2023-06-21T09:40:10.871035800Z",
     "start_time": "2023-06-21T09:40:10.805034900Z"
    }
   },
   "outputs": [],
   "source": [
    "import pandas as pd\n",
    "import numpy as np\n",
    "\n",
    "import warnings\n",
    "warnings.filterwarnings(\"ignore\")"
   ]
  },
  {
   "attachments": {},
   "cell_type": "markdown",
   "metadata": {},
   "source": [
    "# Functions"
   ]
  },
  {
   "attachments": {},
   "cell_type": "markdown",
   "metadata": {
    "collapsed": false
   },
   "source": [
    "**Function** \\\n",
    "get_factor: for each date, selected the best equities by the factor chosen \\\n",
    "**Attributes** \\\n",
    "df: original dataset \\\n",
    "factor_name: name of factor \\\n",
    "number_of_equities: number of equities to select"
   ]
  },
  {
   "cell_type": "code",
   "execution_count": 10,
   "metadata": {
    "ExecuteTime": {
     "end_time": "2023-06-21T09:40:12.928554600Z",
     "start_time": "2023-06-21T09:40:12.292560800Z"
    },
    "collapsed": false
   },
   "outputs": [],
   "source": [
    "def get_factor(df, factor_name, number_of_equities):   \n",
    "    temp_dict = {}\n",
    "\n",
    "    # Get all dates in order\n",
    "    dates = list(set(df['date']))\n",
    "\n",
    "    # Get the top 10 equities for each date\n",
    "    for date in dates:\n",
    "        temp_dict[date] =  df.loc[df['date'] == date].sort_values(by=['date',factor_name], ascending=False)['equity'].head(number_of_equities).values\n",
    "\n",
    "    # Create a dataframe with the top 10 equities for each date\n",
    "    df_factor_chosen = pd.DataFrame.from_dict(temp_dict, orient='index').sort_index()\n",
    "\n",
    "    return df_factor_chosen"
   ]
  },
  {
   "attachments": {},
   "cell_type": "markdown",
   "metadata": {
    "collapsed": false
   },
   "source": [
    "df_returns: dataframe with date and price for each equity"
   ]
  },
  {
   "cell_type": "code",
   "execution_count": 11,
   "metadata": {
    "ExecuteTime": {
     "end_time": "2023-06-21T09:40:13.003558800Z",
     "start_time": "2023-06-21T09:40:12.933555400Z"
    },
    "collapsed": false
   },
   "outputs": [],
   "source": [
    "def df_returns(df):\n",
    "    # Select only equities, date and price\n",
    "    df_returns = df[['equity','date','PX_LAST']]\n",
    "    # Sort by equity and date\n",
    "    df_returns.sort_values(by=['equity','date'], inplace=True)\n",
    "    # Put the column price as a value of the pivot table\n",
    "    df_returns = df_returns.pivot(index='date', columns='equity', values='PX_LAST')\n",
    "    return df_returns"
   ]
  },
  {
   "cell_type": "markdown",
   "metadata": {
    "collapsed": false
   },
   "source": [
    "df_log_returns: log returns for each equity by doing log( price(t) / price(t+1) )"
   ]
  },
  {
   "cell_type": "code",
   "execution_count": 12,
   "metadata": {
    "ExecuteTime": {
     "end_time": "2023-06-21T09:40:13.207555Z",
     "start_time": "2023-06-21T09:40:12.993555500Z"
    },
    "collapsed": false
   },
   "outputs": [],
   "source": [
    "# Get the log returns\n",
    "df_log_returns = df_returns[df_returns.columns].apply(lambda x: np.log(x / x.shift(1)))\n",
    "\n",
    "# Get the benchmark of returns\n",
    "benchmark_returns = df_log_returns.dropna(how='all').mean(skipna=True, axis='columns')"
   ]
  },
  {
   "attachments": {},
   "cell_type": "markdown",
   "metadata": {
    "collapsed": false
   },
   "source": [
    "**Function** \\\n",
    "returns_of_factor: add a column into the df with the returns of each row (date) \\\n",
    "\n",
    "**Attributes** \\\n",
    "df_factor_chosen: df with the best n equities for each date by a factor choosen before \\\n",
    "df_log_returns: "
   ]
  },
  {
   "cell_type": "code",
   "execution_count": 13,
   "metadata": {
    "ExecuteTime": {
     "end_time": "2023-06-21T09:40:13.313552300Z",
     "start_time": "2023-06-21T09:40:13.284556600Z"
    },
    "collapsed": false
   },
   "outputs": [],
   "source": [
    "def returns_without_fees(df_factor_chosen, df_log_returns):\n",
    "    sum_row_returns = 0\n",
    "    list_sum_row_returns = []\n",
    "    for index, row in df_factor_chosen.iterrows():\n",
    "        for equity in row:\n",
    "            sum_row_returns += np.nansum(df_log_returns.loc[index][equity])\n",
    "        list_sum_row_returns.append(round(sum_row_returns,2))\n",
    "        sum_row_returns = 0\n",
    "\n",
    "    df_factor_chosen_returns['returns'] = list_sum_row_returns\n",
    "    df_factor_chosen_returns = df_factor_chosen_returns.iloc[1:,:]\n",
    "    return df_factor_chosen_returns"
   ]
  },
  {
   "cell_type": "code",
   "execution_count": null,
   "metadata": {},
   "outputs": [],
   "source": [
    "def returns_with_fees(df_factor_chosen, df_log_returns, commission_fee):\n",
    "    sum_row_returns = 0\n",
    "    list_sum_row_returns = []\n",
    "    for index, row in df_factor_chosen.iterrows():\n",
    "        for equity in row:           \n",
    "            rtn_before_commission = np.nansum(df_log_returns.loc[index][equity])\n",
    "            #print(rtn_before_commission)\n",
    "            rtn_after_commission = rtn_before_commission - commission_fee * (1 + rtn_before_commission)\n",
    "            #print(rtn_after_commission)\n",
    "            sum_row_returns += rtn_after_commission\n",
    "\n",
    "        list_sum_row_returns.append(round(sum_row_returns,2))\n",
    "        sum_row_returns = 0\n",
    "\n",
    "    df_factor_chosen_returns['returns'] = list_sum_row_returns\n",
    "    df_factor_chosen_returns = df_factor_chosen_returns.iloc[1:,:]\n",
    "\n",
    "    return df_factor_chosen_returns"
   ]
  },
  {
   "attachments": {},
   "cell_type": "markdown",
   "metadata": {},
   "source": [
    "**Function** \\\n",
    "get_information_ratio: returns the information ratio of the chosen factor \\\n",
    "**Attributes** \\\n",
    "df_factor_chosen_returns: df given by the function returns_of_factor \\\n",
    "benchmark_returns: "
   ]
  },
  {
   "cell_type": "code",
   "execution_count": 14,
   "metadata": {
    "ExecuteTime": {
     "end_time": "2023-06-21T09:40:13.327553700Z",
     "start_time": "2023-06-21T09:40:13.306553700Z"
    },
    "collapsed": false
   },
   "outputs": [
    {
     "data": {
      "text/plain": [
       "0.1583179104925697"
      ]
     },
     "execution_count": 14,
     "metadata": {},
     "output_type": "execute_result"
    }
   ],
   "source": [
    "def get_information_ratio(df_factor_chosen_returns, benchmark_returns):\n",
    "    df_factor_chosen_returns['alpha'] = df_factor_chosen_returns['returns'] - benchmark_returns\n",
    "    information_ratio = df_factor_chosen_returns['alpha'].mean() / df_factor_chosen_returns['alpha'].std()\n",
    "    \n",
    "    return information_ratio"
   ]
  },
  {
   "attachments": {},
   "cell_type": "markdown",
   "metadata": {},
   "source": [
    "# MAIN PREVIEW"
   ]
  },
  {
   "attachments": {},
   "cell_type": "markdown",
   "metadata": {},
   "source": [
    "## General (one time execution)"
   ]
  },
  {
   "cell_type": "code",
   "execution_count": null,
   "metadata": {},
   "outputs": [],
   "source": [
    "# Read the data\n",
    "df = pd.read_csv('data/data.csv').set_index(['equity', 'date'])\n",
    "\n",
    "# Get the returns\n",
    "df_returns = df_returns(df)\n",
    "\n",
    "# Get the log returns\n",
    "df_log_returns = df_returns[df_returns.columns].apply(lambda x: np.log(x / x.shift(1)))\n",
    "\n",
    "# Get the benchmark of returns\n",
    "benchmark_returns = df_log_returns.dropna(how='all').mean(skipna=True, axis='columns')"
   ]
  },
  {
   "attachments": {},
   "cell_type": "markdown",
   "metadata": {},
   "source": [
    "## Factors"
   ]
  },
  {
   "cell_type": "code",
   "execution_count": null,
   "metadata": {},
   "outputs": [],
   "source": [
    "# Choose factor and number of equities\n",
    "factor_name = 'EBITDA_MARGIN'\n",
    "number_of_equities = 10\n",
    "\n",
    "# df chosen factor\n",
    "df_factor = get_factor(df, factor_name, number_of_equities)"
   ]
  },
  {
   "attachments": {},
   "cell_type": "markdown",
   "metadata": {},
   "source": [
    "### No fees"
   ]
  },
  {
   "cell_type": "code",
   "execution_count": null,
   "metadata": {},
   "outputs": [],
   "source": [
    "# Get the returns of the factor by each date\n",
    "df_factor_returns = returns_without_fees(df_factor, df_log_returns)\n",
    "\n",
    "# Get the information ratio\n",
    "information_ratio = get_information_ratio(df_factor_returns, benchmark_returns)"
   ]
  },
  {
   "attachments": {},
   "cell_type": "markdown",
   "metadata": {},
   "source": [
    "### Fees "
   ]
  },
  {
   "cell_type": "code",
   "execution_count": null,
   "metadata": {},
   "outputs": [],
   "source": [
    "# Set the commission fee\n",
    "commission_fee = 0.002\n",
    "\n",
    "# Get the returns of the factor by each date\n",
    "df_factor_returns = returns_with_fees(df_factor, df_log_returns, commission_fee)\n",
    "\n",
    "# Get the information ratio\n",
    "information_ratio = get_information_ratio(df_factor_returns, benchmark_returns)"
   ]
  }
 ],
 "metadata": {
  "kernelspec": {
   "display_name": "base",
   "language": "python",
   "name": "python3"
  },
  "language_info": {
   "codemirror_mode": {
    "name": "ipython",
    "version": 3
   },
   "file_extension": ".py",
   "mimetype": "text/x-python",
   "name": "python",
   "nbconvert_exporter": "python",
   "pygments_lexer": "ipython3",
   "version": "3.10.11"
  },
  "orig_nbformat": 4
 },
 "nbformat": 4,
 "nbformat_minor": 2
}
