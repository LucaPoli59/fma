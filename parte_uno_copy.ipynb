{
 "cells": [
  {
   "cell_type": "code",
   "execution_count": 1,
   "metadata": {
    "ExecuteTime": {
     "start_time": "2023-06-21T21:52:35.184333Z",
     "end_time": "2023-06-21T21:52:36.270035Z"
    }
   },
   "outputs": [],
   "source": [
    "import pandas as pd\n",
    "import numpy as np\n",
    "\n",
    "import warnings\n",
    "warnings.filterwarnings(\"ignore\")"
   ]
  },
  {
   "cell_type": "code",
   "execution_count": 2,
   "metadata": {
    "ExecuteTime": {
     "start_time": "2023-06-21T21:52:36.270035Z",
     "end_time": "2023-06-21T21:52:36.716184Z"
    }
   },
   "outputs": [],
   "source": [
    "df = pd.read_csv('data/data.csv').set_index(['equity','date'])"
   ]
  },
  {
   "cell_type": "code",
   "execution_count": 3,
   "outputs": [],
   "source": [
    "df_prices = df['PX_LAST'].unstack(level=0).replace(0, np.nan)\n",
    "df_log_rtn = df_prices.apply(lambda x: np.log(x / x.shift(1))).dropna(how='all')"
   ],
   "metadata": {
    "collapsed": false
   }
  },
  {
   "cell_type": "code",
   "execution_count": 4,
   "outputs": [],
   "source": [
    "benchmark_rtn = df_log_rtn.mean(skipna=True, axis='columns')"
   ],
   "metadata": {
    "collapsed": false,
    "ExecuteTime": {
     "start_time": "2023-06-21T21:52:37.097840Z",
     "end_time": "2023-06-21T21:52:37.114264Z"
    }
   }
  },
  {
   "cell_type": "code",
   "execution_count": 6,
   "outputs": [],
   "source": [
    "def select_best_equities_from_factor(df_full, df_rnt, factor_selected, num_equities):\n",
    "    df_factor_values = df_full[factor_selected].unstack(level=0).iloc[1:]\n",
    "    equities =  df_factor_values.apply(\n",
    "        lambda fact_val: fact_val.loc[~df_rnt.loc[fact_val.name, fact_val.index].isna()\n",
    "        ].sort_values(ascending=False).head(num_equities).index.values,\n",
    "        axis='columns', result_type='expand')\n",
    "    equities.columns = [str(i) + \"_name\" for i in range(len(equities.columns))]\n",
    "    return equities\n",
    "\n",
    "def compute_return_from_equities(df_rtn, equities):\n",
    "    equities_rtn = equities.apply(lambda row: df_rtn.loc[row.name, row.values].values, axis='columns', result_type='expand')\n",
    "    equities_rtn.columns = [str(i) + \"_rtn\" for i in range(len(equities_rtn.columns))]\n",
    "    equities_rtn.columns.name = 'equity_rtn'\n",
    "    return equities_rtn\n",
    "\n",
    "def compute_univariate_strategy(df_full, df_rtn, factor_selected, num_equities, market_rtn):\n",
    "    equities_names = select_best_equities_from_factor(df_full, df_rtn, factor_selected, num_equities)\n",
    "    equities_rtn = compute_return_from_equities(df_rtn, equities_names)\n",
    "\n",
    "    equities = equities_names.merge(equities_rtn, left_index=True, right_index=True)\n",
    "    equities = equities.iloc[:, np.concatenate([[i, i + num_equities] for i in range(num_equities)])]\n",
    "    equities.columns = pd.MultiIndex.from_product([range(num_equities), ['name', 'rtn']])\n",
    "    equities.columns.names = ['equity_pos', 'info']\n",
    "\n",
    "    ris = equities.apply(lambda row: np.average(row.loc[:, \"rtn\"].values), axis='columns').to_frame(name='strategy_rtn')\n",
    "    ris['strategy_alpha'] = ris['strategy_rtn'] - market_rtn\n",
    "    info_ratio = ris['strategy_alpha'].mean() / ris['strategy_alpha'].std()\n",
    "    return equities, ris, info_ratio"
   ],
   "metadata": {
    "collapsed": false,
    "ExecuteTime": {
     "start_time": "2023-06-21T21:53:31.707785Z",
     "end_time": "2023-06-21T21:53:31.716308Z"
    }
   }
  },
  {
   "cell_type": "code",
   "execution_count": 7,
   "outputs": [],
   "source": [
    "strategy_eq, strategy_ris, strategy_info_rate = compute_univariate_strategy(df, df_log_rtn, 'EBITDA_MARGIN', 10, benchmark_rtn)"
   ],
   "metadata": {
    "collapsed": false,
    "ExecuteTime": {
     "start_time": "2023-06-21T21:54:57.134266Z",
     "end_time": "2023-06-21T21:54:57.327026Z"
    }
   }
  },
  {
   "cell_type": "code",
   "execution_count": 8,
   "outputs": [
    {
     "data": {
      "text/plain": "0.15626892318432908"
     },
     "execution_count": 8,
     "metadata": {},
     "output_type": "execute_result"
    }
   ],
   "source": [
    "strategy_info_rate"
   ],
   "metadata": {
    "collapsed": false,
    "ExecuteTime": {
     "start_time": "2023-06-21T21:54:58.435415Z",
     "end_time": "2023-06-21T21:54:58.455497Z"
    }
   }
  },
  {
   "cell_type": "code",
   "execution_count": 9,
   "outputs": [
    {
     "data": {
      "text/plain": "equity_pos       0                 1                  2                 3  \\\ninfo          name       rtn    name       rtn     name       rtn    name   \ndate                                                                        \n2003-02-28  RCH GR -0.033907  SIS IM  0.108965    AT IM  0.001857  TIT IM   \n2003-03-31  RCH GR  0.000000  SIS IM  0.026688    AT IM  0.014626  TIT IM   \n2003-04-30  RCH GR  0.000000  SIS IM  0.035347    AT IM  0.053093  TIT IM   \n2003-05-30  RCH GR  0.082688  SIS IM  0.113437    AT IM  0.050125  TIT IM   \n2003-06-30  RCH GR  0.015751  SIS IM  0.124420    AT IM  0.020261  TIT IM   \n...            ...       ...     ...       ...      ...       ...     ...   \n2011-11-30  TUB BB -0.049611  EUR FP -0.170958  HENX BB -0.142322  EIS GR   \n2011-12-30  TUB BB  0.045912  EUR FP -0.038001  HENX BB  0.040209  EIS GR   \n2012-01-31  TUB BB -0.045912  EUR FP  0.131769  HENX BB  0.046543  EIS GR   \n2012-02-29  TUB BB -0.039566  EUR FP -0.012423  HENX BB  0.041964  EIS GR   \n2012-03-30  TUB BB  0.118679  EUR FP -0.041473  HENX BB -0.021928  EIS GR   \n\nequity_pos                  4                 5                  6            \\\ninfo             rtn     name       rtn    name       rtn     name       rtn   \ndate                                                                           \n2003-02-28 -0.065044   TEF SM  0.002220  SAN FP  0.019742   KPN NA -0.059955   \n2003-03-31  0.058836   TEF SM -0.029151  KPN NA -0.044895  DYK3 GR  0.029117   \n2003-04-30  0.073684   TEF SM  0.145280  KPN NA  0.013514  DYK3 GR  0.447963   \n2003-05-30  0.053519   TEF SM -0.037006  KPN NA -0.005046  DYK3 GR  0.113228   \n2003-06-30  0.020278   TEF SM  0.056980  KPN NA  0.039675  DYK3 GR  0.261201   \n...              ...      ...       ...     ...       ...      ...       ...   \n2011-11-30 -0.114880   RCH GR -0.040274  MUK GR  0.019315   ETL FP -0.034422   \n2011-12-30  0.109049  O1BC GR -0.200626  RCH GR  0.231329   MUK GR -0.014737   \n2012-01-31 -0.005865  O1BC GR  0.124446  RCH GR -0.139762   MUK GR -0.021548   \n2012-02-29  0.019418  O1BC GR  0.049190  RCH GR  0.093035   MUK GR -0.012919   \n2012-03-30 -0.063513  O1BC GR  0.118906  RCH GR -0.229427   MUK GR  0.024135   \n\nequity_pos        7                   8                   9            \ninfo           name       rtn      name       rtn      name       rtn  \ndate                                                                   \n2003-02-28   GEM IM  0.071534    VPK NA -0.086626  MLHMC FP -0.016807  \n2003-03-31   SAN FP -0.073364    GEM IM  0.012360    VPK NA -0.047784  \n2003-04-30   SAN FP  0.147717    GEM IM  0.075772    VPK NA  0.017825  \n2003-05-30   SAN FP  0.016698    GEM IM -0.037410    VPK NA  0.104284  \n2003-06-30   SAN FP -0.063619    FTE FP  0.016522    ELG GR -0.055489  \n...             ...       ...       ...       ...       ...       ...  \n2011-11-30   MAU FP -0.021115  SMTPC FP  0.005797   SESG FP -0.011143  \n2011-12-30  FLUX BB  0.013859    ETL FP  0.044422    MAU FP -0.017566  \n2012-01-31  FLUX BB -0.005279    ETL FP -0.060676    MAU FP  0.077292  \n2012-02-29  FLUX BB  0.008824    ETL FP -0.013661    MAU FP  0.113708  \n2012-03-30  FLUX BB  0.133619    ETL FP -0.009693    MAU FP -0.076624  \n\n[110 rows x 20 columns]",
      "text/html": "<div>\n<style scoped>\n    .dataframe tbody tr th:only-of-type {\n        vertical-align: middle;\n    }\n\n    .dataframe tbody tr th {\n        vertical-align: top;\n    }\n\n    .dataframe thead tr th {\n        text-align: left;\n    }\n\n    .dataframe thead tr:last-of-type th {\n        text-align: right;\n    }\n</style>\n<table border=\"1\" class=\"dataframe\">\n  <thead>\n    <tr>\n      <th>equity_pos</th>\n      <th colspan=\"2\" halign=\"left\">0</th>\n      <th colspan=\"2\" halign=\"left\">1</th>\n      <th colspan=\"2\" halign=\"left\">2</th>\n      <th colspan=\"2\" halign=\"left\">3</th>\n      <th colspan=\"2\" halign=\"left\">4</th>\n      <th colspan=\"2\" halign=\"left\">5</th>\n      <th colspan=\"2\" halign=\"left\">6</th>\n      <th colspan=\"2\" halign=\"left\">7</th>\n      <th colspan=\"2\" halign=\"left\">8</th>\n      <th colspan=\"2\" halign=\"left\">9</th>\n    </tr>\n    <tr>\n      <th>info</th>\n      <th>name</th>\n      <th>rtn</th>\n      <th>name</th>\n      <th>rtn</th>\n      <th>name</th>\n      <th>rtn</th>\n      <th>name</th>\n      <th>rtn</th>\n      <th>name</th>\n      <th>rtn</th>\n      <th>name</th>\n      <th>rtn</th>\n      <th>name</th>\n      <th>rtn</th>\n      <th>name</th>\n      <th>rtn</th>\n      <th>name</th>\n      <th>rtn</th>\n      <th>name</th>\n      <th>rtn</th>\n    </tr>\n    <tr>\n      <th>date</th>\n      <th></th>\n      <th></th>\n      <th></th>\n      <th></th>\n      <th></th>\n      <th></th>\n      <th></th>\n      <th></th>\n      <th></th>\n      <th></th>\n      <th></th>\n      <th></th>\n      <th></th>\n      <th></th>\n      <th></th>\n      <th></th>\n      <th></th>\n      <th></th>\n      <th></th>\n      <th></th>\n    </tr>\n  </thead>\n  <tbody>\n    <tr>\n      <th>2003-02-28</th>\n      <td>RCH GR</td>\n      <td>-0.033907</td>\n      <td>SIS IM</td>\n      <td>0.108965</td>\n      <td>AT IM</td>\n      <td>0.001857</td>\n      <td>TIT IM</td>\n      <td>-0.065044</td>\n      <td>TEF SM</td>\n      <td>0.002220</td>\n      <td>SAN FP</td>\n      <td>0.019742</td>\n      <td>KPN NA</td>\n      <td>-0.059955</td>\n      <td>GEM IM</td>\n      <td>0.071534</td>\n      <td>VPK NA</td>\n      <td>-0.086626</td>\n      <td>MLHMC FP</td>\n      <td>-0.016807</td>\n    </tr>\n    <tr>\n      <th>2003-03-31</th>\n      <td>RCH GR</td>\n      <td>0.000000</td>\n      <td>SIS IM</td>\n      <td>0.026688</td>\n      <td>AT IM</td>\n      <td>0.014626</td>\n      <td>TIT IM</td>\n      <td>0.058836</td>\n      <td>TEF SM</td>\n      <td>-0.029151</td>\n      <td>KPN NA</td>\n      <td>-0.044895</td>\n      <td>DYK3 GR</td>\n      <td>0.029117</td>\n      <td>SAN FP</td>\n      <td>-0.073364</td>\n      <td>GEM IM</td>\n      <td>0.012360</td>\n      <td>VPK NA</td>\n      <td>-0.047784</td>\n    </tr>\n    <tr>\n      <th>2003-04-30</th>\n      <td>RCH GR</td>\n      <td>0.000000</td>\n      <td>SIS IM</td>\n      <td>0.035347</td>\n      <td>AT IM</td>\n      <td>0.053093</td>\n      <td>TIT IM</td>\n      <td>0.073684</td>\n      <td>TEF SM</td>\n      <td>0.145280</td>\n      <td>KPN NA</td>\n      <td>0.013514</td>\n      <td>DYK3 GR</td>\n      <td>0.447963</td>\n      <td>SAN FP</td>\n      <td>0.147717</td>\n      <td>GEM IM</td>\n      <td>0.075772</td>\n      <td>VPK NA</td>\n      <td>0.017825</td>\n    </tr>\n    <tr>\n      <th>2003-05-30</th>\n      <td>RCH GR</td>\n      <td>0.082688</td>\n      <td>SIS IM</td>\n      <td>0.113437</td>\n      <td>AT IM</td>\n      <td>0.050125</td>\n      <td>TIT IM</td>\n      <td>0.053519</td>\n      <td>TEF SM</td>\n      <td>-0.037006</td>\n      <td>KPN NA</td>\n      <td>-0.005046</td>\n      <td>DYK3 GR</td>\n      <td>0.113228</td>\n      <td>SAN FP</td>\n      <td>0.016698</td>\n      <td>GEM IM</td>\n      <td>-0.037410</td>\n      <td>VPK NA</td>\n      <td>0.104284</td>\n    </tr>\n    <tr>\n      <th>2003-06-30</th>\n      <td>RCH GR</td>\n      <td>0.015751</td>\n      <td>SIS IM</td>\n      <td>0.124420</td>\n      <td>AT IM</td>\n      <td>0.020261</td>\n      <td>TIT IM</td>\n      <td>0.020278</td>\n      <td>TEF SM</td>\n      <td>0.056980</td>\n      <td>KPN NA</td>\n      <td>0.039675</td>\n      <td>DYK3 GR</td>\n      <td>0.261201</td>\n      <td>SAN FP</td>\n      <td>-0.063619</td>\n      <td>FTE FP</td>\n      <td>0.016522</td>\n      <td>ELG GR</td>\n      <td>-0.055489</td>\n    </tr>\n    <tr>\n      <th>...</th>\n      <td>...</td>\n      <td>...</td>\n      <td>...</td>\n      <td>...</td>\n      <td>...</td>\n      <td>...</td>\n      <td>...</td>\n      <td>...</td>\n      <td>...</td>\n      <td>...</td>\n      <td>...</td>\n      <td>...</td>\n      <td>...</td>\n      <td>...</td>\n      <td>...</td>\n      <td>...</td>\n      <td>...</td>\n      <td>...</td>\n      <td>...</td>\n      <td>...</td>\n    </tr>\n    <tr>\n      <th>2011-11-30</th>\n      <td>TUB BB</td>\n      <td>-0.049611</td>\n      <td>EUR FP</td>\n      <td>-0.170958</td>\n      <td>HENX BB</td>\n      <td>-0.142322</td>\n      <td>EIS GR</td>\n      <td>-0.114880</td>\n      <td>RCH GR</td>\n      <td>-0.040274</td>\n      <td>MUK GR</td>\n      <td>0.019315</td>\n      <td>ETL FP</td>\n      <td>-0.034422</td>\n      <td>MAU FP</td>\n      <td>-0.021115</td>\n      <td>SMTPC FP</td>\n      <td>0.005797</td>\n      <td>SESG FP</td>\n      <td>-0.011143</td>\n    </tr>\n    <tr>\n      <th>2011-12-30</th>\n      <td>TUB BB</td>\n      <td>0.045912</td>\n      <td>EUR FP</td>\n      <td>-0.038001</td>\n      <td>HENX BB</td>\n      <td>0.040209</td>\n      <td>EIS GR</td>\n      <td>0.109049</td>\n      <td>O1BC GR</td>\n      <td>-0.200626</td>\n      <td>RCH GR</td>\n      <td>0.231329</td>\n      <td>MUK GR</td>\n      <td>-0.014737</td>\n      <td>FLUX BB</td>\n      <td>0.013859</td>\n      <td>ETL FP</td>\n      <td>0.044422</td>\n      <td>MAU FP</td>\n      <td>-0.017566</td>\n    </tr>\n    <tr>\n      <th>2012-01-31</th>\n      <td>TUB BB</td>\n      <td>-0.045912</td>\n      <td>EUR FP</td>\n      <td>0.131769</td>\n      <td>HENX BB</td>\n      <td>0.046543</td>\n      <td>EIS GR</td>\n      <td>-0.005865</td>\n      <td>O1BC GR</td>\n      <td>0.124446</td>\n      <td>RCH GR</td>\n      <td>-0.139762</td>\n      <td>MUK GR</td>\n      <td>-0.021548</td>\n      <td>FLUX BB</td>\n      <td>-0.005279</td>\n      <td>ETL FP</td>\n      <td>-0.060676</td>\n      <td>MAU FP</td>\n      <td>0.077292</td>\n    </tr>\n    <tr>\n      <th>2012-02-29</th>\n      <td>TUB BB</td>\n      <td>-0.039566</td>\n      <td>EUR FP</td>\n      <td>-0.012423</td>\n      <td>HENX BB</td>\n      <td>0.041964</td>\n      <td>EIS GR</td>\n      <td>0.019418</td>\n      <td>O1BC GR</td>\n      <td>0.049190</td>\n      <td>RCH GR</td>\n      <td>0.093035</td>\n      <td>MUK GR</td>\n      <td>-0.012919</td>\n      <td>FLUX BB</td>\n      <td>0.008824</td>\n      <td>ETL FP</td>\n      <td>-0.013661</td>\n      <td>MAU FP</td>\n      <td>0.113708</td>\n    </tr>\n    <tr>\n      <th>2012-03-30</th>\n      <td>TUB BB</td>\n      <td>0.118679</td>\n      <td>EUR FP</td>\n      <td>-0.041473</td>\n      <td>HENX BB</td>\n      <td>-0.021928</td>\n      <td>EIS GR</td>\n      <td>-0.063513</td>\n      <td>O1BC GR</td>\n      <td>0.118906</td>\n      <td>RCH GR</td>\n      <td>-0.229427</td>\n      <td>MUK GR</td>\n      <td>0.024135</td>\n      <td>FLUX BB</td>\n      <td>0.133619</td>\n      <td>ETL FP</td>\n      <td>-0.009693</td>\n      <td>MAU FP</td>\n      <td>-0.076624</td>\n    </tr>\n  </tbody>\n</table>\n<p>110 rows × 20 columns</p>\n</div>"
     },
     "execution_count": 9,
     "metadata": {},
     "output_type": "execute_result"
    }
   ],
   "source": [
    "strategy_eq"
   ],
   "metadata": {
    "collapsed": false,
    "ExecuteTime": {
     "start_time": "2023-06-21T21:55:34.816897Z",
     "end_time": "2023-06-21T21:55:34.834252Z"
    }
   }
  }
 ],
 "metadata": {
  "kernelspec": {
   "display_name": "base",
   "language": "python",
   "name": "python3"
  },
  "language_info": {
   "codemirror_mode": {
    "name": "ipython",
    "version": 3
   },
   "file_extension": ".py",
   "mimetype": "text/x-python",
   "name": "python",
   "nbconvert_exporter": "python",
   "pygments_lexer": "ipython3",
   "version": "3.9.12"
  },
  "orig_nbformat": 4
 },
 "nbformat": 4,
 "nbformat_minor": 2
}
